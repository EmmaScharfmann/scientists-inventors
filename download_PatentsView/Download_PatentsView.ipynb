{
 "cells": [
  {
   "cell_type": "code",
   "execution_count": 3,
   "id": "8a20c4a7",
   "metadata": {},
   "outputs": [],
   "source": [
    "import pandas as pd\n",
    "from tqdm import tqdm \n",
    "import numpy as np\n",
    "import urllib\n",
    "from zipfile import ZipFile\n",
    "import psycopg2\n",
    "main_path = '/home/fs01/spec1142/Emma/GateKeepers/download_PatentsView/'\n",
    "\n",
    "f = open('/home/fs01/spec1142/Emma/GateKeepers/' + \"database.txt\", \"r\")\n",
    "user , password = f.read().split()\n"
   ]
  },
  {
   "cell_type": "markdown",
   "id": "9ef74737-1a09-47b6-b207-2b6c56aaa966",
   "metadata": {
    "jp-MarkdownHeadingCollapsed": true
   },
   "source": [
    "## Download PatentsView tables"
   ]
  },
  {
   "cell_type": "code",
   "execution_count": 3,
   "id": "e0c85909",
   "metadata": {},
   "outputs": [],
   "source": [
    "## all PatentsView tables are available at this link: \n",
    "## https://patentsview.org/download/data-download-tables\n",
    "\n",
    "patents_path = \"https://s3.amazonaws.com/data.patentsview.org/download/g_patent.tsv.zip\"\n",
    "inventors_path = \"https://s3.amazonaws.com/data.patentsview.org/download/g_inventor_disambiguated.tsv.zip\"\n",
    "locations_path = \"https://s3.amazonaws.com/data.patentsview.org/download/g_location_disambiguated.tsv.zip\"\n",
    "assignees_path = 'https://s3.amazonaws.com/data.patentsview.org/download/g_assignee_disambiguated.tsv.zip'\n",
    "US_citations_path = 'https://s3.amazonaws.com/data.patentsview.org/download/g_us_patent_citation.tsv.zip'\n",
    "wipo_path = 'https://s3.amazonaws.com/data.patentsview.org/download/g_wipo_technology.tsv.zip'\n",
    "cpc_title = 'https://s3.amazonaws.com/data.patentsview.org/download/g_cpc_title.tsv.zip'\n",
    "patent_cpcs = 'https://s3.amazonaws.com/data.patentsview.org/download/g_cpc_current.tsv.zip'\n",
    "non_patent_citations = \"https://zenodo.org/record/8169364/files/_pcs_oa.csv?download=1\"\n",
    "patent_applications = \"https://s3.amazonaws.com/data.patentsview.org/download/g_application.tsv.zip\"\n",
    "\n"
   ]
  },
  {
   "cell_type": "code",
   "execution_count": 4,
   "id": "044a73ed",
   "metadata": {},
   "outputs": [
    {
     "name": "stdout",
     "output_type": "stream",
     "text": [
      "CPU times: user 110 ms, sys: 147 ms, total: 256 ms\n",
      "Wall time: 5.12 s\n"
     ]
    },
    {
     "data": {
      "text/plain": [
       "('/home/fs01/spec1142/Emma/Download_PatentsView/patents_path.zip',\n",
       " <http.client.HTTPMessage at 0x7f66604c9df0>)"
      ]
     },
     "execution_count": 4,
     "metadata": {},
     "output_type": "execute_result"
    }
   ],
   "source": [
    "##download data from the url and unzip file \n",
    "\n",
    "%%time\n",
    "\n",
    "def download_data(url):\n",
    "\n",
    "    \"\"\"\n",
    "    This function downloads a zip file from a specified URL and extracts its contents to a specified directory.\n",
    "\n",
    "    Parameters:\n",
    "    url (str): The URL of the zip file to be downloaded.\n",
    "\n",
    "    Note:\n",
    "    - The function save the zip file to the directory specified by `main_path + patents_path.zip`.\n",
    "    \"\"\"\n",
    "    \n",
    "    urllib.request.urlretrieve(url, main_path + 'patents_path.zip') # any dir to save\n",
    "    with ZipFile(main_path +  'patents_path.zip' , 'r') as zObject:\n",
    "        zObject.extractall(path=main_path)\n",
    "\n",
    "\n",
    "url = patent_applications\n",
    "download_data(url)"
   ]
  },
  {
   "cell_type": "markdown",
   "id": "2b6f1833",
   "metadata": {
    "jp-MarkdownHeadingCollapsed": true
   },
   "source": [
    "## Load data in the database "
   ]
  },
  {
   "cell_type": "markdown",
   "id": "a55bea14-0dbb-4590-a640-767497ca51d3",
   "metadata": {
    "jp-MarkdownHeadingCollapsed": true
   },
   "source": [
    "### Create table"
   ]
  },
  {
   "cell_type": "code",
   "execution_count": 35,
   "id": "a96f5c25",
   "metadata": {},
   "outputs": [
    {
     "name": "stdout",
     "output_type": "stream",
     "text": [
      "Table created successfully........\n"
     ]
    }
   ],
   "source": [
    "## create table \n",
    "table_name = \"documentid_uspto\"\n",
    "\n",
    "## define columns of the table\n",
    "schema = \"\"\"CREATE TABLE  documentid_uspto ( \n",
    "   rf_id VARCHAR(15) ,\n",
    "   lang VARCHAR(3),\n",
    "   appno_doc_num VARCHAR(15),\n",
    "   appno_date DATE,\n",
    "   pgpub_doc_num VARCHAR(15),\n",
    "   pgpub_date DATE,\n",
    "   grant_doc_num VARCHAR(15),\n",
    "   grant_date DATE,\n",
    "   grant_country VARCHAR(3) );\"\"\"\n",
    "\n",
    "\n",
    "def create_table(table_name, schema, drop_if_exists):\n",
    "\n",
    "    \"\"\"\n",
    "    This function creates a table in a PostgreSQL database with the specified schema, and drops the table if it already exists.\n",
    "\n",
    "    Parameters:\n",
    "    table_name (str): The name of the table to be created in the PostgreSQL database.\n",
    "    schema (str): The SQL schema defining the structure of the table.\n",
    "    drop_if_exists (bool): A flag indicating whether to drop the table if it already exists before creating it.\n",
    "\n",
    "    Returns:\n",
    "    str: A success message if the table is created successfully.\n",
    "\n",
    "    Note:\n",
    "    - The function assumes that the `user` and `password` variables are defined elsewhere in the code.\n",
    "    - The function commits the transaction and closes the database connection after creating the table.\n",
    "    \"\"\"\n",
    "\n",
    "    conn = psycopg2.connect(\"user=\" + user + \" password=\" + password)\n",
    "    cursor = conn.cursor()\n",
    "\n",
    "    if drop_if_exists == True:\n",
    "        cursor.execute(\"DROP TABLE IF EXISTS \" + table_name)\n",
    "    \n",
    "    #Creating table as per requirement\n",
    "    sql = schema\n",
    "    \n",
    "    cursor.execute(sql)\n",
    "    conn.commit()\n",
    "\n",
    "    #Closing the connection\n",
    "    conn.close()\n",
    "\n",
    "    return \"Table created successfully........\"\n",
    "\n"
   ]
  },
  {
   "cell_type": "markdown",
   "id": "728cf8eb-a358-4325-abb1-897bb05545b0",
   "metadata": {
    "jp-MarkdownHeadingCollapsed": true
   },
   "source": [
    "### Load data"
   ]
  },
  {
   "cell_type": "code",
   "execution_count": 36,
   "id": "65422419",
   "metadata": {
    "scrolled": true
   },
   "outputs": [],
   "source": [
    "## load data into the table \n",
    "\n",
    "## input path to the data and table name \n",
    "data_path = main_path + \"/documentid.tsv\"\n",
    "table_name = \"documentid_uspto\"\n",
    "\n",
    "\n",
    "def load_data_into_table(table_name, data_path):\n",
    "\n",
    "    \"\"\"\n",
    "    This function loads data from a TSV file into a specified table in a PostgreSQL database.\n",
    "\n",
    "    Parameters:\n",
    "    table_name (str): The name of the table in the PostgreSQL database to load data into.\n",
    "    data_path (str): The file path of the TSV file containing the data to be loaded.\n",
    "\n",
    "    Returns:\n",
    "    str: A success message if the data is loaded successfully.\n",
    "\n",
    "    Note:\n",
    "    - The function assumes that the `user` and `password` variables are defined elsewhere in the code.\n",
    "    - The function commits the transaction and closes the database connection after loading the data.\n",
    "    \"\"\"\n",
    "\n",
    "    ## load data into the table\n",
    "    conn = psycopg2.connect(\"user=\" + user + \" password=\" + password)\n",
    "    cursor = conn.cursor()\n",
    "    \n",
    "    with open(data_path) as f:\n",
    "        cursor.copy_expert(\"COPY \" + table_name + \" FROM STDIN WITH DELIMITER E'\\t' CSV HEADER\", f)\n",
    "    \n",
    "    conn.commit()\n",
    "    conn.close()\n",
    "\n",
    "    return \"Data loaded successfully..........\"\n",
    "                "
   ]
  },
  {
   "cell_type": "markdown",
   "id": "49dfd7bd-e66b-4ca7-a211-ea2f2dc6d0d2",
   "metadata": {
    "jp-MarkdownHeadingCollapsed": true
   },
   "source": [
    "### Index table"
   ]
  },
  {
   "cell_type": "code",
   "execution_count": null,
   "id": "4de09bcb-960d-4759-8493-0d1920ec6dd3",
   "metadata": {},
   "outputs": [],
   "source": [
    "## chose the columns to index \n",
    "table_name = 'inventors_PatentsView'\n",
    "index_columns = ['inventor_id']\n",
    "\n",
    "def index_table(table_name , index_columns):\n",
    "\n",
    "    \"\"\"\n",
    "    This function creates an index on each specified column in a table in a PostgreSQL database.\n",
    "\n",
    "    Parameters:\n",
    "    table_name (str): The name of the table to be indexed in the PostgreSQL database.\n",
    "    index_columns (list): A list of column names to create indexes on.\n",
    "\n",
    "    Returns:\n",
    "    str: A success message if the table is indexed successfully.\n",
    "\n",
    "    Note:\n",
    "    - The function assumes that the `user` and `password` variables are defined elsewhere in the code.\n",
    "    - The function commits the transaction and closes the database connection after creating the indexes.\n",
    "    \"\"\"\n",
    "    \n",
    "    #establishing the connection\n",
    "    conn = psycopg2.connect(\"user=\" + user + \" password=\" + password)\n",
    "    \n",
    "    #Creating a cursor object using the cursor() method\n",
    "    cursor = conn.cursor()\n",
    "    \n",
    "    ## index each column\n",
    "    for index_column in index_columns:\n",
    "    \n",
    "        #Index table as per requirement\n",
    "        sql ='''CREATE INDEX ''' + index_column + '_' + table_name + ''' ON '''+ table_name +'''(''' + index_column + ''');'''\n",
    "        cursor.execute(sql)\n",
    "        \n",
    "    conn.commit()\n",
    "    #Closing the connection\n",
    "    conn.close()\n",
    "    \n",
    "    return \"Table indexed successfully........\""
   ]
  },
  {
   "cell_type": "markdown",
   "id": "df9456bd",
   "metadata": {
    "jp-MarkdownHeadingCollapsed": true
   },
   "source": [
    "## Query"
   ]
  },
  {
   "cell_type": "code",
   "execution_count": 6,
   "id": "8cb43ce4-9e8e-440d-a7a1-87589bcc4717",
   "metadata": {},
   "outputs": [
    {
     "data": {
      "text/plain": [
       "[('10167450',\n",
       "  0,\n",
       "  'fl:pa_ln:czernichow-1',\n",
       "  'Paul',\n",
       "  'Czernichow',\n",
       "  'M',\n",
       "  '173808ad-16c8-11ed-9b5f-1234bde3cd05',\n",
       "  'Czernichow'),\n",
       " ('10167450',\n",
       "  2,\n",
       "  'fl:ph_ln:ravassard-1',\n",
       "  'Philippe',\n",
       "  'Ravassard',\n",
       "  'M',\n",
       "  '173808ad-16c8-11ed-9b5f-1234bde3cd05',\n",
       "  'Ravassard'),\n",
       " ('10167450',\n",
       "  1,\n",
       "  'fl:ra_ln:scharfmann-1',\n",
       "  'Raphael',\n",
       "  'Scharfmann',\n",
       "  'M',\n",
       "  '173808ad-16c8-11ed-9b5f-1234bde3cd05',\n",
       "  'Scharfmann')]"
      ]
     },
     "execution_count": 6,
     "metadata": {},
     "output_type": "execute_result"
    }
   ],
   "source": [
    "## load data into the table\n",
    "conn = psycopg2.connect(\"user=\" + user + \" password=\" + password)\n",
    "cursor = conn.cursor()\n",
    "    \n",
    "text = \"\"\"SELECT * FROM inventors_PatentsView WHERE patent_id = '10167450';\"\"\"\n",
    "    \n",
    "cursor.execute(text)\n",
    "res = cursor.fetchall()\n",
    "\n",
    "cursor.close()\n",
    "\n",
    "res"
   ]
  },
  {
   "cell_type": "markdown",
   "id": "186b2fc4",
   "metadata": {
    "jp-MarkdownHeadingCollapsed": true
   },
   "source": [
    "## Download Patstat assignee classification from Google Cloud"
   ]
  },
  {
   "cell_type": "code",
   "execution_count": 12,
   "id": "08b118a1",
   "metadata": {},
   "outputs": [],
   "source": [
    "## download files from Google Cloud \n",
    "\n",
    "from google.cloud import storage\n",
    "import subprocess\n",
    "import pandas as pd\n",
    "\n",
    "path_to_private_key = '/home/fs01/spec1142/Emma/' + \"openalex-lee-c532eb059285.json\"\n",
    "client_storage = storage.Client.from_service_account_json(json_credentials_path=path_to_private_key)\n",
    "\n",
    "bucket_name = 'openalex-lee'\n",
    "prefix = 'Patstat/'\n",
    "dl_dir = main_path + \"Download_PatentsView/assignees_Patstat/\" \n",
    "       \n",
    "bucket = client_storage.get_bucket(bucket_or_name=bucket_name)\n",
    "blobs = bucket.list_blobs(prefix=prefix)  # Get list of files\n",
    "for blob in blobs:\n",
    "    filename = blob.name.replace('/', '_') \n",
    "    blob.download_to_filename(dl_dir + filename)  # Download"
   ]
  },
  {
   "cell_type": "code",
   "execution_count": 13,
   "id": "4e3cd2c6-3eda-4e78-a1c7-94e6f4b16f6f",
   "metadata": {},
   "outputs": [],
   "source": [
    "## merge files together\n",
    "\n",
    "data_path = '/home/fs01/spec1142/Emma/Download_PatentsView/'\n",
    "\n",
    "cmd = \"ls \" + data_path + \"assignees_Patstat/\"\n",
    "files_to_upload = subprocess.check_output(cmd,  shell=True)\n",
    "files_to_upload = files_to_upload.decode().split(\"\\n\")\n",
    "files_to_upload.remove('')\n",
    "\n",
    "table = pd.concat( [ pd.read_csv(data_path + \"assignees_Patstat/\" + file , delimiter = \"\\t\" ) for file in files_to_upload ] )"
   ]
  },
  {
   "cell_type": "code",
   "execution_count": 15,
   "id": "50f755ed-8b18-4b7c-883c-59daa1bc1260",
   "metadata": {},
   "outputs": [
    {
     "data": {
      "text/html": [
       "<div>\n",
       "<style scoped>\n",
       "    .dataframe tbody tr th:only-of-type {\n",
       "        vertical-align: middle;\n",
       "    }\n",
       "\n",
       "    .dataframe tbody tr th {\n",
       "        vertical-align: top;\n",
       "    }\n",
       "\n",
       "    .dataframe thead th {\n",
       "        text-align: right;\n",
       "    }\n",
       "</style>\n",
       "<table border=\"1\" class=\"dataframe\">\n",
       "  <thead>\n",
       "    <tr style=\"text-align: right;\">\n",
       "      <th></th>\n",
       "      <th>person_id</th>\n",
       "      <th>appln_id</th>\n",
       "    </tr>\n",
       "  </thead>\n",
       "  <tbody>\n",
       "    <tr>\n",
       "      <th>0</th>\n",
       "      <td>5229210</td>\n",
       "      <td>306945239</td>\n",
       "    </tr>\n",
       "    <tr>\n",
       "      <th>1</th>\n",
       "      <td>15331669</td>\n",
       "      <td>23972965</td>\n",
       "    </tr>\n",
       "    <tr>\n",
       "      <th>2</th>\n",
       "      <td>12494727</td>\n",
       "      <td>47315474</td>\n",
       "    </tr>\n",
       "    <tr>\n",
       "      <th>3</th>\n",
       "      <td>9348991</td>\n",
       "      <td>273068679</td>\n",
       "    </tr>\n",
       "    <tr>\n",
       "      <th>4</th>\n",
       "      <td>13502439</td>\n",
       "      <td>23968941</td>\n",
       "    </tr>\n",
       "    <tr>\n",
       "      <th>...</th>\n",
       "      <td>...</td>\n",
       "      <td>...</td>\n",
       "    </tr>\n",
       "    <tr>\n",
       "      <th>2983788</th>\n",
       "      <td>80986870</td>\n",
       "      <td>545400751</td>\n",
       "    </tr>\n",
       "    <tr>\n",
       "      <th>2983789</th>\n",
       "      <td>79276293</td>\n",
       "      <td>544655559</td>\n",
       "    </tr>\n",
       "    <tr>\n",
       "      <th>2983790</th>\n",
       "      <td>78433347</td>\n",
       "      <td>545124265</td>\n",
       "    </tr>\n",
       "    <tr>\n",
       "      <th>2983791</th>\n",
       "      <td>58296180</td>\n",
       "      <td>457588798</td>\n",
       "    </tr>\n",
       "    <tr>\n",
       "      <th>2983792</th>\n",
       "      <td>42386968</td>\n",
       "      <td>405776034</td>\n",
       "    </tr>\n",
       "  </tbody>\n",
       "</table>\n",
       "<p>298723394 rows × 2 columns</p>\n",
       "</div>"
      ],
      "text/plain": [
       "         person_id   appln_id\n",
       "0          5229210  306945239\n",
       "1         15331669   23972965\n",
       "2         12494727   47315474\n",
       "3          9348991  273068679\n",
       "4         13502439   23968941\n",
       "...            ...        ...\n",
       "2983788   80986870  545400751\n",
       "2983789   79276293  544655559\n",
       "2983790   78433347  545124265\n",
       "2983791   58296180  457588798\n",
       "2983792   42386968  405776034\n",
       "\n",
       "[298723394 rows x 2 columns]"
      ]
     },
     "execution_count": 15,
     "metadata": {},
     "output_type": "execute_result"
    }
   ],
   "source": [
    "table"
   ]
  },
  {
   "cell_type": "code",
   "execution_count": 16,
   "id": "1a6f6c0a-929a-4fc3-9031-37a1146f304e",
   "metadata": {},
   "outputs": [],
   "source": [
    "## save files\n",
    "\n",
    "table.to_csv(data_path + \"person_patents_Patstat.tsv\" , sep = \"\\t\" , index = False)"
   ]
  }
 ],
 "metadata": {
  "kernelspec": {
   "display_name": "Python 3 (ipykernel)",
   "language": "python",
   "name": "python3"
  },
  "language_info": {
   "codemirror_mode": {
    "name": "ipython",
    "version": 3
   },
   "file_extension": ".py",
   "mimetype": "text/x-python",
   "name": "python",
   "nbconvert_exporter": "python",
   "pygments_lexer": "ipython3",
   "version": "3.9.12"
  }
 },
 "nbformat": 4,
 "nbformat_minor": 5
}
