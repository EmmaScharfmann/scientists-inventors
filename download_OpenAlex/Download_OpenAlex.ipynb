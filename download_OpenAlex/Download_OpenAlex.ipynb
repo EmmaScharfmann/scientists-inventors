{
 "cells": [
  {
   "cell_type": "code",
   "execution_count": 10,
   "id": "dcf87e27",
   "metadata": {},
   "outputs": [],
   "source": [
    "## Packages \n",
    "\n",
    "import json, requests \n",
    "from tqdm import tqdm\n",
    "import pandas as pd\n",
    "import subprocess\n",
    "import time \n",
    "import csv\n",
    "import gzip\n",
    "import numpy as np\n",
    "import psycopg2\n",
    "import subprocess\n",
    "import os\n"
   ]
  },
  {
   "cell_type": "code",
   "execution_count": 9,
   "id": "9f4301b4",
   "metadata": {},
   "outputs": [],
   "source": [
    "main_path = '/home/fs01/spec1142/'\n",
    "data = 'openalex-snapshot/data'\n",
    "\n",
    "path = '/home/fs01/spec1142/Emma/GateKeepers/Download_OpenAlex/'\n",
    "\n",
    "f = open('/home/fs01/spec1142/Emma/GateKeepers/' + \"database.txt\", \"r\")\n",
    "user , password = f.read().split()"
   ]
  },
  {
   "cell_type": "code",
   "execution_count": 3,
   "id": "97704e9e",
   "metadata": {},
   "outputs": [
    {
     "data": {
      "text/plain": [
       "['authors',\n",
       " 'concepts',\n",
       " 'funders',\n",
       " 'institutions',\n",
       " 'merged_ids',\n",
       " 'publishers',\n",
       " 'sources',\n",
       " 'works']"
      ]
     },
     "execution_count": 3,
     "metadata": {},
     "output_type": "execute_result"
    }
   ],
   "source": [
    "## list_tables : list of the folders in the folder \"data\", which represents OpenAlex tables\n",
    "\n",
    "list_tables = ! ls {main_path + data}\n",
    "list_tables"
   ]
  },
  {
   "cell_type": "markdown",
   "id": "b46462cf-a9c5-4b4c-9a84-3e165ada483d",
   "metadata": {
    "jp-MarkdownHeadingCollapsed": true
   },
   "source": [
    "## Function to create / load data / index tables into the Postgres database"
   ]
  },
  {
   "cell_type": "code",
   "execution_count": 1,
   "id": "1ae9a159-78de-4780-838b-6271c30b4f80",
   "metadata": {},
   "outputs": [],
   "source": [
    "def create_table(table_name, schema, drop_if_exists):\n",
    "\n",
    "    \"\"\"\n",
    "    This function creates a table in a PostgreSQL database with the specified schema, and drops the table if it already exists.\n",
    "\n",
    "    Parameters:\n",
    "    table_name (str): The name of the table to be created in the PostgreSQL database.\n",
    "    schema (str): The SQL schema defining the structure of the table.\n",
    "    drop_if_exists (bool): A flag indicating whether to drop the table if it already exists before creating it.\n",
    "\n",
    "    Returns:\n",
    "    str: A success message if the table is created successfully.\n",
    "\n",
    "    Note:\n",
    "    - The function assumes that the `user` and `password` variables are defined elsewhere in the code.\n",
    "    - The function commits the transaction and closes the database connection after creating the table.\n",
    "    \"\"\"\n",
    "\n",
    "    conn = psycopg2.connect(\"user=\" + user + \" password=\" + password)\n",
    "    cursor = conn.cursor()\n",
    "\n",
    "    if drop_if_exists == True:\n",
    "        cursor.execute(\"DROP TABLE IF EXISTS \" + table_name)\n",
    "    \n",
    "    #Creating table as per requirement\n",
    "    sql = schema\n",
    "    \n",
    "    cursor.execute(sql)\n",
    "    conn.commit()\n",
    "\n",
    "    #Closing the connection\n",
    "    conn.close()\n",
    "\n",
    "    return \"Table created successfully........\"\n",
    "\n"
   ]
  },
  {
   "cell_type": "code",
   "execution_count": 2,
   "id": "ed62b4aa-8e2c-42ec-b83f-2b268f45228a",
   "metadata": {},
   "outputs": [],
   "source": [
    "## load data into the table \n",
    "\n",
    "def load_data_into_table(table_name, data_path, size):\n",
    "\n",
    "    \"\"\"\n",
    "    This function loads data from a TSV file into a specified table in a PostgreSQL database in chunks.\n",
    "\n",
    "    Parameters:\n",
    "    table_name (str): The name of the table in the PostgreSQL database to load data into.\n",
    "    data_path (str): The file path of the TSV file containing the data to be loaded.\n",
    "    size (int): The chunk size for loading data into the table.\n",
    "\n",
    "    Returns:\n",
    "    str: A success message if the data is loaded successfully.\n",
    "\n",
    "    Note:\n",
    "    - The function assumes that the `user` and `password` variables are defined elsewhere in the code.\n",
    "    - The function iterates over the data chunks, saves each chunk to a temporary TSV file, and then uses the `copy_expert` method to load the data from the temporary file into the specified table.\n",
    "    - The function commits the transaction and closes the database connection after loading the data.\n",
    "    \"\"\"\n",
    "    \n",
    "    df_chunks = pd.read_csv(data_path , error_bad_lines = \"warn\" , chunksize = size ,header = 0 , delimiter = \"\\t\", index_col = 0   ) \n",
    "    count = 0 \n",
    "    \n",
    "    #establishing the connection\n",
    "    conn = psycopg2.connect(\"user=\" + user + \" password=\" + password)\n",
    "    #Creating a cursor object using the cursor() method\n",
    "    cursor = conn.cursor()\n",
    "    \n",
    "    \n",
    "    ## add the data chunk by chunk in the database \n",
    "    for data in tqdm(df_chunks):\n",
    "        \n",
    "        count += 1\n",
    "        ## create chunk and save chunk\n",
    "        df = pd.DataFrame(data , dtype = str)\n",
    "        df.to_csv(data_path + \"chunk.tsv\" , sep = \"\\t\"  )\n",
    "    \n",
    "        ## then, add chunk to the database (double check if you're adding the data to the good table. \n",
    "        with open(\"/home/fs01/spec1142/Emma/Download_OpenAlex/chunk.tsv\") as f:\n",
    "            cursor.copy_expert(\"COPY \" + table_name + \" FROM STDIN WITH DELIMITER E'\\t' CSV HEADER\", f)\n",
    "                \n",
    "    ## commit to the database.     \n",
    "    conn.commit()       \n",
    "    #Closing the connection\n",
    "    conn.close()\n",
    "\n",
    "    return \"Data loaded successfully..........\"\n",
    "                "
   ]
  },
  {
   "cell_type": "code",
   "execution_count": 3,
   "id": "bc46ef33-be44-407d-a11a-f6ee7028c180",
   "metadata": {},
   "outputs": [],
   "source": [
    "def index_table(table_name , index_columns):\n",
    "\n",
    "    \"\"\"\n",
    "    This function creates an index on each specified column in a table in a PostgreSQL database.\n",
    "\n",
    "    Parameters:\n",
    "    table_name (str): The name of the table to be indexed in the PostgreSQL database.\n",
    "    index_columns (list): A list of column names to create indexes on.\n",
    "\n",
    "    Returns:\n",
    "    str: A success message if the table is indexed successfully.\n",
    "\n",
    "    Note:\n",
    "    - The function assumes that the `user` and `password` variables are defined elsewhere in the code.\n",
    "    - The function commits the transaction and closes the database connection after creating the indexes.\n",
    "    \"\"\"\n",
    "    \n",
    "    #establishing the connection\n",
    "    conn = psycopg2.connect(\"user=\" + user + \" password=\" + password)\n",
    "    \n",
    "    #Creating a cursor object using the cursor() method\n",
    "    cursor = conn.cursor()\n",
    "    \n",
    "    ## index each column\n",
    "    for index_column in index_columns:\n",
    "    \n",
    "        #Index table as per requirement\n",
    "        sql ='''CREATE INDEX ''' + index_column + '_' + table_name + ''' ON '''+ table_name +'''(''' + index_column + ''');'''\n",
    "        cursor.execute(sql)\n",
    "        \n",
    "    conn.commit()\n",
    "    #Closing the connection\n",
    "    conn.close()\n",
    "    \n",
    "    return \"Table indexed successfully........\""
   ]
  },
  {
   "cell_type": "markdown",
   "id": "0bccb250-b1af-432f-8611-bfde670715c1",
   "metadata": {
    "jp-MarkdownHeadingCollapsed": true
   },
   "source": [
    "## Download OpenAlex raw data"
   ]
  },
  {
   "cell_type": "code",
   "execution_count": null,
   "id": "3e703f95-a407-449c-8758-690bda154415",
   "metadata": {},
   "outputs": [],
   "source": [
    "## from https://docs.openalex.org/download-all-data/download-to-your-machine\n",
    "! aws s3 sync \"s3://openalex\" \"openalex-snapshot\" --no-sign-request\n"
   ]
  },
  {
   "cell_type": "markdown",
   "id": "a39f689d",
   "metadata": {
    "jp-MarkdownHeadingCollapsed": true
   },
   "source": [
    "## OpenAlex Institutions"
   ]
  },
  {
   "cell_type": "code",
   "execution_count": 23,
   "id": "b4d518f9-4bb5-4e4e-bb92-104ae5d2e6fb",
   "metadata": {},
   "outputs": [],
   "source": [
    "path = '/home/fs01/spec1142/Emma/GateKeepers/Download_OpenAlex/'\n"
   ]
  },
  {
   "cell_type": "markdown",
   "id": "e1cef6f5",
   "metadata": {
    "jp-MarkdownHeadingCollapsed": true
   },
   "source": [
    "### Flatten the data"
   ]
  },
  {
   "cell_type": "code",
   "execution_count": 4,
   "id": "7db5d107",
   "metadata": {
    "scrolled": true
   },
   "outputs": [
    {
     "data": {
      "text/plain": [
       "['updated_date=2023-06-07',\n",
       " 'updated_date=2023-06-08',\n",
       " 'updated_date=2023-06-10',\n",
       " 'updated_date=2023-06-11',\n",
       " 'updated_date=2023-06-12',\n",
       " 'updated_date=2023-06-13',\n",
       " 'updated_date=2023-06-14',\n",
       " 'updated_date=2023-06-15',\n",
       " 'updated_date=2023-06-16',\n",
       " 'updated_date=2023-06-17',\n",
       " 'updated_date=2023-06-18',\n",
       " 'updated_date=2023-06-19',\n",
       " 'updated_date=2023-06-20',\n",
       " 'updated_date=2023-06-21',\n",
       " 'updated_date=2023-06-22',\n",
       " 'updated_date=2023-06-23',\n",
       " 'updated_date=2023-06-24',\n",
       " 'updated_date=2023-06-25',\n",
       " 'updated_date=2023-06-26',\n",
       " 'updated_date=2023-06-27',\n",
       " 'updated_date=2023-06-28',\n",
       " 'updated_date=2023-06-29',\n",
       " 'updated_date=2023-06-30',\n",
       " 'updated_date=2023-07-01',\n",
       " 'updated_date=2023-07-02',\n",
       " 'updated_date=2023-07-03',\n",
       " 'updated_date=2023-07-04',\n",
       " 'updated_date=2023-07-05',\n",
       " 'updated_date=2023-07-06',\n",
       " 'updated_date=2023-07-07',\n",
       " 'updated_date=2023-07-08',\n",
       " 'updated_date=2023-07-09',\n",
       " 'updated_date=2023-07-10',\n",
       " 'updated_date=2023-07-11',\n",
       " 'updated_date=2023-07-12',\n",
       " 'updated_date=2023-07-13',\n",
       " 'updated_date=2023-07-14',\n",
       " 'updated_date=2023-07-15',\n",
       " 'updated_date=2023-07-16',\n",
       " 'updated_date=2023-07-17',\n",
       " 'updated_date=2023-07-18',\n",
       " 'updated_date=2023-07-19',\n",
       " 'updated_date=2023-07-20',\n",
       " 'updated_date=2023-07-21',\n",
       " 'updated_date=2023-07-22',\n",
       " 'updated_date=2023-07-23',\n",
       " 'updated_date=2023-07-24',\n",
       " 'updated_date=2023-07-25',\n",
       " 'updated_date=2023-07-27',\n",
       " 'updated_date=2023-07-28',\n",
       " 'updated_date=2023-07-29',\n",
       " 'updated_date=2023-07-30',\n",
       " 'updated_date=2023-07-31',\n",
       " 'updated_date=2023-08-01',\n",
       " 'updated_date=2023-08-02',\n",
       " 'updated_date=2023-08-03',\n",
       " 'updated_date=2023-08-04',\n",
       " 'updated_date=2023-08-05',\n",
       " 'updated_date=2023-08-06',\n",
       " 'updated_date=2023-08-07',\n",
       " 'updated_date=2023-08-08',\n",
       " 'updated_date=2023-08-09',\n",
       " 'updated_date=2023-08-10',\n",
       " 'updated_date=2023-08-11',\n",
       " 'updated_date=2023-08-12',\n",
       " 'updated_date=2023-08-13',\n",
       " 'updated_date=2023-08-14',\n",
       " 'updated_date=2023-08-15',\n",
       " 'updated_date=2023-08-16',\n",
       " 'updated_date=2023-08-17']"
      ]
     },
     "execution_count": 4,
     "metadata": {},
     "output_type": "execute_result"
    }
   ],
   "source": [
    "## list_folders : list of the folders in the folder \"data/institutions/\", which represents the institution files\n",
    "\n",
    "list_folders_institutions = ! ls {main_path + data}/institutions\n",
    "list_folders_institutions = list_folders_institutions[1:]\n",
    "list_folders_institutions"
   ]
  },
  {
   "cell_type": "code",
   "execution_count": 5,
   "id": "db0bed7b",
   "metadata": {},
   "outputs": [],
   "source": [
    "files = ! ls {main_path + data}/institutions/{list_folders_institutions[4]}"
   ]
  },
  {
   "cell_type": "code",
   "execution_count": 6,
   "id": "88cc6d6e",
   "metadata": {},
   "outputs": [
    {
     "name": "stdout",
     "output_type": "stream",
     "text": [
      "dict_keys(['image_thumbnail_url', 'counts_by_year', 'homepage_url', 'roles', 'type', 'geo', 'ror', 'repositories', 'summary_stats', 'works_api_url', 'associated_institutions', 'id', 'international', 'x_concepts', 'display_name_alternatives', 'cited_by_count', 'image_url', 'display_name', 'country_code', 'display_name_acronyms', 'ids', 'updated_date', 'created_date', 'works_count', 'updated'])\n",
      "[{'country_code': 'GB', 'ror': 'https://ror.org/00xkkpn05', 'id': 'https://openalex.org/I4210100473', 'display_name': 'Norfolk Community Health and Care NHS Trust', 'type': 'healthcare', 'relationship': 'parent'}]\n"
     ]
    }
   ],
   "source": [
    "## print one row of one file \n",
    "\n",
    "file = main_path + data +\"/institutions/\" + list_folders_institutions[4] + \"/\" + files[0]\n",
    "\n",
    "with gzip.open(file, 'rb') as f:\n",
    "    for line in f:\n",
    "        print(json.loads(line).keys())\n",
    "\n",
    "        print(json.loads(line)[\"associated_institutions\"])\n",
    "        break\n",
    "    "
   ]
  },
  {
   "cell_type": "code",
   "execution_count": 35,
   "id": "4c641ac0",
   "metadata": {
    "scrolled": true
   },
   "outputs": [
    {
     "name": "stdout",
     "output_type": "stream",
     "text": [
      "folder:  updated_date=2023-06-07\n",
      "Files:  ['part_000.gz']\n"
     ]
    },
    {
     "name": "stderr",
     "output_type": "stream",
     "text": [
      "8438it [00:00, 17387.33it/s]\n"
     ]
    },
    {
     "name": "stdout",
     "output_type": "stream",
     "text": [
      "folder:  updated_date=2023-06-08\n",
      "Files:  ['part_000.gz']\n"
     ]
    },
    {
     "name": "stderr",
     "output_type": "stream",
     "text": [
      "5112it [00:00, 18193.81it/s]\n"
     ]
    },
    {
     "name": "stdout",
     "output_type": "stream",
     "text": [
      "folder:  updated_date=2023-06-10\n",
      "Files:  ['part_000.gz']\n"
     ]
    },
    {
     "name": "stderr",
     "output_type": "stream",
     "text": [
      "3it [00:00, 199.41it/s]"
     ]
    },
    {
     "name": "stdout",
     "output_type": "stream",
     "text": [
      "folder:  updated_date=2023-06-11\n"
     ]
    },
    {
     "name": "stderr",
     "output_type": "stream",
     "text": [
      "\n"
     ]
    },
    {
     "name": "stdout",
     "output_type": "stream",
     "text": [
      "Files:  ['part_000.gz']\n"
     ]
    },
    {
     "name": "stderr",
     "output_type": "stream",
     "text": [
      "850it [00:00, 9322.94it/s]"
     ]
    },
    {
     "name": "stdout",
     "output_type": "stream",
     "text": [
      "folder:  updated_date=2023-06-12\n"
     ]
    },
    {
     "name": "stderr",
     "output_type": "stream",
     "text": [
      "\n"
     ]
    },
    {
     "name": "stdout",
     "output_type": "stream",
     "text": [
      "Files:  ['part_000.gz']\n"
     ]
    },
    {
     "name": "stderr",
     "output_type": "stream",
     "text": [
      "71it [00:00, 2406.10it/s]"
     ]
    },
    {
     "name": "stdout",
     "output_type": "stream",
     "text": [
      "folder:  updated_date=2023-06-13\n"
     ]
    },
    {
     "name": "stderr",
     "output_type": "stream",
     "text": [
      "\n"
     ]
    },
    {
     "name": "stdout",
     "output_type": "stream",
     "text": [
      "Files:  ['part_000.gz']\n"
     ]
    },
    {
     "name": "stderr",
     "output_type": "stream",
     "text": [
      "6it [00:00, 201.99it/s]"
     ]
    },
    {
     "name": "stdout",
     "output_type": "stream",
     "text": [
      "folder:  updated_date=2023-06-14\n"
     ]
    },
    {
     "name": "stderr",
     "output_type": "stream",
     "text": [
      "\n"
     ]
    },
    {
     "name": "stdout",
     "output_type": "stream",
     "text": [
      "Files:  ['part_000.gz']\n"
     ]
    },
    {
     "name": "stderr",
     "output_type": "stream",
     "text": [
      "3it [00:00, 36.83it/s]"
     ]
    },
    {
     "name": "stdout",
     "output_type": "stream",
     "text": [
      "folder:  updated_date=2023-06-15\n"
     ]
    },
    {
     "name": "stderr",
     "output_type": "stream",
     "text": [
      "\n"
     ]
    },
    {
     "name": "stdout",
     "output_type": "stream",
     "text": [
      "Files:  ['part_000.gz']\n"
     ]
    },
    {
     "name": "stderr",
     "output_type": "stream",
     "text": [
      "3it [00:00, 407.79it/s]"
     ]
    },
    {
     "name": "stdout",
     "output_type": "stream",
     "text": [
      "folder:  updated_date=2023-06-16\n"
     ]
    },
    {
     "name": "stderr",
     "output_type": "stream",
     "text": [
      "\n"
     ]
    },
    {
     "name": "stdout",
     "output_type": "stream",
     "text": [
      "Files:  ['part_000.gz']\n"
     ]
    },
    {
     "name": "stderr",
     "output_type": "stream",
     "text": [
      "2it [00:00, 625.27it/s]"
     ]
    },
    {
     "name": "stdout",
     "output_type": "stream",
     "text": [
      "folder:  updated_date=2023-06-17\n"
     ]
    },
    {
     "name": "stderr",
     "output_type": "stream",
     "text": [
      "\n"
     ]
    },
    {
     "name": "stdout",
     "output_type": "stream",
     "text": [
      "Files:  ['part_000.gz']\n"
     ]
    },
    {
     "name": "stderr",
     "output_type": "stream",
     "text": [
      "134it [00:00, 2381.97it/s]"
     ]
    },
    {
     "name": "stdout",
     "output_type": "stream",
     "text": [
      "folder:  updated_date=2023-06-18\n"
     ]
    },
    {
     "name": "stderr",
     "output_type": "stream",
     "text": [
      "\n"
     ]
    },
    {
     "name": "stdout",
     "output_type": "stream",
     "text": [
      "Files:  ['part_000.gz']\n"
     ]
    },
    {
     "name": "stderr",
     "output_type": "stream",
     "text": [
      "134it [00:00, 6608.70it/s]"
     ]
    },
    {
     "name": "stdout",
     "output_type": "stream",
     "text": [
      "folder:  updated_date=2023-06-19\n"
     ]
    },
    {
     "name": "stderr",
     "output_type": "stream",
     "text": [
      "\n"
     ]
    },
    {
     "name": "stdout",
     "output_type": "stream",
     "text": [
      "Files:  ['part_000.gz']\n"
     ]
    },
    {
     "name": "stderr",
     "output_type": "stream",
     "text": [
      "44it [00:00, 1088.11it/s]"
     ]
    },
    {
     "name": "stdout",
     "output_type": "stream",
     "text": [
      "folder:  updated_date=2023-06-20\n"
     ]
    },
    {
     "name": "stderr",
     "output_type": "stream",
     "text": [
      "\n"
     ]
    },
    {
     "name": "stdout",
     "output_type": "stream",
     "text": [
      "Files:  ['part_000.gz']\n"
     ]
    },
    {
     "name": "stderr",
     "output_type": "stream",
     "text": [
      "15it [00:00, 997.57it/s]"
     ]
    },
    {
     "name": "stdout",
     "output_type": "stream",
     "text": [
      "folder:  updated_date=2023-06-21\n"
     ]
    },
    {
     "name": "stderr",
     "output_type": "stream",
     "text": [
      "\n"
     ]
    },
    {
     "name": "stdout",
     "output_type": "stream",
     "text": [
      "Files:  ['part_000.gz']\n"
     ]
    },
    {
     "name": "stderr",
     "output_type": "stream",
     "text": [
      "377it [00:00, 8585.51it/s]"
     ]
    },
    {
     "name": "stdout",
     "output_type": "stream",
     "text": [
      "folder:  updated_date=2023-06-22\n"
     ]
    },
    {
     "name": "stderr",
     "output_type": "stream",
     "text": [
      "\n"
     ]
    },
    {
     "name": "stdout",
     "output_type": "stream",
     "text": [
      "Files:  ['part_000.gz']\n"
     ]
    },
    {
     "name": "stderr",
     "output_type": "stream",
     "text": [
      "9it [00:00, 849.87it/s]"
     ]
    },
    {
     "name": "stdout",
     "output_type": "stream",
     "text": [
      "folder:  updated_date=2023-06-23\n"
     ]
    },
    {
     "name": "stderr",
     "output_type": "stream",
     "text": [
      "\n"
     ]
    },
    {
     "name": "stdout",
     "output_type": "stream",
     "text": [
      "Files:  ['part_000.gz']\n"
     ]
    },
    {
     "name": "stderr",
     "output_type": "stream",
     "text": [
      "12it [00:00, 1761.02it/s]"
     ]
    },
    {
     "name": "stdout",
     "output_type": "stream",
     "text": [
      "folder:  updated_date=2023-06-24\n"
     ]
    },
    {
     "name": "stderr",
     "output_type": "stream",
     "text": [
      "\n"
     ]
    },
    {
     "name": "stdout",
     "output_type": "stream",
     "text": [
      "Files:  ['part_000.gz']\n"
     ]
    },
    {
     "name": "stderr",
     "output_type": "stream",
     "text": [
      "14it [00:00, 757.86it/s]"
     ]
    },
    {
     "name": "stdout",
     "output_type": "stream",
     "text": [
      "folder:  updated_date=2023-06-25\n"
     ]
    },
    {
     "name": "stderr",
     "output_type": "stream",
     "text": [
      "\n"
     ]
    },
    {
     "name": "stdout",
     "output_type": "stream",
     "text": [
      "Files:  ['part_000.gz']\n"
     ]
    },
    {
     "name": "stderr",
     "output_type": "stream",
     "text": [
      "139it [00:00, 889.22it/s]"
     ]
    },
    {
     "name": "stdout",
     "output_type": "stream",
     "text": [
      "folder:  updated_date=2023-06-26\n"
     ]
    },
    {
     "name": "stderr",
     "output_type": "stream",
     "text": [
      "\n"
     ]
    },
    {
     "name": "stdout",
     "output_type": "stream",
     "text": [
      "Files:  ['part_000.gz']\n"
     ]
    },
    {
     "name": "stderr",
     "output_type": "stream",
     "text": [
      "66it [00:00, 1962.39it/s]"
     ]
    },
    {
     "name": "stdout",
     "output_type": "stream",
     "text": [
      "folder:  updated_date=2023-06-27\n"
     ]
    },
    {
     "name": "stderr",
     "output_type": "stream",
     "text": [
      "\n"
     ]
    },
    {
     "name": "stdout",
     "output_type": "stream",
     "text": [
      "Files:  ['part_000.gz']\n"
     ]
    },
    {
     "name": "stderr",
     "output_type": "stream",
     "text": [
      "118it [00:00, 2004.02it/s]"
     ]
    },
    {
     "name": "stdout",
     "output_type": "stream",
     "text": [
      "folder:  updated_date=2023-06-28\n"
     ]
    },
    {
     "name": "stderr",
     "output_type": "stream",
     "text": [
      "\n"
     ]
    },
    {
     "name": "stdout",
     "output_type": "stream",
     "text": [
      "Files:  ['part_000.gz']\n"
     ]
    },
    {
     "name": "stderr",
     "output_type": "stream",
     "text": [
      "1489it [00:00, 7750.06it/s]\n"
     ]
    },
    {
     "name": "stdout",
     "output_type": "stream",
     "text": [
      "folder:  updated_date=2023-06-29\n",
      "Files:  ['part_000.gz']\n"
     ]
    },
    {
     "name": "stderr",
     "output_type": "stream",
     "text": [
      "12it [00:00, 315.48it/s]"
     ]
    },
    {
     "name": "stdout",
     "output_type": "stream",
     "text": [
      "folder:  updated_date=2023-06-30\n"
     ]
    },
    {
     "name": "stderr",
     "output_type": "stream",
     "text": [
      "\n"
     ]
    },
    {
     "name": "stdout",
     "output_type": "stream",
     "text": [
      "Files:  ['part_000.gz']\n"
     ]
    },
    {
     "name": "stderr",
     "output_type": "stream",
     "text": [
      "14it [00:00, 341.85it/s]"
     ]
    },
    {
     "name": "stdout",
     "output_type": "stream",
     "text": [
      "folder:  updated_date=2023-07-01\n"
     ]
    },
    {
     "name": "stderr",
     "output_type": "stream",
     "text": [
      "\n"
     ]
    },
    {
     "name": "stdout",
     "output_type": "stream",
     "text": [
      "Files:  ['part_000.gz']\n"
     ]
    },
    {
     "name": "stderr",
     "output_type": "stream",
     "text": [
      "15it [00:00, 645.24it/s]"
     ]
    },
    {
     "name": "stdout",
     "output_type": "stream",
     "text": [
      "folder:  updated_date=2023-07-02\n"
     ]
    },
    {
     "name": "stderr",
     "output_type": "stream",
     "text": [
      "\n"
     ]
    },
    {
     "name": "stdout",
     "output_type": "stream",
     "text": [
      "Files:  ['part_000.gz']\n"
     ]
    },
    {
     "name": "stderr",
     "output_type": "stream",
     "text": [
      "335it [00:00, 4352.11it/s]"
     ]
    },
    {
     "name": "stdout",
     "output_type": "stream",
     "text": [
      "folder:  updated_date=2023-07-03\n"
     ]
    },
    {
     "name": "stderr",
     "output_type": "stream",
     "text": [
      "\n"
     ]
    },
    {
     "name": "stdout",
     "output_type": "stream",
     "text": [
      "Files:  ['part_000.gz']\n"
     ]
    },
    {
     "name": "stderr",
     "output_type": "stream",
     "text": [
      "87it [00:00, 1911.72it/s]"
     ]
    },
    {
     "name": "stdout",
     "output_type": "stream",
     "text": [
      "folder:  updated_date=2023-07-04\n"
     ]
    },
    {
     "name": "stderr",
     "output_type": "stream",
     "text": [
      "\n"
     ]
    },
    {
     "name": "stdout",
     "output_type": "stream",
     "text": [
      "Files:  ['part_000.gz']\n"
     ]
    },
    {
     "name": "stderr",
     "output_type": "stream",
     "text": [
      "19it [00:00, 974.26it/s]"
     ]
    },
    {
     "name": "stdout",
     "output_type": "stream",
     "text": [
      "folder:  updated_date=2023-07-05\n"
     ]
    },
    {
     "name": "stderr",
     "output_type": "stream",
     "text": [
      "\n"
     ]
    },
    {
     "name": "stdout",
     "output_type": "stream",
     "text": [
      "Files:  ['part_000.gz']\n"
     ]
    },
    {
     "name": "stderr",
     "output_type": "stream",
     "text": [
      "65it [00:00, 1952.68it/s]"
     ]
    },
    {
     "name": "stdout",
     "output_type": "stream",
     "text": [
      "folder:  updated_date=2023-07-06\n"
     ]
    },
    {
     "name": "stderr",
     "output_type": "stream",
     "text": [
      "\n"
     ]
    },
    {
     "name": "stdout",
     "output_type": "stream",
     "text": [
      "Files:  ['part_000.gz']\n"
     ]
    },
    {
     "name": "stderr",
     "output_type": "stream",
     "text": [
      "13it [00:00, 581.23it/s]"
     ]
    },
    {
     "name": "stdout",
     "output_type": "stream",
     "text": [
      "folder:  updated_date=2023-07-07\n"
     ]
    },
    {
     "name": "stderr",
     "output_type": "stream",
     "text": [
      "\n"
     ]
    },
    {
     "name": "stdout",
     "output_type": "stream",
     "text": [
      "Files:  ['part_000.gz']\n"
     ]
    },
    {
     "name": "stderr",
     "output_type": "stream",
     "text": [
      "12it [00:00, 749.08it/s]"
     ]
    },
    {
     "name": "stdout",
     "output_type": "stream",
     "text": [
      "folder:  updated_date=2023-07-08\n"
     ]
    },
    {
     "name": "stderr",
     "output_type": "stream",
     "text": [
      "\n"
     ]
    },
    {
     "name": "stdout",
     "output_type": "stream",
     "text": [
      "Files:  ['part_000.gz']\n"
     ]
    },
    {
     "name": "stderr",
     "output_type": "stream",
     "text": [
      "12it [00:00, 159.78it/s]"
     ]
    },
    {
     "name": "stdout",
     "output_type": "stream",
     "text": [
      "folder:  updated_date=2023-07-09\n"
     ]
    },
    {
     "name": "stderr",
     "output_type": "stream",
     "text": [
      "\n"
     ]
    },
    {
     "name": "stdout",
     "output_type": "stream",
     "text": [
      "Files:  ['part_000.gz']\n"
     ]
    },
    {
     "name": "stderr",
     "output_type": "stream",
     "text": [
      "304it [00:00, 2024.31it/s]"
     ]
    },
    {
     "name": "stdout",
     "output_type": "stream",
     "text": [
      "folder:  updated_date=2023-07-10\n"
     ]
    },
    {
     "name": "stderr",
     "output_type": "stream",
     "text": [
      "\n"
     ]
    },
    {
     "name": "stdout",
     "output_type": "stream",
     "text": [
      "Files:  ['part_000.gz']\n"
     ]
    },
    {
     "name": "stderr",
     "output_type": "stream",
     "text": [
      "118it [00:00, 2933.10it/s]"
     ]
    },
    {
     "name": "stdout",
     "output_type": "stream",
     "text": [
      "folder:  updated_date=2023-07-11\n"
     ]
    },
    {
     "name": "stderr",
     "output_type": "stream",
     "text": [
      "\n"
     ]
    },
    {
     "name": "stdout",
     "output_type": "stream",
     "text": [
      "Files:  ['part_000.gz']\n"
     ]
    },
    {
     "name": "stderr",
     "output_type": "stream",
     "text": [
      "223it [00:00, 5261.49it/s]"
     ]
    },
    {
     "name": "stdout",
     "output_type": "stream",
     "text": [
      "folder:  updated_date=2023-07-12\n"
     ]
    },
    {
     "name": "stderr",
     "output_type": "stream",
     "text": [
      "\n"
     ]
    },
    {
     "name": "stdout",
     "output_type": "stream",
     "text": [
      "Files:  ['part_000.gz']\n"
     ]
    },
    {
     "name": "stderr",
     "output_type": "stream",
     "text": [
      "15it [00:00, 663.93it/s]"
     ]
    },
    {
     "name": "stdout",
     "output_type": "stream",
     "text": [
      "folder:  updated_date=2023-07-13\n"
     ]
    },
    {
     "name": "stderr",
     "output_type": "stream",
     "text": [
      "\n"
     ]
    },
    {
     "name": "stdout",
     "output_type": "stream",
     "text": [
      "Files:  ['part_000.gz']\n"
     ]
    },
    {
     "name": "stderr",
     "output_type": "stream",
     "text": [
      "9it [00:00, 564.59it/s]"
     ]
    },
    {
     "name": "stdout",
     "output_type": "stream",
     "text": [
      "folder:  updated_date=2023-07-14\n"
     ]
    },
    {
     "name": "stderr",
     "output_type": "stream",
     "text": [
      "\n"
     ]
    },
    {
     "name": "stdout",
     "output_type": "stream",
     "text": [
      "Files:  ['part_000.gz']\n"
     ]
    },
    {
     "name": "stderr",
     "output_type": "stream",
     "text": [
      "18it [00:00, 1899.45it/s]"
     ]
    },
    {
     "name": "stdout",
     "output_type": "stream",
     "text": [
      "folder:  updated_date=2023-07-15\n"
     ]
    },
    {
     "name": "stderr",
     "output_type": "stream",
     "text": [
      "\n"
     ]
    },
    {
     "name": "stdout",
     "output_type": "stream",
     "text": [
      "Files:  ['part_000.gz']\n"
     ]
    },
    {
     "name": "stderr",
     "output_type": "stream",
     "text": [
      "34it [00:00, 1644.12it/s]"
     ]
    },
    {
     "name": "stdout",
     "output_type": "stream",
     "text": [
      "folder:  updated_date=2023-07-16\n"
     ]
    },
    {
     "name": "stderr",
     "output_type": "stream",
     "text": [
      "\n"
     ]
    },
    {
     "name": "stdout",
     "output_type": "stream",
     "text": [
      "Files:  ['part_000.gz']\n"
     ]
    },
    {
     "name": "stderr",
     "output_type": "stream",
     "text": [
      "2473it [00:00, 11704.83it/s]\n"
     ]
    },
    {
     "name": "stdout",
     "output_type": "stream",
     "text": [
      "folder:  updated_date=2023-07-17\n",
      "Files:  ['part_000.gz']\n"
     ]
    },
    {
     "name": "stderr",
     "output_type": "stream",
     "text": [
      "907it [00:00, 7286.56it/s]\n"
     ]
    },
    {
     "name": "stdout",
     "output_type": "stream",
     "text": [
      "folder:  updated_date=2023-07-18\n",
      "Files:  ['part_000.gz']\n"
     ]
    },
    {
     "name": "stderr",
     "output_type": "stream",
     "text": [
      "40it [00:00, 2228.70it/s]"
     ]
    },
    {
     "name": "stdout",
     "output_type": "stream",
     "text": [
      "folder:  updated_date=2023-07-19\n"
     ]
    },
    {
     "name": "stderr",
     "output_type": "stream",
     "text": [
      "\n"
     ]
    },
    {
     "name": "stdout",
     "output_type": "stream",
     "text": [
      "Files:  ['part_000.gz']\n"
     ]
    },
    {
     "name": "stderr",
     "output_type": "stream",
     "text": [
      "35it [00:00, 1235.40it/s]"
     ]
    },
    {
     "name": "stdout",
     "output_type": "stream",
     "text": [
      "folder:  updated_date=2023-07-20\n"
     ]
    },
    {
     "name": "stderr",
     "output_type": "stream",
     "text": [
      "\n"
     ]
    },
    {
     "name": "stdout",
     "output_type": "stream",
     "text": [
      "Files:  ['part_000.gz']\n"
     ]
    },
    {
     "name": "stderr",
     "output_type": "stream",
     "text": [
      "29it [00:00, 939.29it/s]"
     ]
    },
    {
     "name": "stdout",
     "output_type": "stream",
     "text": [
      "folder:  updated_date=2023-07-21\n"
     ]
    },
    {
     "name": "stderr",
     "output_type": "stream",
     "text": [
      "\n"
     ]
    },
    {
     "name": "stdout",
     "output_type": "stream",
     "text": [
      "Files:  ['part_000.gz']\n"
     ]
    },
    {
     "name": "stderr",
     "output_type": "stream",
     "text": [
      "3133it [00:00, 7459.99it/s]\n"
     ]
    },
    {
     "name": "stdout",
     "output_type": "stream",
     "text": [
      "folder:  updated_date=2023-07-22\n",
      "Files:  ['part_000.gz']\n"
     ]
    },
    {
     "name": "stderr",
     "output_type": "stream",
     "text": [
      "300it [00:00, 2859.97it/s]"
     ]
    },
    {
     "name": "stdout",
     "output_type": "stream",
     "text": [
      "folder:  updated_date=2023-07-23\n"
     ]
    },
    {
     "name": "stderr",
     "output_type": "stream",
     "text": [
      "\n"
     ]
    },
    {
     "name": "stdout",
     "output_type": "stream",
     "text": [
      "Files:  ['part_000.gz']\n"
     ]
    },
    {
     "name": "stderr",
     "output_type": "stream",
     "text": [
      "554it [00:00, 9189.12it/s]\n"
     ]
    },
    {
     "name": "stdout",
     "output_type": "stream",
     "text": [
      "folder:  updated_date=2023-07-24\n",
      "Files:  ['part_000.gz']\n"
     ]
    },
    {
     "name": "stderr",
     "output_type": "stream",
     "text": [
      "354it [00:00, 5432.76it/s]"
     ]
    },
    {
     "name": "stdout",
     "output_type": "stream",
     "text": [
      "folder:  updated_date=2023-07-25\n"
     ]
    },
    {
     "name": "stderr",
     "output_type": "stream",
     "text": [
      "\n"
     ]
    },
    {
     "name": "stdout",
     "output_type": "stream",
     "text": [
      "Files:  ['part_000.gz']\n"
     ]
    },
    {
     "name": "stderr",
     "output_type": "stream",
     "text": [
      "30it [00:00, 236.80it/s]"
     ]
    },
    {
     "name": "stdout",
     "output_type": "stream",
     "text": [
      "folder:  updated_date=2023-07-27\n"
     ]
    },
    {
     "name": "stderr",
     "output_type": "stream",
     "text": [
      "\n"
     ]
    },
    {
     "name": "stdout",
     "output_type": "stream",
     "text": [
      "Files:  ['part_000.gz']\n"
     ]
    },
    {
     "name": "stderr",
     "output_type": "stream",
     "text": [
      "23it [00:00, 1007.29it/s]"
     ]
    },
    {
     "name": "stdout",
     "output_type": "stream",
     "text": [
      "folder:  updated_date=2023-07-28\n"
     ]
    },
    {
     "name": "stderr",
     "output_type": "stream",
     "text": [
      "\n"
     ]
    },
    {
     "name": "stdout",
     "output_type": "stream",
     "text": [
      "Files:  ['part_000.gz']\n"
     ]
    },
    {
     "name": "stderr",
     "output_type": "stream",
     "text": [
      "1it [00:00, 62.68it/s]"
     ]
    },
    {
     "name": "stdout",
     "output_type": "stream",
     "text": [
      "folder:  updated_date=2023-07-29\n"
     ]
    },
    {
     "name": "stderr",
     "output_type": "stream",
     "text": [
      "\n"
     ]
    },
    {
     "name": "stdout",
     "output_type": "stream",
     "text": [
      "Files:  ['part_000.gz']\n"
     ]
    },
    {
     "name": "stderr",
     "output_type": "stream",
     "text": [
      "1it [00:00, 61.59it/s]"
     ]
    },
    {
     "name": "stdout",
     "output_type": "stream",
     "text": [
      "folder:  updated_date=2023-07-30\n"
     ]
    },
    {
     "name": "stderr",
     "output_type": "stream",
     "text": [
      "\n"
     ]
    },
    {
     "name": "stdout",
     "output_type": "stream",
     "text": [
      "Files:  ['part_000.gz']\n"
     ]
    },
    {
     "name": "stderr",
     "output_type": "stream",
     "text": [
      "521it [00:00, 6504.79it/s]"
     ]
    },
    {
     "name": "stdout",
     "output_type": "stream",
     "text": [
      "folder:  updated_date=2023-07-31\n"
     ]
    },
    {
     "name": "stderr",
     "output_type": "stream",
     "text": [
      "\n"
     ]
    },
    {
     "name": "stdout",
     "output_type": "stream",
     "text": [
      "Files:  ['part_000.gz']\n"
     ]
    },
    {
     "name": "stderr",
     "output_type": "stream",
     "text": [
      "172it [00:00, 3266.96it/s]"
     ]
    },
    {
     "name": "stdout",
     "output_type": "stream",
     "text": [
      "folder:  updated_date=2023-08-01\n"
     ]
    },
    {
     "name": "stderr",
     "output_type": "stream",
     "text": [
      "\n"
     ]
    },
    {
     "name": "stdout",
     "output_type": "stream",
     "text": [
      "Files:  ['part_000.gz']\n"
     ]
    },
    {
     "name": "stderr",
     "output_type": "stream",
     "text": [
      "3it [00:00, 978.99it/s]"
     ]
    },
    {
     "name": "stdout",
     "output_type": "stream",
     "text": [
      "folder:  updated_date=2023-08-02\n"
     ]
    },
    {
     "name": "stderr",
     "output_type": "stream",
     "text": [
      "\n"
     ]
    },
    {
     "name": "stdout",
     "output_type": "stream",
     "text": [
      "Files:  ['part_000.gz']\n"
     ]
    },
    {
     "name": "stderr",
     "output_type": "stream",
     "text": [
      "18it [00:00, 548.03it/s]"
     ]
    },
    {
     "name": "stdout",
     "output_type": "stream",
     "text": [
      "folder:  updated_date=2023-08-03\n"
     ]
    },
    {
     "name": "stderr",
     "output_type": "stream",
     "text": [
      "\n"
     ]
    },
    {
     "name": "stdout",
     "output_type": "stream",
     "text": [
      "Files:  ['part_000.gz']\n"
     ]
    },
    {
     "name": "stderr",
     "output_type": "stream",
     "text": [
      "79it [00:00, 643.01it/s]"
     ]
    },
    {
     "name": "stdout",
     "output_type": "stream",
     "text": [
      "folder:  updated_date=2023-08-04\n"
     ]
    },
    {
     "name": "stderr",
     "output_type": "stream",
     "text": [
      "\n"
     ]
    },
    {
     "name": "stdout",
     "output_type": "stream",
     "text": [
      "Files:  ['part_000.gz']\n"
     ]
    },
    {
     "name": "stderr",
     "output_type": "stream",
     "text": [
      "116it [00:00, 3658.02it/s]"
     ]
    },
    {
     "name": "stdout",
     "output_type": "stream",
     "text": [
      "folder:  updated_date=2023-08-05\n"
     ]
    },
    {
     "name": "stderr",
     "output_type": "stream",
     "text": [
      "\n"
     ]
    },
    {
     "name": "stdout",
     "output_type": "stream",
     "text": [
      "Files:  ['part_000.gz']\n"
     ]
    },
    {
     "name": "stderr",
     "output_type": "stream",
     "text": [
      "114it [00:00, 6692.01it/s]"
     ]
    },
    {
     "name": "stdout",
     "output_type": "stream",
     "text": [
      "folder:  updated_date=2023-08-06\n"
     ]
    },
    {
     "name": "stderr",
     "output_type": "stream",
     "text": [
      "\n"
     ]
    },
    {
     "name": "stdout",
     "output_type": "stream",
     "text": [
      "Files:  ['part_000.gz']\n"
     ]
    },
    {
     "name": "stderr",
     "output_type": "stream",
     "text": [
      "2402it [00:00, 10909.40it/s]\n"
     ]
    },
    {
     "name": "stdout",
     "output_type": "stream",
     "text": [
      "folder:  updated_date=2023-08-07\n",
      "Files:  ['part_000.gz']\n"
     ]
    },
    {
     "name": "stderr",
     "output_type": "stream",
     "text": [
      "1073it [00:00, 8050.67it/s]\n"
     ]
    },
    {
     "name": "stdout",
     "output_type": "stream",
     "text": [
      "folder:  updated_date=2023-08-08\n",
      "Files:  ['part_000.gz']\n"
     ]
    },
    {
     "name": "stderr",
     "output_type": "stream",
     "text": [
      "54it [00:00, 4979.28it/s]"
     ]
    },
    {
     "name": "stdout",
     "output_type": "stream",
     "text": [
      "folder:  updated_date=2023-08-09\n"
     ]
    },
    {
     "name": "stderr",
     "output_type": "stream",
     "text": [
      "\n"
     ]
    },
    {
     "name": "stdout",
     "output_type": "stream",
     "text": [
      "Files:  ['part_000.gz']\n"
     ]
    },
    {
     "name": "stderr",
     "output_type": "stream",
     "text": [
      "60it [00:00, 2216.65it/s]"
     ]
    },
    {
     "name": "stdout",
     "output_type": "stream",
     "text": [
      "folder:  updated_date=2023-08-10\n"
     ]
    },
    {
     "name": "stderr",
     "output_type": "stream",
     "text": [
      "\n"
     ]
    },
    {
     "name": "stdout",
     "output_type": "stream",
     "text": [
      "Files:  ['part_000.gz']\n"
     ]
    },
    {
     "name": "stderr",
     "output_type": "stream",
     "text": [
      "155it [00:00, 6377.26it/s]"
     ]
    },
    {
     "name": "stdout",
     "output_type": "stream",
     "text": [
      "folder:  updated_date=2023-08-11\n"
     ]
    },
    {
     "name": "stderr",
     "output_type": "stream",
     "text": [
      "\n"
     ]
    },
    {
     "name": "stdout",
     "output_type": "stream",
     "text": [
      "Files:  ['part_000.gz']\n"
     ]
    },
    {
     "name": "stderr",
     "output_type": "stream",
     "text": [
      "529it [00:00, 10220.82it/s]"
     ]
    },
    {
     "name": "stdout",
     "output_type": "stream",
     "text": [
      "folder:  updated_date=2023-08-12\n"
     ]
    },
    {
     "name": "stderr",
     "output_type": "stream",
     "text": [
      "\n"
     ]
    },
    {
     "name": "stdout",
     "output_type": "stream",
     "text": [
      "Files:  ['part_000.gz']\n"
     ]
    },
    {
     "name": "stderr",
     "output_type": "stream",
     "text": [
      "523it [00:00, 9771.88it/s]"
     ]
    },
    {
     "name": "stdout",
     "output_type": "stream",
     "text": [
      "folder:  updated_date=2023-08-13\n"
     ]
    },
    {
     "name": "stderr",
     "output_type": "stream",
     "text": [
      "\n"
     ]
    },
    {
     "name": "stdout",
     "output_type": "stream",
     "text": [
      "Files:  ['part_000.gz']\n"
     ]
    },
    {
     "name": "stderr",
     "output_type": "stream",
     "text": [
      "6568it [00:00, 10583.22it/s]\n"
     ]
    },
    {
     "name": "stdout",
     "output_type": "stream",
     "text": [
      "folder:  updated_date=2023-08-14\n",
      "Files:  ['part_000.gz']\n"
     ]
    },
    {
     "name": "stderr",
     "output_type": "stream",
     "text": [
      "4671it [00:00, 11031.11it/s]\n"
     ]
    },
    {
     "name": "stdout",
     "output_type": "stream",
     "text": [
      "folder:  updated_date=2023-08-15\n",
      "Files:  ['part_000.gz']\n"
     ]
    },
    {
     "name": "stderr",
     "output_type": "stream",
     "text": [
      "5408it [00:00, 10455.18it/s]\n"
     ]
    },
    {
     "name": "stdout",
     "output_type": "stream",
     "text": [
      "folder:  updated_date=2023-08-16\n",
      "Files:  ['part_000.gz']\n"
     ]
    },
    {
     "name": "stderr",
     "output_type": "stream",
     "text": [
      "9749it [00:00, 11047.60it/s]\n"
     ]
    },
    {
     "name": "stdout",
     "output_type": "stream",
     "text": [
      "folder:  updated_date=2023-08-17\n",
      "Files:  ['part_000.gz']\n"
     ]
    },
    {
     "name": "stderr",
     "output_type": "stream",
     "text": [
      "44119it [00:04, 9897.38it/s] \n"
     ]
    },
    {
     "name": "stdout",
     "output_type": "stream",
     "text": [
      "Time: 39.756977558135986\n"
     ]
    }
   ],
   "source": [
    "## organize the data into flat files \n",
    "\n",
    "start = time.time()\n",
    "\n",
    "## search in each folder\n",
    "\n",
    "for folder in list_folders_institutions:\n",
    "    \n",
    "    print(\"folder: \" , folder)\n",
    "    \n",
    "    ##get the files in the folder\n",
    "    \n",
    "    files = ! ls {main_path + data}/institutions/{folder}\n",
    "    print(\"Files: \" , files)\n",
    "    \n",
    "    #create dictionary \n",
    "    dic = {}\n",
    "    \n",
    "    ##search in each file in the folder \n",
    "    for file in files:\n",
    "        \n",
    "        ##unzip file\n",
    "        with gzip.open(main_path + data +\"/institutions/\" + folder + \"/\" + file, 'rb') as f:\n",
    "        \n",
    "        \n",
    "            \n",
    "            \n",
    "            #print(\"File:\" , file)\n",
    "\n",
    "            #open file \n",
    "\n",
    "            #fill out the intermediate dictionary \n",
    "            for line in tqdm(f):\n",
    "                line = json.loads(line)\n",
    "                \n",
    "                institution_id = line[\"id\"][21:]\n",
    "                \n",
    "                   \n",
    "                dic[institution_id] = {}\n",
    "                dic[institution_id][\"display_name\"] = line[\"display_name\"]\n",
    "                dic[institution_id][\"display_name_alternatives\"] = ''\n",
    "                if line[\"display_name_acronyms\"] != []:\n",
    "                    dic[institution_id][\"display_name_alternatives\"] += \"; \".join(line[\"display_name_acronyms\"])\n",
    "                if line[\"display_name_alternatives\"] != []:\n",
    "                    dic[institution_id][\"display_name_alternatives\"] += \"; \".join(line[\"display_name_alternatives\"])\n",
    "                dic[institution_id][\"homepage_url\"] = line[\"homepage_url\"]\n",
    "                \n",
    "                dic[institution_id][\"works_count\"] = line[\"works_count\"]\n",
    "                dic[institution_id][\"cited_by_count\"] = line[\"cited_by_count\"]\n",
    "                \n",
    "                dic[institution_id][\"type\"] = line[\"type\"]\n",
    "                \n",
    "                \n",
    "                dic[institution_id][\"longitude\"] = line[\"geo\"][\"longitude\"]\n",
    "                dic[institution_id][\"latitude\"] = line[\"geo\"][\"latitude\"]\n",
    "                dic[institution_id][\"city\"] = line[\"geo\"][\"city\"]\n",
    "                dic[institution_id][\"geonames_city_id\"] = line[\"geo\"][\"geonames_city_id\"]\n",
    "                dic[institution_id][\"region\"] = line[\"geo\"][\"region\"]\n",
    "                dic[institution_id][\"country\"] = line[\"geo\"][\"country\"]\n",
    "                dic[institution_id][\"country_code\"] = line[\"geo\"][\"country_code\"]\n",
    "                \n",
    "                dic[institution_id][\"last_update\"] = line[\"updated\"][:10]\n",
    "                     \n",
    "\n",
    "    table = pd.DataFrame(dic).T\n",
    "    table.to_csv(path + \"OA_institutions/\" + folder + \".tsv\", sep = \"\\t\", index_label = \"institution_id\")\n",
    "               \n",
    "            \n",
    "end = time.time()\n",
    "print(\"Time:\" , end - start) \n",
    "\n",
    "\n"
   ]
  },
  {
   "cell_type": "markdown",
   "id": "0f87a137",
   "metadata": {
    "jp-MarkdownHeadingCollapsed": true
   },
   "source": [
    "### Check the data"
   ]
  },
  {
   "cell_type": "code",
   "execution_count": 92,
   "id": "5300cd50",
   "metadata": {},
   "outputs": [
    {
     "data": {
      "text/html": [
       "<div>\n",
       "<style scoped>\n",
       "    .dataframe tbody tr th:only-of-type {\n",
       "        vertical-align: middle;\n",
       "    }\n",
       "\n",
       "    .dataframe tbody tr th {\n",
       "        vertical-align: top;\n",
       "    }\n",
       "\n",
       "    .dataframe thead th {\n",
       "        text-align: right;\n",
       "    }\n",
       "</style>\n",
       "<table border=\"1\" class=\"dataframe\">\n",
       "  <thead>\n",
       "    <tr style=\"text-align: right;\">\n",
       "      <th></th>\n",
       "      <th>institution_id</th>\n",
       "      <th>display_name</th>\n",
       "      <th>display_name_alternatives</th>\n",
       "      <th>homepage_url</th>\n",
       "      <th>works_count</th>\n",
       "      <th>cited_by_count</th>\n",
       "      <th>type</th>\n",
       "      <th>longitude</th>\n",
       "      <th>latitude</th>\n",
       "      <th>city</th>\n",
       "      <th>geonames_city_id</th>\n",
       "      <th>region</th>\n",
       "      <th>country</th>\n",
       "      <th>country_code</th>\n",
       "      <th>last_update</th>\n",
       "    </tr>\n",
       "  </thead>\n",
       "  <tbody>\n",
       "    <tr>\n",
       "      <th>0</th>\n",
       "      <td>I4210144170</td>\n",
       "      <td>Clear Lake Medical Foundation</td>\n",
       "      <td>NaN</td>\n",
       "      <td>http://www.clearlakemedicalfoundation.com/</td>\n",
       "      <td>2</td>\n",
       "      <td>211</td>\n",
       "      <td>other</td>\n",
       "      <td>-95.260056</td>\n",
       "      <td>29.743965</td>\n",
       "      <td>Houston</td>\n",
       "      <td>4699066.0</td>\n",
       "      <td>Texas</td>\n",
       "      <td>United States</td>\n",
       "      <td>US</td>\n",
       "      <td>2023-06-07</td>\n",
       "    </tr>\n",
       "    <tr>\n",
       "      <th>1</th>\n",
       "      <td>I4210164531</td>\n",
       "      <td>Nasson College</td>\n",
       "      <td>Nasson Institute</td>\n",
       "      <td>https://www.nasson.org</td>\n",
       "      <td>20</td>\n",
       "      <td>173</td>\n",
       "      <td>education</td>\n",
       "      <td>-70.799550</td>\n",
       "      <td>43.466022</td>\n",
       "      <td>Springvale</td>\n",
       "      <td>4979580.0</td>\n",
       "      <td>Maine</td>\n",
       "      <td>United States</td>\n",
       "      <td>US</td>\n",
       "      <td>2023-06-07</td>\n",
       "    </tr>\n",
       "    <tr>\n",
       "      <th>2</th>\n",
       "      <td>I4210163161</td>\n",
       "      <td>NanOasis Technologies (United States)</td>\n",
       "      <td>NaN</td>\n",
       "      <td>https://www.nanoasisinc.fogcitydesign.com/</td>\n",
       "      <td>3</td>\n",
       "      <td>166</td>\n",
       "      <td>company</td>\n",
       "      <td>-122.333450</td>\n",
       "      <td>37.919600</td>\n",
       "      <td>Richmond</td>\n",
       "      <td>5387428.0</td>\n",
       "      <td>California</td>\n",
       "      <td>United States</td>\n",
       "      <td>US</td>\n",
       "      <td>2023-06-07</td>\n",
       "    </tr>\n",
       "    <tr>\n",
       "      <th>3</th>\n",
       "      <td>I4210101651</td>\n",
       "      <td>Kenya Institute Of Organic Farming</td>\n",
       "      <td>KIOF</td>\n",
       "      <td>http://www.kiof.net/</td>\n",
       "      <td>4</td>\n",
       "      <td>152</td>\n",
       "      <td>nonprofit</td>\n",
       "      <td>37.013905</td>\n",
       "      <td>-1.089038</td>\n",
       "      <td>Nairobi</td>\n",
       "      <td>184745.0</td>\n",
       "      <td>NaN</td>\n",
       "      <td>Kenya</td>\n",
       "      <td>KE</td>\n",
       "      <td>2023-06-07</td>\n",
       "    </tr>\n",
       "    <tr>\n",
       "      <th>4</th>\n",
       "      <td>I4210163681</td>\n",
       "      <td>United African University of Tanzania</td>\n",
       "      <td>UAUT</td>\n",
       "      <td>https://www.uaut.ac.tz/</td>\n",
       "      <td>2</td>\n",
       "      <td>144</td>\n",
       "      <td>education</td>\n",
       "      <td>39.328940</td>\n",
       "      <td>-6.870453</td>\n",
       "      <td>Dar es Salaam</td>\n",
       "      <td>160263.0</td>\n",
       "      <td>NaN</td>\n",
       "      <td>Tanzania</td>\n",
       "      <td>TZ</td>\n",
       "      <td>2023-06-07</td>\n",
       "    </tr>\n",
       "    <tr>\n",
       "      <th>...</th>\n",
       "      <td>...</td>\n",
       "      <td>...</td>\n",
       "      <td>...</td>\n",
       "      <td>...</td>\n",
       "      <td>...</td>\n",
       "      <td>...</td>\n",
       "      <td>...</td>\n",
       "      <td>...</td>\n",
       "      <td>...</td>\n",
       "      <td>...</td>\n",
       "      <td>...</td>\n",
       "      <td>...</td>\n",
       "      <td>...</td>\n",
       "      <td>...</td>\n",
       "      <td>...</td>\n",
       "    </tr>\n",
       "    <tr>\n",
       "      <th>102553</th>\n",
       "      <td>I4210167279</td>\n",
       "      <td>National Athletic Trainers Association</td>\n",
       "      <td>NATA</td>\n",
       "      <td>https://www.nata.org/</td>\n",
       "      <td>1</td>\n",
       "      <td>0</td>\n",
       "      <td>other</td>\n",
       "      <td>-96.922970</td>\n",
       "      <td>32.938538</td>\n",
       "      <td>Carrollton</td>\n",
       "      <td>4679195.0</td>\n",
       "      <td>Texas</td>\n",
       "      <td>United States</td>\n",
       "      <td>US</td>\n",
       "      <td>2023-08-17</td>\n",
       "    </tr>\n",
       "    <tr>\n",
       "      <th>102554</th>\n",
       "      <td>I4210167362</td>\n",
       "      <td>Foundation for the Education and Research in N...</td>\n",
       "      <td>FERNE</td>\n",
       "      <td>http://www.ferne.org/</td>\n",
       "      <td>0</td>\n",
       "      <td>0</td>\n",
       "      <td>nonprofit</td>\n",
       "      <td>-87.671715</td>\n",
       "      <td>41.871350</td>\n",
       "      <td>Chicago</td>\n",
       "      <td>4887398.0</td>\n",
       "      <td>Illinois</td>\n",
       "      <td>United States</td>\n",
       "      <td>US</td>\n",
       "      <td>2023-08-17</td>\n",
       "    </tr>\n",
       "    <tr>\n",
       "      <th>102555</th>\n",
       "      <td>I4210167401</td>\n",
       "      <td>American Dysautonomia Institute</td>\n",
       "      <td>ADI</td>\n",
       "      <td>http://www.adiwebsite.org/</td>\n",
       "      <td>0</td>\n",
       "      <td>0</td>\n",
       "      <td>nonprofit</td>\n",
       "      <td>-83.459885</td>\n",
       "      <td>42.530990</td>\n",
       "      <td>Detroit</td>\n",
       "      <td>4990729.0</td>\n",
       "      <td>Michigan</td>\n",
       "      <td>United States</td>\n",
       "      <td>US</td>\n",
       "      <td>2023-08-17</td>\n",
       "    </tr>\n",
       "    <tr>\n",
       "      <th>102556</th>\n",
       "      <td>I82930923</td>\n",
       "      <td>Society for Research into Higher Education</td>\n",
       "      <td>SRHE</td>\n",
       "      <td>https://www.srhe.ac.uk/</td>\n",
       "      <td>2</td>\n",
       "      <td>0</td>\n",
       "      <td>other</td>\n",
       "      <td>-0.119311</td>\n",
       "      <td>51.531994</td>\n",
       "      <td>London</td>\n",
       "      <td>2643743.0</td>\n",
       "      <td>NaN</td>\n",
       "      <td>United Kingdom</td>\n",
       "      <td>GB</td>\n",
       "      <td>2023-08-17</td>\n",
       "    </tr>\n",
       "    <tr>\n",
       "      <th>102557</th>\n",
       "      <td>I902206664</td>\n",
       "      <td>KCI (Netherlands)</td>\n",
       "      <td>Kinetic Concepts</td>\n",
       "      <td>https://www.kcinederland.nl/</td>\n",
       "      <td>0</td>\n",
       "      <td>0</td>\n",
       "      <td>company</td>\n",
       "      <td>5.088102</td>\n",
       "      <td>52.064140</td>\n",
       "      <td>Utrecht</td>\n",
       "      <td>2745912.0</td>\n",
       "      <td>NaN</td>\n",
       "      <td>Netherlands</td>\n",
       "      <td>NL</td>\n",
       "      <td>2023-08-17</td>\n",
       "    </tr>\n",
       "  </tbody>\n",
       "</table>\n",
       "<p>102558 rows × 15 columns</p>\n",
       "</div>"
      ],
      "text/plain": [
       "       institution_id                                       display_name  \\\n",
       "0         I4210144170                      Clear Lake Medical Foundation   \n",
       "1         I4210164531                                     Nasson College   \n",
       "2         I4210163161              NanOasis Technologies (United States)   \n",
       "3         I4210101651                 Kenya Institute Of Organic Farming   \n",
       "4         I4210163681              United African University of Tanzania   \n",
       "...               ...                                                ...   \n",
       "102553    I4210167279             National Athletic Trainers Association   \n",
       "102554    I4210167362  Foundation for the Education and Research in N...   \n",
       "102555    I4210167401                    American Dysautonomia Institute   \n",
       "102556      I82930923         Society for Research into Higher Education   \n",
       "102557     I902206664                                  KCI (Netherlands)   \n",
       "\n",
       "       display_name_alternatives                                homepage_url  \\\n",
       "0                            NaN  http://www.clearlakemedicalfoundation.com/   \n",
       "1               Nasson Institute                      https://www.nasson.org   \n",
       "2                            NaN  https://www.nanoasisinc.fogcitydesign.com/   \n",
       "3                           KIOF                        http://www.kiof.net/   \n",
       "4                           UAUT                     https://www.uaut.ac.tz/   \n",
       "...                          ...                                         ...   \n",
       "102553                      NATA                       https://www.nata.org/   \n",
       "102554                     FERNE                       http://www.ferne.org/   \n",
       "102555                       ADI                  http://www.adiwebsite.org/   \n",
       "102556                      SRHE                     https://www.srhe.ac.uk/   \n",
       "102557          Kinetic Concepts                https://www.kcinederland.nl/   \n",
       "\n",
       "        works_count  cited_by_count       type   longitude   latitude  \\\n",
       "0                 2             211      other  -95.260056  29.743965   \n",
       "1                20             173  education  -70.799550  43.466022   \n",
       "2                 3             166    company -122.333450  37.919600   \n",
       "3                 4             152  nonprofit   37.013905  -1.089038   \n",
       "4                 2             144  education   39.328940  -6.870453   \n",
       "...             ...             ...        ...         ...        ...   \n",
       "102553            1               0      other  -96.922970  32.938538   \n",
       "102554            0               0  nonprofit  -87.671715  41.871350   \n",
       "102555            0               0  nonprofit  -83.459885  42.530990   \n",
       "102556            2               0      other   -0.119311  51.531994   \n",
       "102557            0               0    company    5.088102  52.064140   \n",
       "\n",
       "                 city  geonames_city_id      region         country  \\\n",
       "0             Houston         4699066.0       Texas   United States   \n",
       "1          Springvale         4979580.0       Maine   United States   \n",
       "2            Richmond         5387428.0  California   United States   \n",
       "3             Nairobi          184745.0         NaN           Kenya   \n",
       "4       Dar es Salaam          160263.0         NaN        Tanzania   \n",
       "...               ...               ...         ...             ...   \n",
       "102553     Carrollton         4679195.0       Texas   United States   \n",
       "102554        Chicago         4887398.0    Illinois   United States   \n",
       "102555        Detroit         4990729.0    Michigan   United States   \n",
       "102556         London         2643743.0         NaN  United Kingdom   \n",
       "102557        Utrecht         2745912.0         NaN     Netherlands   \n",
       "\n",
       "       country_code last_update  \n",
       "0                US  2023-06-07  \n",
       "1                US  2023-06-07  \n",
       "2                US  2023-06-07  \n",
       "3                KE  2023-06-07  \n",
       "4                TZ  2023-06-07  \n",
       "...             ...         ...  \n",
       "102553           US  2023-08-17  \n",
       "102554           US  2023-08-17  \n",
       "102555           US  2023-08-17  \n",
       "102556           GB  2023-08-17  \n",
       "102557           NL  2023-08-17  \n",
       "\n",
       "[102558 rows x 15 columns]"
      ]
     },
     "execution_count": 92,
     "metadata": {},
     "output_type": "execute_result"
    }
   ],
   "source": [
    "table = pd.concat([ pd.read_csv(path + \"OA_institutions/\" + folder + \".tsv\", delimiter = \"\\t\") for folder in list_folders_institutions ] ) \n",
    "table"
   ]
  },
  {
   "cell_type": "code",
   "execution_count": 89,
   "id": "00288e0a",
   "metadata": {},
   "outputs": [],
   "source": [
    "table.to_csv(main_path + \"Emma/Download_OpenAlex/OA_institutions/institutions_up_to_20230817.tsv\" , sep = \"\\t\", index = False )"
   ]
  },
  {
   "cell_type": "markdown",
   "id": "1ba97924",
   "metadata": {},
   "source": [
    "### Upload the data into the database (Postgres)"
   ]
  },
  {
   "cell_type": "code",
   "execution_count": null,
   "id": "4956bbc2-8128-47e2-bbe9-a47f2632ccc4",
   "metadata": {},
   "outputs": [],
   "source": [
    "## 1) create the table. Drop table if already exists, then create table with the given schema\n",
    "\n",
    "## pick a name for the table \n",
    "table_name = \"institutions_OpenAlex\"\n",
    "\n",
    "## create table. Precise table schema and columns names and types \n",
    "schema =\"\"\"CREATE TABLE  \"\"\" + table_name + \"\"\" (\n",
    "   institution_id VARCHAR(20),\n",
    "   display_name VARCHAR(300),\n",
    "   display_name_alternatives TEXT ,\n",
    "   homepage_url TEXT,\n",
    "   works_count INTEGER,\n",
    "   cited_by_count INTEGER,\n",
    "   type VARCHAR(20),\n",
    "   longitude FLOAT,\n",
    "   latitude FLOAT,\n",
    "   city VARCHAR(50),\n",
    "   geonames_city_id FLOAT,\n",
    "   region VARCHAR(50),\n",
    "   country VARCHAR(50),\n",
    "   country_code VARCHAR(3),\n",
    "   last_update DATE\n",
    "   );\"\"\"\n",
    "\n",
    "drop_if_exists = False\n",
    "\n",
    "\n",
    "#create_table(table_name, schema, drop_if_exists)"
   ]
  },
  {
   "cell_type": "code",
   "execution_count": null,
   "id": "1eea85f1-72bb-4b44-8034-df888a2e4a07",
   "metadata": {},
   "outputs": [],
   "source": [
    "## 2) fill out the table with the data. Add the data chunk by chunk for Python RAM memory limitation. \n",
    "\n",
    "table_name = \"institutions_OpenAlex\"\n",
    "\n",
    "size = 1000000\n",
    "\n",
    "path= '/home/fs01/spec1142/Emma/GateKeepers/Download_OpenAlex/'\n",
    "data_path = path + \"OA_institutions/institutions_up_to_20230817.tsv\"\n",
    "\n",
    "\n",
    "#load_data_into_table(table_name, data_path, size)\n"
   ]
  },
  {
   "cell_type": "code",
   "execution_count": null,
   "id": "364db674-36aa-4776-9684-46253bf035a8",
   "metadata": {},
   "outputs": [],
   "source": [
    "## 3) once everything is in the database, index table. \n",
    "\n",
    "## chose the columns to index \n",
    "table_name = \"institutions_OpenAlex\"\n",
    "index_columns = ['institution_id']\n",
    "\n",
    "#index_table(table_name , index_columns)"
   ]
  },
  {
   "cell_type": "markdown",
   "id": "0c91ac84",
   "metadata": {
    "jp-MarkdownHeadingCollapsed": true
   },
   "source": [
    "### Test the database "
   ]
  },
  {
   "cell_type": "code",
   "execution_count": 30,
   "id": "b019e67d",
   "metadata": {},
   "outputs": [],
   "source": [
    "#establishing the connection\n",
    "conn = psycopg2.connect(\"user=\" + user + \" password=\" + password)\n",
    "\n",
    "#Creating a cursor object using the cursor() method\n",
    "cursor = conn.cursor()\n",
    "\n",
    "table_name = \"institutions_OpenAlex\"\n",
    "\n",
    "\n",
    "\n",
    "#Creating table as per requirement\n",
    "sql =\"\"\"SELECT institution_id_int , institution_id, longitude, latitude, type,  homepage_url, last_update\n",
    "        FROM   institutions_OpenAlex \n",
    "        WHERE institution_id_int = '\"\"\" + '24156275' + \"\"\"';\"\"\"\n",
    "cursor.execute(sql)\n",
    "result = cursor.fetchall()\n",
    "\n",
    "\n",
    "\n",
    "#Closing the connection\n",
    "conn.close()"
   ]
  },
  {
   "cell_type": "markdown",
   "id": "692e2768",
   "metadata": {
    "jp-MarkdownHeadingCollapsed": true
   },
   "source": [
    "## OpenAlex Authors"
   ]
  },
  {
   "cell_type": "code",
   "execution_count": 24,
   "id": "83a955b6-eb6b-4f48-9e4d-d5c2ab72f98e",
   "metadata": {},
   "outputs": [],
   "source": [
    "path = '/home/fs01/spec1142/Emma/GateKeepers/Download_OpenAlex/'\n"
   ]
  },
  {
   "cell_type": "markdown",
   "id": "20ab3c40-58d6-40bc-a22b-06d0a4b26590",
   "metadata": {
    "jp-MarkdownHeadingCollapsed": true
   },
   "source": [
    "### Flatten the data"
   ]
  },
  {
   "cell_type": "code",
   "execution_count": 11,
   "id": "78ca2225",
   "metadata": {
    "scrolled": true
   },
   "outputs": [
    {
     "data": {
      "text/plain": [
       "['nohup.out',\n",
       " 'updated_date=2023-04-21',\n",
       " 'updated_date=2023-05-02',\n",
       " 'updated_date=2023-05-24',\n",
       " 'updated_date=2023-06-08',\n",
       " 'updated_date=2023-06-13',\n",
       " 'updated_date=2023-06-14',\n",
       " 'updated_date=2023-06-18',\n",
       " 'updated_date=2023-06-22',\n",
       " 'updated_date=2023-06-26',\n",
       " 'updated_date=2023-06-27',\n",
       " 'updated_date=2023-06-28',\n",
       " 'updated_date=2023-06-30',\n",
       " 'updated_date=2023-07-02',\n",
       " 'updated_date=2023-07-06',\n",
       " 'updated_date=2023-07-14',\n",
       " 'updated_date=2023-07-17',\n",
       " 'updated_date=2023-07-20',\n",
       " 'updated_date=2023-07-21',\n",
       " 'updated_date=2023-07-25',\n",
       " 'updated_date=2023-07-26',\n",
       " 'updated_date=2023-07-27',\n",
       " 'updated_date=2023-07-28',\n",
       " 'updated_date=2023-07-29',\n",
       " 'updated_date=2023-07-30',\n",
       " 'updated_date=2023-07-31',\n",
       " 'updated_date=2023-08-01',\n",
       " 'updated_date=2023-08-02',\n",
       " 'updated_date=2023-08-03',\n",
       " 'updated_date=2023-08-04',\n",
       " 'updated_date=2023-08-05',\n",
       " 'updated_date=2023-08-06',\n",
       " 'updated_date=2023-08-07',\n",
       " 'updated_date=2023-08-08',\n",
       " 'updated_date=2023-08-09',\n",
       " 'updated_date=2023-08-10',\n",
       " 'updated_date=2023-08-11',\n",
       " 'updated_date=2023-08-12',\n",
       " 'updated_date=2023-08-13',\n",
       " 'updated_date=2023-08-14',\n",
       " 'updated_date=2023-08-15',\n",
       " 'updated_date=2023-08-16',\n",
       " 'updated_date=2023-08-17']"
      ]
     },
     "execution_count": 11,
     "metadata": {},
     "output_type": "execute_result"
    }
   ],
   "source": [
    "## list_folders : list of the folders in the folder \"data/authors/\", which represents the institution files\n",
    "\n",
    "cmd = 'ls ' + main_path + data + '/authors'\n",
    "list_folders_authors = subprocess.check_output(cmd,  shell=True)\n",
    "list_folders_authors = list_folders_authors.decode().split(\"\\n\")\n",
    "list_folders_authors.remove('')\n",
    "list_folders_authors = list_folders_authors[1:]\n",
    "list_folders_authors"
   ]
  },
  {
   "cell_type": "code",
   "execution_count": 12,
   "id": "cfcb5384",
   "metadata": {},
   "outputs": [
    {
     "name": "stdout",
     "output_type": "stream",
     "text": [
      "Files:  ['part_000.gz', 'part_001.gz', 'part_002.gz', 'part_003.gz', 'part_004.gz', 'part_005.gz', 'part_006.gz', 'part_007.gz', 'part_008.gz', 'part_009.gz', 'part_010.gz', 'part_011.gz', 'part_012.gz', 'part_013.gz', 'part_014.gz', 'part_015.gz', 'part_016.gz', 'part_017.gz', 'part_018.gz', 'part_019.gz', 'part_020.gz', 'part_021.gz', 'part_022.gz', 'part_023.gz', 'part_024.gz']\n"
     ]
    }
   ],
   "source": [
    "## print files in one of the foler\n",
    "\n",
    "list_folders_authors = [\"updated_date=2023-07-21\"]\n",
    "\n",
    "folder = list_folders_authors[0]\n",
    "cmd = 'ls ' + main_path + data + '/authors/' + folder\n",
    "files = subprocess.check_output(cmd,  shell=True)\n",
    "files = files.decode().split(\"\\n\")\n",
    "files.remove('')\n",
    "    \n",
    "print(\"Files: \" , files) "
   ]
  },
  {
   "cell_type": "code",
   "execution_count": null,
   "id": "bc8eff6e",
   "metadata": {
    "scrolled": true
   },
   "outputs": [],
   "source": [
    "## organize the data into flat files \n",
    "\n",
    "start = time.time()\n",
    "count = 0 \n",
    "\n",
    "## search in each folder\n",
    "\n",
    "for folder in list_folders_authors:\n",
    "    \n",
    "    print(\"folder: \" , folder)\n",
    "    \n",
    "    ##get the files in the folder\n",
    "    \n",
    "    cmd = 'ls ' + main_path + data + '/authors/' + folder\n",
    "    files = subprocess.check_output(cmd,  shell=True)\n",
    "    files = files.decode().split(\"\\n\")\n",
    "    files.remove('')\n",
    "    \n",
    "    print(\"Files: \" , files) \n",
    "    \n",
    "\n",
    "    \n",
    "    ##search in each file in the folder \n",
    "    for file in files:\n",
    "        \n",
    "        #create dictionary \n",
    "        dic = {}\n",
    "        \n",
    "        ##unzip file\n",
    "        with gzip.open(main_path + data +\"/authors/\" + folder + \"/\" + file, 'rb') as f:\n",
    "        \n",
    "        \n",
    "            \n",
    "\n",
    "            #print(\"File:\" , file)\n",
    "\n",
    "            #open file \n",
    "\n",
    "            #fill out the intermediate dictionary \n",
    "            for line in tqdm(f):\n",
    "                line = json.loads(line)\n",
    "                \n",
    "                author_id = line[\"id\"][21:]\n",
    "                \n",
    "                \n",
    "                dic[author_id] = {}\n",
    "                dic[author_id][\"display_name\"] = line[\"display_name\"]\n",
    "                dic[author_id][\"display_name_alternatives\"] = \"; \".join(line[\"display_name_alternatives\"])\n",
    "\n",
    "                dic[author_id][\"orcid\"] = line[\"orcid\"]\n",
    "\n",
    "                if line[\"last_known_institution\"] != None:\n",
    "                    dic[author_id][\"last_known_institution_id\"] = line[\"last_known_institution\"][\"id\"][21:]\n",
    "                    dic[author_id][\"last_known_institution_display_name\"] = line[\"last_known_institution\"][\"display_name\"]\n",
    "                else:\n",
    "                    dic[author_id][\"last_known_institution_id\"] = None\n",
    "                    dic[author_id][\"last_known_institution_display_name\"] = None\n",
    "                dic[author_id][\"works_count\"] = line[\"works_count\"]\n",
    "                dic[author_id][\"cited_by_count\"] = line[\"cited_by_count\"]\n",
    "                dic[author_id][\"last_update\"] = line[\"updated\"]\n",
    "                \n",
    "                \n",
    "\n",
    "                     \n",
    "\n",
    "        table = pd.DataFrame(dic).T\n",
    "        table.to_csv(path + \"OA_authors/\" + folder + \".tsv\", sep = \"\\t\", index_label = \"institution_id\", mode = 'a')\n",
    "\n",
    "            \n",
    "end = time.time()\n",
    "print(\"Time:\" , end - start) \n",
    "\n"
   ]
  },
  {
   "cell_type": "markdown",
   "id": "c8b44afa",
   "metadata": {
    "jp-MarkdownHeadingCollapsed": true
   },
   "source": [
    "### Check the data"
   ]
  },
  {
   "cell_type": "code",
   "execution_count": 5,
   "id": "6076064e",
   "metadata": {},
   "outputs": [],
   "source": [
    "table = pd.read_csv(path + \"OA_authors/updated_date=2023-07-28.tsv\" , delimiter = \"\\t\")"
   ]
  },
  {
   "cell_type": "code",
   "execution_count": 6,
   "id": "0860a39a",
   "metadata": {},
   "outputs": [
    {
     "data": {
      "text/html": [
       "<div>\n",
       "<style scoped>\n",
       "    .dataframe tbody tr th:only-of-type {\n",
       "        vertical-align: middle;\n",
       "    }\n",
       "\n",
       "    .dataframe tbody tr th {\n",
       "        vertical-align: top;\n",
       "    }\n",
       "\n",
       "    .dataframe thead th {\n",
       "        text-align: right;\n",
       "    }\n",
       "</style>\n",
       "<table border=\"1\" class=\"dataframe\">\n",
       "  <thead>\n",
       "    <tr style=\"text-align: right;\">\n",
       "      <th></th>\n",
       "      <th>author_id</th>\n",
       "      <th>display_name</th>\n",
       "      <th>display_name_alternatives</th>\n",
       "      <th>orcid</th>\n",
       "      <th>last_known_institution_id</th>\n",
       "      <th>last_known_institution_display_name</th>\n",
       "      <th>works_count</th>\n",
       "      <th>cited_by_count</th>\n",
       "      <th>last_update</th>\n",
       "    </tr>\n",
       "  </thead>\n",
       "  <tbody>\n",
       "    <tr>\n",
       "      <th>0</th>\n",
       "      <td>A5087054413</td>\n",
       "      <td>Marianne Dieckmann</td>\n",
       "      <td>M. Dieckmann; Marianne Dieckmann; M Dieckmann</td>\n",
       "      <td>NaN</td>\n",
       "      <td>I97018004</td>\n",
       "      <td>Stanford University</td>\n",
       "      <td>15</td>\n",
       "      <td>13039</td>\n",
       "      <td>2023-07-28</td>\n",
       "    </tr>\n",
       "    <tr>\n",
       "      <th>1</th>\n",
       "      <td>A5043169110</td>\n",
       "      <td>Gerald Klatskin</td>\n",
       "      <td>G Klatskin; Gerald Klatskin; G. Klatskin</td>\n",
       "      <td>NaN</td>\n",
       "      <td>I32971472</td>\n",
       "      <td>Yale University</td>\n",
       "      <td>126</td>\n",
       "      <td>7056</td>\n",
       "      <td>2023-07-28</td>\n",
       "    </tr>\n",
       "    <tr>\n",
       "      <th>2</th>\n",
       "      <td>A5062314199</td>\n",
       "      <td>George J. Schroepfer</td>\n",
       "      <td>George J.Schroepfer; G.J. Schroepfer; G. J. Ju...</td>\n",
       "      <td>NaN</td>\n",
       "      <td>I74775410</td>\n",
       "      <td>Rice University</td>\n",
       "      <td>260</td>\n",
       "      <td>6812</td>\n",
       "      <td>2023-07-28</td>\n",
       "    </tr>\n",
       "    <tr>\n",
       "      <th>3</th>\n",
       "      <td>A5020422860</td>\n",
       "      <td>Andreas R. Gruentzig</td>\n",
       "      <td>A. R. Gruentzig; Andreas Gruentzig; A R Gruent...</td>\n",
       "      <td>NaN</td>\n",
       "      <td>I2800556163</td>\n",
       "      <td>Emory University Hospital</td>\n",
       "      <td>74</td>\n",
       "      <td>6390</td>\n",
       "      <td>2023-07-28</td>\n",
       "    </tr>\n",
       "    <tr>\n",
       "      <th>4</th>\n",
       "      <td>A5089029176</td>\n",
       "      <td>Elinor T. Adman</td>\n",
       "      <td>E. Adman; Elinor Adman; Elinor T. Adman; E T A...</td>\n",
       "      <td>NaN</td>\n",
       "      <td>I201448701</td>\n",
       "      <td>University of Washington</td>\n",
       "      <td>130</td>\n",
       "      <td>6211</td>\n",
       "      <td>2023-07-28</td>\n",
       "    </tr>\n",
       "    <tr>\n",
       "      <th>...</th>\n",
       "      <td>...</td>\n",
       "      <td>...</td>\n",
       "      <td>...</td>\n",
       "      <td>...</td>\n",
       "      <td>...</td>\n",
       "      <td>...</td>\n",
       "      <td>...</td>\n",
       "      <td>...</td>\n",
       "      <td>...</td>\n",
       "    </tr>\n",
       "    <tr>\n",
       "      <th>12106141</th>\n",
       "      <td>A5091914855</td>\n",
       "      <td>Carmiña Ofelia Vargas Riaño</td>\n",
       "      <td>Carmiña Ofelia Vargas Riaño</td>\n",
       "      <td>NaN</td>\n",
       "      <td>I1332873766</td>\n",
       "      <td>Banco de la República Colombia</td>\n",
       "      <td>3</td>\n",
       "      <td>0</td>\n",
       "      <td>2023-07-28</td>\n",
       "    </tr>\n",
       "    <tr>\n",
       "      <th>12106142</th>\n",
       "      <td>A5091914857</td>\n",
       "      <td>Ph Rauh</td>\n",
       "      <td>Ph Rauh</td>\n",
       "      <td>NaN</td>\n",
       "      <td>I161046081</td>\n",
       "      <td>University of Freiburg</td>\n",
       "      <td>1</td>\n",
       "      <td>0</td>\n",
       "      <td>2023-07-28</td>\n",
       "    </tr>\n",
       "    <tr>\n",
       "      <th>12106143</th>\n",
       "      <td>A5091914876</td>\n",
       "      <td>Anzhou Liu</td>\n",
       "      <td>Anzhou Liu</td>\n",
       "      <td>NaN</td>\n",
       "      <td>I49232843</td>\n",
       "      <td>Changchun University</td>\n",
       "      <td>1</td>\n",
       "      <td>0</td>\n",
       "      <td>2023-07-28</td>\n",
       "    </tr>\n",
       "    <tr>\n",
       "      <th>12106144</th>\n",
       "      <td>A5091914928</td>\n",
       "      <td>Nur Fitriana</td>\n",
       "      <td>Nur Laili Fitriana; Nur Fitriana</td>\n",
       "      <td>NaN</td>\n",
       "      <td>I23758234</td>\n",
       "      <td>State University of Surabaya</td>\n",
       "      <td>3</td>\n",
       "      <td>0</td>\n",
       "      <td>2023-07-28</td>\n",
       "    </tr>\n",
       "    <tr>\n",
       "      <th>12106145</th>\n",
       "      <td>A5091914955</td>\n",
       "      <td>Anbang Pan</td>\n",
       "      <td>Anbang Pan</td>\n",
       "      <td>NaN</td>\n",
       "      <td>I167383011</td>\n",
       "      <td>Henan University of Science and Technology</td>\n",
       "      <td>1</td>\n",
       "      <td>0</td>\n",
       "      <td>2023-07-28</td>\n",
       "    </tr>\n",
       "  </tbody>\n",
       "</table>\n",
       "<p>12106146 rows × 9 columns</p>\n",
       "</div>"
      ],
      "text/plain": [
       "            author_id                 display_name  \\\n",
       "0         A5087054413           Marianne Dieckmann   \n",
       "1         A5043169110              Gerald Klatskin   \n",
       "2         A5062314199         George J. Schroepfer   \n",
       "3         A5020422860         Andreas R. Gruentzig   \n",
       "4         A5089029176              Elinor T. Adman   \n",
       "...               ...                          ...   \n",
       "12106141  A5091914855  Carmiña Ofelia Vargas Riaño   \n",
       "12106142  A5091914857                      Ph Rauh   \n",
       "12106143  A5091914876                   Anzhou Liu   \n",
       "12106144  A5091914928                 Nur Fitriana   \n",
       "12106145  A5091914955                   Anbang Pan   \n",
       "\n",
       "                                  display_name_alternatives orcid  \\\n",
       "0             M. Dieckmann; Marianne Dieckmann; M Dieckmann   NaN   \n",
       "1                  G Klatskin; Gerald Klatskin; G. Klatskin   NaN   \n",
       "2         George J.Schroepfer; G.J. Schroepfer; G. J. Ju...   NaN   \n",
       "3         A. R. Gruentzig; Andreas Gruentzig; A R Gruent...   NaN   \n",
       "4         E. Adman; Elinor Adman; Elinor T. Adman; E T A...   NaN   \n",
       "...                                                     ...   ...   \n",
       "12106141                        Carmiña Ofelia Vargas Riaño   NaN   \n",
       "12106142                                            Ph Rauh   NaN   \n",
       "12106143                                         Anzhou Liu   NaN   \n",
       "12106144                   Nur Laili Fitriana; Nur Fitriana   NaN   \n",
       "12106145                                         Anbang Pan   NaN   \n",
       "\n",
       "         last_known_institution_id  \\\n",
       "0                        I97018004   \n",
       "1                        I32971472   \n",
       "2                        I74775410   \n",
       "3                      I2800556163   \n",
       "4                       I201448701   \n",
       "...                            ...   \n",
       "12106141               I1332873766   \n",
       "12106142                I161046081   \n",
       "12106143                 I49232843   \n",
       "12106144                 I23758234   \n",
       "12106145                I167383011   \n",
       "\n",
       "                 last_known_institution_display_name  works_count  \\\n",
       "0                                Stanford University           15   \n",
       "1                                    Yale University          126   \n",
       "2                                    Rice University          260   \n",
       "3                          Emory University Hospital           74   \n",
       "4                           University of Washington          130   \n",
       "...                                              ...          ...   \n",
       "12106141              Banco de la República Colombia            3   \n",
       "12106142                      University of Freiburg            1   \n",
       "12106143                        Changchun University            1   \n",
       "12106144                State University of Surabaya            3   \n",
       "12106145  Henan University of Science and Technology            1   \n",
       "\n",
       "          cited_by_count last_update  \n",
       "0                  13039  2023-07-28  \n",
       "1                   7056  2023-07-28  \n",
       "2                   6812  2023-07-28  \n",
       "3                   6390  2023-07-28  \n",
       "4                   6211  2023-07-28  \n",
       "...                  ...         ...  \n",
       "12106141               0  2023-07-28  \n",
       "12106142               0  2023-07-28  \n",
       "12106143               0  2023-07-28  \n",
       "12106144               0  2023-07-28  \n",
       "12106145               0  2023-07-28  \n",
       "\n",
       "[12106146 rows x 9 columns]"
      ]
     },
     "execution_count": 6,
     "metadata": {},
     "output_type": "execute_result"
    }
   ],
   "source": [
    "table"
   ]
  },
  {
   "cell_type": "markdown",
   "id": "c6adf004",
   "metadata": {
    "jp-MarkdownHeadingCollapsed": true
   },
   "source": [
    "### Upload the data into the database (Postgres)"
   ]
  },
  {
   "cell_type": "code",
   "execution_count": 36,
   "id": "dfcc298a",
   "metadata": {
    "scrolled": true
   },
   "outputs": [
    {
     "data": {
      "text/plain": [
       "['updated_date=2023-04-21.tsv',\n",
       " 'updated_date=2023-05-02.tsv',\n",
       " 'updated_date=2023-05-24.tsv',\n",
       " 'updated_date=2023-06-08.tsv',\n",
       " 'updated_date=2023-06-13.tsv',\n",
       " 'updated_date=2023-06-14.tsv',\n",
       " 'updated_date=2023-06-18.tsv',\n",
       " 'updated_date=2023-06-22.tsv',\n",
       " 'updated_date=2023-06-26.tsv',\n",
       " 'updated_date=2023-06-27.tsv',\n",
       " 'updated_date=2023-06-28.tsv',\n",
       " 'updated_date=2023-06-30.tsv',\n",
       " 'updated_date=2023-07-02.tsv',\n",
       " 'updated_date=2023-07-06.tsv',\n",
       " 'updated_date=2023-07-14.tsv',\n",
       " 'updated_date=2023-07-17.tsv',\n",
       " 'updated_date=2023-07-20.tsv',\n",
       " 'updated_date=2023-07-21.tsv',\n",
       " 'updated_date=2023-07-25.tsv',\n",
       " 'updated_date=2023-07-26.tsv',\n",
       " 'updated_date=2023-07-27.tsv',\n",
       " 'updated_date=2023-07-28.tsv',\n",
       " 'updated_date=2023-07-29.tsv',\n",
       " 'updated_date=2023-07-30.tsv',\n",
       " 'updated_date=2023-07-31.tsv',\n",
       " 'updated_date=2023-08-01.tsv',\n",
       " 'updated_date=2023-08-02.tsv',\n",
       " 'updated_date=2023-08-03.tsv',\n",
       " 'updated_date=2023-08-04.tsv',\n",
       " 'updated_date=2023-08-05.tsv',\n",
       " 'updated_date=2023-08-06.tsv',\n",
       " 'updated_date=2023-08-07.tsv',\n",
       " 'updated_date=2023-08-08.tsv',\n",
       " 'updated_date=2023-08-09.tsv',\n",
       " 'updated_date=2023-08-10.tsv',\n",
       " 'updated_date=2023-08-11.tsv',\n",
       " 'updated_date=2023-08-12.tsv',\n",
       " 'updated_date=2023-08-13.tsv',\n",
       " 'updated_date=2023-08-14.tsv',\n",
       " 'updated_date=2023-08-15.tsv',\n",
       " 'updated_date=2023-08-16.tsv',\n",
       " 'updated_date=2023-08-17.tsv']"
      ]
     },
     "execution_count": 36,
     "metadata": {},
     "output_type": "execute_result"
    }
   ],
   "source": [
    "## files_to_upload: list of the OpenAlex author's files to upload \n",
    "\n",
    "data_path =  '/home/fs01/spec1142/Emma/GateKeepers/Download_OpenAlex/'\n",
    "\n",
    "\n",
    "\n",
    "cmd = \"ls \" + data_path + \"OA_authors/\"\n",
    "files_to_upload = subprocess.check_output(cmd,  shell=True)\n",
    "files_to_upload = files_to_upload.decode().split(\"\\n\")\n",
    "files_to_upload.remove('')\n",
    "files_to_upload\n"
   ]
  },
  {
   "cell_type": "code",
   "execution_count": null,
   "id": "c4d03c73-e114-48bf-9946-92596c61b271",
   "metadata": {},
   "outputs": [],
   "source": [
    "## 1) create the table. Drop table if already exists, then create table with the given schema\n",
    "\n",
    "table_name = \"authors_OpenAlex\"\n",
    "\n",
    "\n",
    "schema =\"\"\"CREATE TABLE  \"\"\" + table_name + \"\"\" (\n",
    "   author_id VARCHAR(20),\n",
    "   display_name VARCHAR(100),\n",
    "   display_name_reverse VARCHAR(100),\n",
    "   display_name_alternatives TEXT,\n",
    "   orcid VARCHAR(100),\n",
    "   last_known_institution_id VARCHAR(20),\n",
    "   last_known_institution_display_name TEXT,\n",
    "   works_count INTEGER,\n",
    "   cited_by_count INTEGER,\n",
    "   last_update DATE\n",
    "   );\"\"\"\n",
    "\n",
    "\n",
    "drop_if_exists = False\n",
    "\n",
    "\n",
    "#create_table(table_name, schema, drop_if_exists)\n",
    "\n",
    "\n"
   ]
  },
  {
   "cell_type": "markdown",
   "id": "29782e80-a53c-4410-8735-4dec3f01e9a2",
   "metadata": {},
   "source": [
    "Note that columns can be indexed with different types of indexes: \n",
    "- names can be indexed with gin (f_unaccent(name::text) gin_trgm_ops)\n",
    "- ids can be indexed with btree "
   ]
  },
  {
   "cell_type": "code",
   "execution_count": null,
   "id": "c9fc2124-7f56-4d2e-bf68-eda2da09f883",
   "metadata": {},
   "outputs": [],
   "source": [
    "## 2) fill out the table with the data. Add the data chunk by chunk for Python RAM memory limitation. \n",
    "\n",
    "table_name = \"authors_OpenAlex\"\n",
    "\n",
    "size = 5000000\n",
    "\n",
    "path= '/home/fs01/spec1142/Emma/GateKeepers/Download_OpenAlex/'\n",
    "\n",
    "\n",
    "for file in files_to_upload:\n",
    "\n",
    "    data_path =  path + \"OA_authors/\" + file\n",
    "    \n",
    "    #load_data_into_table(table_name, data_path, size)"
   ]
  },
  {
   "cell_type": "code",
   "execution_count": null,
   "id": "1467ea0c-a705-4684-83c3-9f4dec81025a",
   "metadata": {},
   "outputs": [],
   "source": [
    "## 3) once everything is in the database, index table. \n",
    "\n",
    "table_name = \"authors_OpenAlex\"\n",
    "index_columns = ['author_id']\n",
    "#index_table(table_name , index_columns)\n",
    "\n"
   ]
  },
  {
   "cell_type": "markdown",
   "id": "94560ea9",
   "metadata": {
    "jp-MarkdownHeadingCollapsed": true
   },
   "source": [
    "### Test the database "
   ]
  },
  {
   "cell_type": "code",
   "execution_count": 8,
   "id": "a958531d",
   "metadata": {},
   "outputs": [],
   "source": [
    "import pandas as pd\n",
    "from tqdm import tqdm\n",
    "import psycopg2\n",
    "\n",
    "#establishing the connection\n",
    "conn = psycopg2.connect(\"user=\" + user + \" password=\" + password)\n",
    "\n",
    "#Creating a cursor object using the cursor() method\n",
    "cursor = conn.cursor()\n",
    "\n",
    "table_name = \"authors_OpenAlex\"\n",
    "\n",
    "\n",
    "\n",
    "#Creating table as per requirement\n",
    "sql =\"\"\"SELECT display_name,display_name_reverse,display_name_alternatives,orcid,last_known_institution_id,last_known_institution_display_name,works_count,cited_by_count,last_update\n",
    "        FROM   authors_OpenAlex \n",
    "        WHERE author_id = '\"\"\" + 'A4383185263' + \"\"\"';\"\"\"\n",
    "cursor.execute(sql)\n",
    "result = cursor.fetchall()\n",
    "\n",
    "\n",
    "\n",
    "#Closing the connection\n",
    "conn.close()"
   ]
  },
  {
   "cell_type": "code",
   "execution_count": 4,
   "id": "9fcb20d8",
   "metadata": {},
   "outputs": [
    {
     "data": {
      "text/plain": [
       "[('Laurence Breysse-Chanet',\n",
       "  'Breysse-Chanet Laurence',\n",
       "  'nan',\n",
       "  'nan',\n",
       "  'I4210098463',\n",
       "  'Center for Research and Interdisciplinarity',\n",
       "  1,\n",
       "  0,\n",
       "  datetime.date(2023, 7, 6))]"
      ]
     },
     "execution_count": 4,
     "metadata": {},
     "output_type": "execute_result"
    }
   ],
   "source": [
    "result"
   ]
  },
  {
   "cell_type": "code",
   "execution_count": 160,
   "id": "1216ad1a",
   "metadata": {},
   "outputs": [],
   "source": [
    "#establishing the connection\n",
    "conn = psycopg2.connect(\"user=\" + user + \" password=\" + password)\n",
    "\n",
    "#Creating a cursor object using the cursor() method\n",
    "cursor = conn.cursor()\n",
    "\n",
    "table_name = \"authors_OpenAlex\"\n",
    "\n",
    "\n",
    "\n",
    "#Creating table as per requirement\n",
    "sql =\"\"\"SELECT count(author_id)\n",
    "        FROM   authors_OpenAlex \n",
    "        ;\"\"\"\n",
    "cursor.execute(sql)\n",
    "result = cursor.fetchall()\n",
    "\n",
    "\n",
    "\n",
    "#Closing the connection\n",
    "conn.close()"
   ]
  },
  {
   "cell_type": "code",
   "execution_count": 161,
   "id": "e427566c",
   "metadata": {},
   "outputs": [
    {
     "data": {
      "text/plain": [
       "[(91748427,)]"
      ]
     },
     "execution_count": 161,
     "metadata": {},
     "output_type": "execute_result"
    }
   ],
   "source": [
    "## number of author ids in the database \n",
    "result"
   ]
  },
  {
   "cell_type": "markdown",
   "id": "1f34a052",
   "metadata": {
    "jp-MarkdownHeadingCollapsed": true
   },
   "source": [
    "## OpenAlex Works "
   ]
  },
  {
   "cell_type": "markdown",
   "id": "329fb31a-b793-4502-94c5-4a4fe9c48a4d",
   "metadata": {},
   "source": [
    "Run the python file \"flatten_data_works.py\" is used to flatten the works and works-authors data. "
   ]
  },
  {
   "cell_type": "markdown",
   "id": "89a50996",
   "metadata": {
    "jp-MarkdownHeadingCollapsed": true
   },
   "source": [
    "### Upload the data into the database (Postgres) - WORKS"
   ]
  },
  {
   "cell_type": "code",
   "execution_count": 2,
   "id": "16f9e902",
   "metadata": {
    "scrolled": true
   },
   "outputs": [
    {
     "data": {
      "text/plain": [
       "['updated_date=2021-11-03.tsv',\n",
       " 'updated_date=2021-12-23.tsv',\n",
       " 'updated_date=2021-12-30.tsv',\n",
       " 'updated_date=2022-01-30.tsv',\n",
       " 'updated_date=2022-02-02.tsv',\n",
       " 'updated_date=2022-02-03.tsv',\n",
       " 'updated_date=2022-02-17.tsv',\n",
       " 'updated_date=2022-03-09.tsv',\n",
       " 'updated_date=2022-03-24.tsv',\n",
       " 'updated_date=2022-03-31.tsv',\n",
       " 'updated_date=2023-01-12.tsv',\n",
       " 'updated_date=2023-04-07.tsv',\n",
       " 'updated_date=2023-04-08.tsv',\n",
       " 'updated_date=2023-04-09.tsv',\n",
       " 'updated_date=2023-04-11.tsv',\n",
       " 'updated_date=2023-04-12.tsv',\n",
       " 'updated_date=2023-04-13.tsv',\n",
       " 'updated_date=2023-04-14.tsv',\n",
       " 'updated_date=2023-04-15.tsv',\n",
       " 'updated_date=2023-04-16.tsv',\n",
       " 'updated_date=2023-04-17.tsv',\n",
       " 'updated_date=2023-04-24.tsv',\n",
       " 'updated_date=2023-04-25.tsv',\n",
       " 'updated_date=2023-04-26.tsv',\n",
       " 'updated_date=2023-04-27.tsv',\n",
       " 'updated_date=2023-04-28.tsv',\n",
       " 'updated_date=2023-04-29.tsv',\n",
       " 'updated_date=2023-04-30.tsv',\n",
       " 'updated_date=2023-05-01.tsv',\n",
       " 'updated_date=2023-05-02.tsv',\n",
       " 'updated_date=2023-05-03.tsv',\n",
       " 'updated_date=2023-05-04.tsv',\n",
       " 'updated_date=2023-05-05.tsv',\n",
       " 'updated_date=2023-05-06.tsv',\n",
       " 'updated_date=2023-05-07.tsv',\n",
       " 'updated_date=2023-05-08.tsv',\n",
       " 'updated_date=2023-05-09.tsv',\n",
       " 'updated_date=2023-05-10.tsv',\n",
       " 'updated_date=2023-05-11.tsv',\n",
       " 'updated_date=2023-05-12.tsv',\n",
       " 'updated_date=2023-05-13.tsv',\n",
       " 'updated_date=2023-05-14.tsv',\n",
       " 'updated_date=2023-05-15.tsv',\n",
       " 'updated_date=2023-05-16.tsv',\n",
       " 'updated_date=2023-05-17.tsv',\n",
       " 'updated_date=2023-05-18.tsv',\n",
       " 'updated_date=2023-05-19.tsv',\n",
       " 'updated_date=2023-05-20.tsv',\n",
       " 'updated_date=2023-05-21.tsv',\n",
       " 'updated_date=2023-05-22.tsv',\n",
       " 'updated_date=2023-05-23.tsv',\n",
       " 'updated_date=2023-05-24.tsv',\n",
       " 'updated_date=2023-05-25.tsv',\n",
       " 'updated_date=2023-05-26.tsv',\n",
       " 'updated_date=2023-05-27.tsv',\n",
       " 'updated_date=2023-05-28.tsv',\n",
       " 'updated_date=2023-05-29.tsv',\n",
       " 'updated_date=2023-05-30.tsv',\n",
       " 'updated_date=2023-05-31.tsv',\n",
       " 'updated_date=2023-06-01.tsv',\n",
       " 'updated_date=2023-06-02.tsv',\n",
       " 'updated_date=2023-06-03.tsv',\n",
       " 'updated_date=2023-06-04.tsv',\n",
       " 'updated_date=2023-06-05.tsv',\n",
       " 'updated_date=2023-06-06.tsv',\n",
       " 'updated_date=2023-06-07.tsv',\n",
       " 'updated_date=2023-06-08.tsv',\n",
       " 'updated_date=2023-06-09.tsv',\n",
       " 'updated_date=2023-06-10.tsv',\n",
       " 'updated_date=2023-06-11.tsv',\n",
       " 'updated_date=2023-06-12.tsv',\n",
       " 'updated_date=2023-06-13.tsv',\n",
       " 'updated_date=2023-06-14.tsv',\n",
       " 'updated_date=2023-06-15.tsv',\n",
       " 'updated_date=2023-06-16.tsv',\n",
       " 'updated_date=2023-06-17.tsv',\n",
       " 'updated_date=2023-06-18.tsv',\n",
       " 'updated_date=2023-06-19.tsv',\n",
       " 'updated_date=2023-06-20.tsv',\n",
       " 'updated_date=2023-06-21.tsv',\n",
       " 'updated_date=2023-06-22.tsv',\n",
       " 'updated_date=2023-06-23.tsv',\n",
       " 'updated_date=2023-06-24.tsv',\n",
       " 'updated_date=2023-06-25.tsv',\n",
       " 'updated_date=2023-06-26.tsv',\n",
       " 'updated_date=2023-06-27.tsv',\n",
       " 'updated_date=2023-06-28.tsv',\n",
       " 'updated_date=2023-06-29.tsv',\n",
       " 'updated_date=2023-06-30.tsv',\n",
       " 'updated_date=2023-07-01.tsv',\n",
       " 'updated_date=2023-07-02.tsv',\n",
       " 'updated_date=2023-07-03.tsv',\n",
       " 'updated_date=2023-07-04.tsv',\n",
       " 'updated_date=2023-07-05.tsv',\n",
       " 'updated_date=2023-07-06.tsv',\n",
       " 'updated_date=2023-07-07.tsv',\n",
       " 'updated_date=2023-07-08.tsv',\n",
       " 'updated_date=2023-07-09.tsv',\n",
       " 'updated_date=2023-07-10.tsv',\n",
       " 'updated_date=2023-07-11.tsv',\n",
       " 'updated_date=2023-07-12.tsv',\n",
       " 'updated_date=2023-07-13.tsv',\n",
       " 'updated_date=2023-07-14.tsv',\n",
       " 'updated_date=2023-07-15.tsv',\n",
       " 'updated_date=2023-07-16.tsv',\n",
       " 'updated_date=2023-07-17.tsv',\n",
       " 'updated_date=2023-07-18.tsv',\n",
       " 'updated_date=2023-07-19.tsv',\n",
       " 'updated_date=2023-07-20.tsv',\n",
       " 'updated_date=2023-07-21.tsv',\n",
       " 'updated_date=2023-07-22.tsv',\n",
       " 'updated_date=2023-07-23.tsv',\n",
       " 'updated_date=2023-07-24.tsv',\n",
       " 'updated_date=2023-07-25.tsv',\n",
       " 'updated_date=2023-07-26.tsv',\n",
       " 'updated_date=2023-07-27.tsv',\n",
       " 'updated_date=2023-07-28.tsv',\n",
       " 'updated_date=2023-07-29.tsv',\n",
       " 'updated_date=2023-07-30.tsv',\n",
       " 'updated_date=2023-07-31.tsv',\n",
       " 'updated_date=2023-08-01.tsv',\n",
       " 'updated_date=2023-08-02.tsv',\n",
       " 'updated_date=2023-08-03.tsv',\n",
       " 'updated_date=2023-08-04.tsv',\n",
       " 'updated_date=2023-08-05.tsv',\n",
       " 'updated_date=2023-08-06.tsv',\n",
       " 'updated_date=2023-08-07.tsv',\n",
       " 'updated_date=2023-08-08.tsv',\n",
       " 'updated_date=2023-08-09.tsv']"
      ]
     },
     "execution_count": 2,
     "metadata": {},
     "output_type": "execute_result"
    }
   ],
   "source": [
    "## files_to_upload: list of the OpenAlex author's files to upload \n",
    "import subprocess\n",
    "\n",
    "path = '/home/fs01/spec1142/Emma/GateKeepers/Download_OpenAlex/'\n",
    "\n",
    "\n",
    "\n",
    "cmd = \"ls \" + data_path + \"OA_works/\"\n",
    "files_to_upload = subprocess.check_output(cmd,  shell=True)\n",
    "files_to_upload = files_to_upload.decode().split(\"\\n\")\n",
    "files_to_upload.remove('')\n",
    "files_to_upload\n",
    "\n"
   ]
  },
  {
   "cell_type": "code",
   "execution_count": null,
   "id": "92e32bdc-6c65-4be1-83a2-d6707e569022",
   "metadata": {},
   "outputs": [],
   "source": [
    "table_name = \"works_OpenAlex\"\n",
    "\n",
    "# 1) create table \n",
    "\n",
    "schema =\"\"\"CREATE TABLE  \"\"\" + table_name + \"\"\" (\n",
    "   work_id VARCHAR(20),\n",
    "   doi TEXT,\n",
    "   pmid VARCHAR(20),\n",
    "   title TEXT,\n",
    "   abstract TEXT,\n",
    "   publication_date DATE,\n",
    "   type VARCHAR(30),\n",
    "   venue_or_source VARCHAR(30),\n",
    "   publisher_id VARCHAR(30),\n",
    "   first_page VARCHAR(50),\n",
    "   last_page VARCHAR(50),\n",
    "   volume TEXT,\n",
    "   issue TEXT,\n",
    "   cited_by_count INTEGER,\n",
    "   concepts TEXT,\n",
    "   referenced_works TEXT,\n",
    "   last_update DATE\n",
    "   );\"\"\"\n",
    "\n",
    "\n",
    "drop_if_exists = False\n",
    "#create_table(table_name, schema, drop_if_exists)\n",
    "\n",
    "\n",
    "# 2) upload data \n",
    "table_name = \"works_OpenAlex\"\n",
    "size = 5000000\n",
    "for file in files_to_upload:\n",
    "\n",
    "    data_path =  path + \"OA_works/\" + file\n",
    "    \n",
    "    #load_data_into_table(table_name, data_path, size)\n",
    "\n",
    "\n",
    "# 3) index \n",
    "table_name = \"works_OpenAlex\"\n",
    "index_columns = ['work_id']\n",
    "#index_table(table_name , index_columns)"
   ]
  },
  {
   "cell_type": "markdown",
   "id": "18cf2d0d",
   "metadata": {
    "jp-MarkdownHeadingCollapsed": true
   },
   "source": [
    "### Upload the data into the database (Postgres) -AUTHORS - WORKS"
   ]
  },
  {
   "cell_type": "code",
   "execution_count": 162,
   "id": "b7f1d895",
   "metadata": {
    "scrolled": true
   },
   "outputs": [
    {
     "data": {
      "text/plain": [
       "['updated_date=2021-11-03.tsv',\n",
       " 'updated_date=2021-12-23.tsv',\n",
       " 'updated_date=2021-12-30.tsv',\n",
       " 'updated_date=2022-01-30.tsv',\n",
       " 'updated_date=2022-02-02.tsv',\n",
       " 'updated_date=2022-02-03.tsv',\n",
       " 'updated_date=2022-02-17.tsv',\n",
       " 'updated_date=2022-03-09.tsv',\n",
       " 'updated_date=2022-03-24.tsv',\n",
       " 'updated_date=2022-03-31.tsv',\n",
       " 'updated_date=2023-01-12.tsv',\n",
       " 'updated_date=2023-04-07.tsv',\n",
       " 'updated_date=2023-04-08.tsv',\n",
       " 'updated_date=2023-04-09.tsv',\n",
       " 'updated_date=2023-04-11.tsv',\n",
       " 'updated_date=2023-04-12.tsv',\n",
       " 'updated_date=2023-04-13.tsv',\n",
       " 'updated_date=2023-04-14.tsv',\n",
       " 'updated_date=2023-04-15.tsv',\n",
       " 'updated_date=2023-04-16.tsv',\n",
       " 'updated_date=2023-04-17.tsv',\n",
       " 'updated_date=2023-04-24.tsv',\n",
       " 'updated_date=2023-04-25.tsv',\n",
       " 'updated_date=2023-04-26.tsv',\n",
       " 'updated_date=2023-04-27.tsv',\n",
       " 'updated_date=2023-04-28.tsv',\n",
       " 'updated_date=2023-04-29.tsv',\n",
       " 'updated_date=2023-04-30.tsv',\n",
       " 'updated_date=2023-05-01.tsv',\n",
       " 'updated_date=2023-05-02.tsv',\n",
       " 'updated_date=2023-05-03.tsv',\n",
       " 'updated_date=2023-05-04.tsv',\n",
       " 'updated_date=2023-05-05.tsv',\n",
       " 'updated_date=2023-05-06.tsv',\n",
       " 'updated_date=2023-05-07.tsv',\n",
       " 'updated_date=2023-05-08.tsv',\n",
       " 'updated_date=2023-05-09.tsv',\n",
       " 'updated_date=2023-05-10.tsv',\n",
       " 'updated_date=2023-05-11.tsv',\n",
       " 'updated_date=2023-05-12.tsv',\n",
       " 'updated_date=2023-05-13.tsv',\n",
       " 'updated_date=2023-05-14.tsv',\n",
       " 'updated_date=2023-05-15.tsv',\n",
       " 'updated_date=2023-05-16.tsv',\n",
       " 'updated_date=2023-05-17.tsv',\n",
       " 'updated_date=2023-05-18.tsv',\n",
       " 'updated_date=2023-05-19.tsv',\n",
       " 'updated_date=2023-05-20.tsv',\n",
       " 'updated_date=2023-05-21.tsv',\n",
       " 'updated_date=2023-05-22.tsv',\n",
       " 'updated_date=2023-05-23.tsv',\n",
       " 'updated_date=2023-05-24.tsv',\n",
       " 'updated_date=2023-05-25.tsv',\n",
       " 'updated_date=2023-05-26.tsv',\n",
       " 'updated_date=2023-05-27.tsv',\n",
       " 'updated_date=2023-05-28.tsv',\n",
       " 'updated_date=2023-05-29.tsv',\n",
       " 'updated_date=2023-05-30.tsv',\n",
       " 'updated_date=2023-05-31.tsv',\n",
       " 'updated_date=2023-06-01.tsv',\n",
       " 'updated_date=2023-06-02.tsv',\n",
       " 'updated_date=2023-06-03.tsv',\n",
       " 'updated_date=2023-06-04.tsv',\n",
       " 'updated_date=2023-06-05.tsv',\n",
       " 'updated_date=2023-06-06.tsv',\n",
       " 'updated_date=2023-06-07.tsv',\n",
       " 'updated_date=2023-06-08.tsv',\n",
       " 'updated_date=2023-06-09.tsv',\n",
       " 'updated_date=2023-06-10.tsv',\n",
       " 'updated_date=2023-06-11.tsv',\n",
       " 'updated_date=2023-06-12.tsv',\n",
       " 'updated_date=2023-06-13.tsv',\n",
       " 'updated_date=2023-06-14.tsv',\n",
       " 'updated_date=2023-06-15.tsv',\n",
       " 'updated_date=2023-06-16.tsv',\n",
       " 'updated_date=2023-06-17.tsv',\n",
       " 'updated_date=2023-06-18.tsv',\n",
       " 'updated_date=2023-06-19.tsv',\n",
       " 'updated_date=2023-06-20.tsv',\n",
       " 'updated_date=2023-06-21.tsv',\n",
       " 'updated_date=2023-06-22.tsv',\n",
       " 'updated_date=2023-06-23.tsv',\n",
       " 'updated_date=2023-06-24.tsv',\n",
       " 'updated_date=2023-06-25.tsv',\n",
       " 'updated_date=2023-06-26.tsv',\n",
       " 'updated_date=2023-06-27.tsv',\n",
       " 'updated_date=2023-06-28.tsv',\n",
       " 'updated_date=2023-06-29.tsv',\n",
       " 'updated_date=2023-06-30.tsv',\n",
       " 'updated_date=2023-07-01.tsv',\n",
       " 'updated_date=2023-07-02.tsv',\n",
       " 'updated_date=2023-07-03.tsv',\n",
       " 'updated_date=2023-07-04.tsv',\n",
       " 'updated_date=2023-07-05.tsv',\n",
       " 'updated_date=2023-07-06.tsv',\n",
       " 'updated_date=2023-07-07.tsv',\n",
       " 'updated_date=2023-07-08.tsv',\n",
       " 'updated_date=2023-07-09.tsv',\n",
       " 'updated_date=2023-07-10.tsv',\n",
       " 'updated_date=2023-07-11.tsv',\n",
       " 'updated_date=2023-07-12.tsv',\n",
       " 'updated_date=2023-07-13.tsv',\n",
       " 'updated_date=2023-07-14.tsv',\n",
       " 'updated_date=2023-07-15.tsv',\n",
       " 'updated_date=2023-07-16.tsv',\n",
       " 'updated_date=2023-07-17.tsv',\n",
       " 'updated_date=2023-07-18.tsv',\n",
       " 'updated_date=2023-07-19.tsv',\n",
       " 'updated_date=2023-07-20.tsv',\n",
       " 'updated_date=2023-07-21.tsv',\n",
       " 'updated_date=2023-07-22.tsv',\n",
       " 'updated_date=2023-07-23.tsv',\n",
       " 'updated_date=2023-07-24.tsv',\n",
       " 'updated_date=2023-07-25.tsv',\n",
       " 'updated_date=2023-07-26.tsv',\n",
       " 'updated_date=2023-07-27.tsv',\n",
       " 'updated_date=2023-07-28.tsv',\n",
       " 'updated_date=2023-07-29.tsv',\n",
       " 'updated_date=2023-07-30.tsv',\n",
       " 'updated_date=2023-07-31.tsv',\n",
       " 'updated_date=2023-08-01.tsv',\n",
       " 'updated_date=2023-08-02.tsv',\n",
       " 'updated_date=2023-08-03.tsv',\n",
       " 'updated_date=2023-08-04.tsv',\n",
       " 'updated_date=2023-08-05.tsv',\n",
       " 'updated_date=2023-08-06.tsv',\n",
       " 'updated_date=2023-08-07.tsv',\n",
       " 'updated_date=2023-08-08.tsv',\n",
       " 'updated_date=2023-08-09.tsv']"
      ]
     },
     "execution_count": 162,
     "metadata": {},
     "output_type": "execute_result"
    }
   ],
   "source": [
    "## files_to_upload: list of the OpenAlex author's files to upload \n",
    "import subprocess\n",
    "\n",
    "data_path  = '/home/fs01/spec1142/Emma/GateKeepers/Download_OpenAlex/'\n",
    "\n",
    "\n",
    "\n",
    "cmd = \"ls \" + data_path + \"OA_authors_works/\"\n",
    "files_to_upload = subprocess.check_output(cmd,  shell=True)\n",
    "files_to_upload = files_to_upload.decode().split(\"\\n\")\n",
    "files_to_upload.remove('')\n",
    "files_to_upload\n",
    "\n"
   ]
  },
  {
   "cell_type": "code",
   "execution_count": 168,
   "id": "2dcd4ff4",
   "metadata": {
    "scrolled": true
   },
   "outputs": [
    {
     "data": {
      "text/html": [
       "<div>\n",
       "<style scoped>\n",
       "    .dataframe tbody tr th:only-of-type {\n",
       "        vertical-align: middle;\n",
       "    }\n",
       "\n",
       "    .dataframe tbody tr th {\n",
       "        vertical-align: top;\n",
       "    }\n",
       "\n",
       "    .dataframe thead th {\n",
       "        text-align: right;\n",
       "    }\n",
       "</style>\n",
       "<table border=\"1\" class=\"dataframe\">\n",
       "  <thead>\n",
       "    <tr style=\"text-align: right;\">\n",
       "      <th></th>\n",
       "      <th>work_id</th>\n",
       "      <th>author_id</th>\n",
       "      <th>institution_id</th>\n",
       "      <th>institution_name</th>\n",
       "    </tr>\n",
       "  </thead>\n",
       "  <tbody>\n",
       "    <tr>\n",
       "      <th>0</th>\n",
       "      <td>W1612067013</td>\n",
       "      <td>A2162240685</td>\n",
       "      <td>I185261750</td>\n",
       "      <td>NaN</td>\n",
       "    </tr>\n",
       "    <tr>\n",
       "      <th>1</th>\n",
       "      <td>W1612067013</td>\n",
       "      <td>A2630951464</td>\n",
       "      <td>NaN</td>\n",
       "      <td>NaN</td>\n",
       "    </tr>\n",
       "    <tr>\n",
       "      <th>2</th>\n",
       "      <td>W1612067013</td>\n",
       "      <td>A1975636128</td>\n",
       "      <td>NaN</td>\n",
       "      <td>NaN</td>\n",
       "    </tr>\n",
       "    <tr>\n",
       "      <th>3</th>\n",
       "      <td>W2098696036</td>\n",
       "      <td>A2250517268</td>\n",
       "      <td>I120514687</td>\n",
       "      <td>NaN</td>\n",
       "    </tr>\n",
       "    <tr>\n",
       "      <th>4</th>\n",
       "      <td>W2098696036</td>\n",
       "      <td>A2068701579</td>\n",
       "      <td>I120514687</td>\n",
       "      <td>NaN</td>\n",
       "    </tr>\n",
       "    <tr>\n",
       "      <th>...</th>\n",
       "      <td>...</td>\n",
       "      <td>...</td>\n",
       "      <td>...</td>\n",
       "      <td>...</td>\n",
       "    </tr>\n",
       "    <tr>\n",
       "      <th>101</th>\n",
       "      <td>W3082828695</td>\n",
       "      <td>A2699446244</td>\n",
       "      <td>NaN</td>\n",
       "      <td>NaN</td>\n",
       "    </tr>\n",
       "    <tr>\n",
       "      <th>102</th>\n",
       "      <td>W3082828695</td>\n",
       "      <td>A2186928341</td>\n",
       "      <td>NaN</td>\n",
       "      <td>NaN</td>\n",
       "    </tr>\n",
       "    <tr>\n",
       "      <th>103</th>\n",
       "      <td>W3112025781</td>\n",
       "      <td>A3111654815</td>\n",
       "      <td>NaN</td>\n",
       "      <td>NaN</td>\n",
       "    </tr>\n",
       "    <tr>\n",
       "      <th>104</th>\n",
       "      <td>W3153153405</td>\n",
       "      <td>A2138850483</td>\n",
       "      <td>NaN</td>\n",
       "      <td>NaN</td>\n",
       "    </tr>\n",
       "    <tr>\n",
       "      <th>105</th>\n",
       "      <td>W3153153405</td>\n",
       "      <td>A2289496345</td>\n",
       "      <td>NaN</td>\n",
       "      <td>NaN</td>\n",
       "    </tr>\n",
       "  </tbody>\n",
       "</table>\n",
       "<p>106 rows × 4 columns</p>\n",
       "</div>"
      ],
      "text/plain": [
       "         work_id    author_id institution_id institution_name\n",
       "0    W1612067013  A2162240685     I185261750              NaN\n",
       "1    W1612067013  A2630951464            NaN              NaN\n",
       "2    W1612067013  A1975636128            NaN              NaN\n",
       "3    W2098696036  A2250517268     I120514687              NaN\n",
       "4    W2098696036  A2068701579     I120514687              NaN\n",
       "..           ...          ...            ...              ...\n",
       "101  W3082828695  A2699446244            NaN              NaN\n",
       "102  W3082828695  A2186928341            NaN              NaN\n",
       "103  W3112025781  A3111654815            NaN              NaN\n",
       "104  W3153153405  A2138850483            NaN              NaN\n",
       "105  W3153153405  A2289496345            NaN              NaN\n",
       "\n",
       "[106 rows x 4 columns]"
      ]
     },
     "execution_count": 168,
     "metadata": {},
     "output_type": "execute_result"
    }
   ],
   "source": [
    "table = pd.read_csv(path + \"OA_authors_works/updated_date=2021-11-03.tsv\" , delimiter = \"\\t\" )\n",
    "table"
   ]
  },
  {
   "cell_type": "code",
   "execution_count": null,
   "id": "0bc40577-bae0-40c0-8b29-f9c68e956cb2",
   "metadata": {},
   "outputs": [],
   "source": [
    "table_name = \"authors_works_OpenAlex\"\n",
    "\n",
    "# 1) create table\n",
    "schema =\"\"\"CREATE TABLE  \"\"\" + table_name + \"\"\" (\n",
    "   work_id VARCHAR(20),\n",
    "   author_id VARCHAR(20),\n",
    "   institution_id VARCHAR(20),\n",
    "   institution_name TEXT\n",
    "   );\"\"\"\n",
    "\n",
    "\n",
    "drop_if_exists = False\n",
    "#create_table(table_name, schema, drop_if_exists)\n",
    "\n",
    "\n",
    "# 2) upload data \n",
    "table_name = \"authors_works_OpenAlex\"\n",
    "size = 5000000\n",
    "for file in files_to_upload:\n",
    "\n",
    "    data_path =  path + \"OA_authors_works/\" + file\n",
    "    \n",
    "    #load_data_into_table(table_name, data_path, size)\n",
    "\n",
    "\n",
    "# 3) index \n",
    "table_name = \"authors_works_OpenAlex\"\n",
    "index_columns = ['work_id', 'author_id']\n",
    "#index_table(table_name , index_columns)\n"
   ]
  },
  {
   "cell_type": "markdown",
   "id": "5756856e",
   "metadata": {
    "jp-MarkdownHeadingCollapsed": true
   },
   "source": [
    "### Test the database "
   ]
  },
  {
   "cell_type": "code",
   "execution_count": 2,
   "id": "a2f506e3",
   "metadata": {},
   "outputs": [],
   "source": [
    "import pandas as pd\n",
    "from tqdm import tqdm\n",
    "import psycopg2\n",
    "\n",
    "#establishing the connection\n",
    "conn = psycopg2.connect(\"user=\" + user + \" password=\" + password)\n",
    "\n",
    "#Creating a cursor object using the cursor() method\n",
    "cursor = conn.cursor()\n",
    "\n",
    "\n",
    "#Creating table as per requirement\n",
    "sql =\"\"\"SELECT count( work_id)\n",
    "        FROM works_authors_OpenAlex \n",
    "        ;\"\"\"\n",
    "cursor.execute(sql)\n",
    "result = cursor.fetchall()\n",
    "\n",
    "\n",
    "\n",
    "#Closing the connection\n",
    "conn.close()"
   ]
  },
  {
   "cell_type": "code",
   "execution_count": 3,
   "id": "1c852b11",
   "metadata": {},
   "outputs": [
    {
     "data": {
      "text/plain": [
       "[(679889296,)]"
      ]
     },
     "execution_count": 3,
     "metadata": {},
     "output_type": "execute_result"
    }
   ],
   "source": [
    "result"
   ]
  },
  {
   "cell_type": "code",
   "execution_count": 7,
   "id": "f59b2637",
   "metadata": {},
   "outputs": [],
   "source": [
    "import pandas as pd\n",
    "from tqdm import tqdm\n",
    "import psycopg2\n",
    "\n",
    "#establishing the connection\n",
    "conn = psycopg2.connect(\"user=\" + user + \" password=\" + password)\n",
    "\n",
    "#Creating a cursor object using the cursor() method\n",
    "cursor = conn.cursor()\n",
    "\n",
    "\n",
    "#Creating table as per requirement\n",
    "sql =\"\"\"SELECT * \n",
    "        FROM  works_authors_OpenAlex \n",
    "        WHERE work_id = 'W4235109850';\"\"\"\n",
    "\n",
    "cursor.execute(sql)\n",
    "result = cursor.fetchall()\n",
    "\n",
    "\n",
    "\n",
    "#Closing the connection\n",
    "conn.close()"
   ]
  },
  {
   "cell_type": "code",
   "execution_count": 8,
   "id": "f329e737",
   "metadata": {
    "scrolled": true
   },
   "outputs": [
    {
     "data": {
      "text/plain": [
       "[('W4235109850', 'A5039758892', None, None)]"
      ]
     },
     "execution_count": 8,
     "metadata": {},
     "output_type": "execute_result"
    }
   ],
   "source": [
    "result"
   ]
  },
  {
   "cell_type": "code",
   "execution_count": 2,
   "id": "6ef8eed6",
   "metadata": {},
   "outputs": [],
   "source": [
    "#establishing the connection\n",
    "conn = psycopg2.connect(\"user=\" + user + \" password=\" + password)\n",
    "\n",
    "#Creating a cursor object using the cursor() method\n",
    "cursor = conn.cursor()\n",
    "\n",
    "\n",
    "#Creating table as per requirement\n",
    "sql =\"\"\"SELECT * \n",
    "        FROM  works_OpenAlex \n",
    "        WHERE work_id = 'W2228461672';\"\"\"\n",
    "\n",
    "cursor.execute(sql)\n",
    "result = cursor.fetchall()\n",
    "\n",
    "\n",
    "\n",
    "#Closing the connection\n",
    "conn.close()"
   ]
  },
  {
   "cell_type": "code",
   "execution_count": 3,
   "id": "3b23b621",
   "metadata": {
    "scrolled": true
   },
   "outputs": [
    {
     "data": {
      "text/plain": [
       "[('W2228461672',\n",
       "  '10.1080/02533839.2015.1091279',\n",
       "  'nan',\n",
       "  'Total precision inspection of machine tools with virtual metrology',\n",
       "  'The technology of virtual metrology (VM) has been applied in the semiconductor industry to convert sampling inspection with metrology delay into real time and online total inspection. The purpose of this study is trying to apply VM for inspecting machining precision of machine tools. However, machining processes will cause severe vibrations that make process data collection, data cleaning, and feature extraction difficult to handle. Thus, the tasks of how to accurately segment essential parts of the raw process data from the original numerical-control file, how to effectively handle raw process/sensor data with low signal-to-noise ratios, and how to properly extract significant features from the segmented and clean raw process data are challenging issues for successfully applying VM to machine tools. These issues are judiciously addressed and successfully resolved in this paper. Testing results of machining standard workpieces and cellphone shells of two three-axis CNC machines show that the proposed approach of applying VM to accomplish total precision inspection of machine tools is promising.',\n",
       "  datetime.date(2015, 10, 19),\n",
       "  'article',\n",
       "  'nan',\n",
       "  'nan',\n",
       "  '221',\n",
       "  '235',\n",
       "  '39',\n",
       "  '2',\n",
       "  14,\n",
       "  'Metrology; Machining; Process (computing); Machine tool; Computer science; Noise (video); Sampling (signal processing); Engineering drawing; Engineering; Artificial intelligence; Mechanical engineering; Computer vision; Statistics; Mathematics; Filter (signal processing); Image (mathematics); Operating system',\n",
       "  'W1964952728; W1972844536; W1996525967; W1996538533; W2000304567; W2002803086; W2003947476; W2004554503; W2013533312; W2027595890; W2036077847; W2048155179; W2068568515; W2086030918; W2111022408; W2113570605; W2115571336; W2129319600; W2132984323; W2140216426; W2146066328; W2146842127; W2154829656; W2159554491; W2162251039; W2313849961',\n",
       "  datetime.date(2023, 8, 12))]"
      ]
     },
     "execution_count": 3,
     "metadata": {},
     "output_type": "execute_result"
    }
   ],
   "source": [
    "result"
   ]
  },
  {
   "cell_type": "markdown",
   "id": "d9e7c7f2-6297-4bc4-8a9f-83f6205be932",
   "metadata": {
    "jp-MarkdownHeadingCollapsed": true
   },
   "source": [
    "## OpenAlex works journals and author positions"
   ]
  },
  {
   "cell_type": "code",
   "execution_count": null,
   "id": "85cdd777-a3b8-4c0e-b0e0-65d7dfb70040",
   "metadata": {},
   "outputs": [],
   "source": [
    "path = '/home/fs01/spec1142/Emma/GateKeepers/Download_OpenAlex/'\n"
   ]
  },
  {
   "cell_type": "markdown",
   "id": "99df313f-46cd-4d12-99d0-2667c305b676",
   "metadata": {
    "jp-MarkdownHeadingCollapsed": true
   },
   "source": [
    "### Flatten data"
   ]
  },
  {
   "cell_type": "code",
   "execution_count": 6,
   "id": "9163294c-4fe4-4bd6-9b3b-53e6ae7c0317",
   "metadata": {
    "scrolled": true
   },
   "outputs": [
    {
     "data": {
      "text/plain": [
       "['updated_date=2021-11-03',\n",
       " 'updated_date=2021-12-23',\n",
       " 'updated_date=2021-12-30',\n",
       " 'updated_date=2022-01-30',\n",
       " 'updated_date=2022-02-02',\n",
       " 'updated_date=2022-02-03',\n",
       " 'updated_date=2022-02-17',\n",
       " 'updated_date=2022-03-09',\n",
       " 'updated_date=2022-03-24',\n",
       " 'updated_date=2022-03-31',\n",
       " 'updated_date=2023-01-12',\n",
       " 'updated_date=2023-04-07',\n",
       " 'updated_date=2023-04-08',\n",
       " 'updated_date=2023-04-09',\n",
       " 'updated_date=2023-04-11',\n",
       " 'updated_date=2023-04-12',\n",
       " 'updated_date=2023-04-13',\n",
       " 'updated_date=2023-04-14',\n",
       " 'updated_date=2023-04-15',\n",
       " 'updated_date=2023-04-16',\n",
       " 'updated_date=2023-04-17',\n",
       " 'updated_date=2023-04-24',\n",
       " 'updated_date=2023-04-25',\n",
       " 'updated_date=2023-04-26',\n",
       " 'updated_date=2023-04-27',\n",
       " 'updated_date=2023-04-28',\n",
       " 'updated_date=2023-04-29',\n",
       " 'updated_date=2023-04-30',\n",
       " 'updated_date=2023-05-01',\n",
       " 'updated_date=2023-05-02',\n",
       " 'updated_date=2023-05-03',\n",
       " 'updated_date=2023-05-04',\n",
       " 'updated_date=2023-05-05',\n",
       " 'updated_date=2023-05-06',\n",
       " 'updated_date=2023-05-07',\n",
       " 'updated_date=2023-05-08',\n",
       " 'updated_date=2023-05-09',\n",
       " 'updated_date=2023-05-10',\n",
       " 'updated_date=2023-05-11',\n",
       " 'updated_date=2023-05-12',\n",
       " 'updated_date=2023-05-13',\n",
       " 'updated_date=2023-05-14',\n",
       " 'updated_date=2023-05-15',\n",
       " 'updated_date=2023-05-16',\n",
       " 'updated_date=2023-05-17',\n",
       " 'updated_date=2023-05-18',\n",
       " 'updated_date=2023-05-19',\n",
       " 'updated_date=2023-05-20',\n",
       " 'updated_date=2023-05-21',\n",
       " 'updated_date=2023-05-22',\n",
       " 'updated_date=2023-05-23',\n",
       " 'updated_date=2023-05-24',\n",
       " 'updated_date=2023-05-25',\n",
       " 'updated_date=2023-05-26',\n",
       " 'updated_date=2023-05-27',\n",
       " 'updated_date=2023-05-28',\n",
       " 'updated_date=2023-05-29',\n",
       " 'updated_date=2023-05-30',\n",
       " 'updated_date=2023-05-31',\n",
       " 'updated_date=2023-06-01',\n",
       " 'updated_date=2023-06-02',\n",
       " 'updated_date=2023-06-03',\n",
       " 'updated_date=2023-06-04',\n",
       " 'updated_date=2023-06-05',\n",
       " 'updated_date=2023-06-06',\n",
       " 'updated_date=2023-06-07',\n",
       " 'updated_date=2023-06-08',\n",
       " 'updated_date=2023-06-09',\n",
       " 'updated_date=2023-06-10',\n",
       " 'updated_date=2023-06-11',\n",
       " 'updated_date=2023-06-12',\n",
       " 'updated_date=2023-06-13',\n",
       " 'updated_date=2023-06-14',\n",
       " 'updated_date=2023-06-15',\n",
       " 'updated_date=2023-06-16',\n",
       " 'updated_date=2023-06-17',\n",
       " 'updated_date=2023-06-18',\n",
       " 'updated_date=2023-06-19',\n",
       " 'updated_date=2023-06-20',\n",
       " 'updated_date=2023-06-21',\n",
       " 'updated_date=2023-06-22',\n",
       " 'updated_date=2023-06-23',\n",
       " 'updated_date=2023-06-24',\n",
       " 'updated_date=2023-06-25',\n",
       " 'updated_date=2023-06-26',\n",
       " 'updated_date=2023-06-27',\n",
       " 'updated_date=2023-06-28',\n",
       " 'updated_date=2023-06-29',\n",
       " 'updated_date=2023-06-30',\n",
       " 'updated_date=2023-07-01',\n",
       " 'updated_date=2023-07-02',\n",
       " 'updated_date=2023-07-03',\n",
       " 'updated_date=2023-07-04',\n",
       " 'updated_date=2023-07-05',\n",
       " 'updated_date=2023-07-06',\n",
       " 'updated_date=2023-07-07',\n",
       " 'updated_date=2023-07-08',\n",
       " 'updated_date=2023-07-09',\n",
       " 'updated_date=2023-07-10',\n",
       " 'updated_date=2023-07-11',\n",
       " 'updated_date=2023-07-12',\n",
       " 'updated_date=2023-07-13',\n",
       " 'updated_date=2023-07-14',\n",
       " 'updated_date=2023-07-15',\n",
       " 'updated_date=2023-07-16',\n",
       " 'updated_date=2023-07-17',\n",
       " 'updated_date=2023-07-18',\n",
       " 'updated_date=2023-07-19',\n",
       " 'updated_date=2023-07-20',\n",
       " 'updated_date=2023-07-21',\n",
       " 'updated_date=2023-07-22',\n",
       " 'updated_date=2023-07-23',\n",
       " 'updated_date=2023-07-24',\n",
       " 'updated_date=2023-07-25',\n",
       " 'updated_date=2023-07-26',\n",
       " 'updated_date=2023-07-27',\n",
       " 'updated_date=2023-07-28',\n",
       " 'updated_date=2023-07-29',\n",
       " 'updated_date=2023-07-30',\n",
       " 'updated_date=2023-07-31',\n",
       " 'updated_date=2023-08-01',\n",
       " 'updated_date=2023-08-02',\n",
       " 'updated_date=2023-08-03',\n",
       " 'updated_date=2023-08-04',\n",
       " 'updated_date=2023-08-05',\n",
       " 'updated_date=2023-08-06',\n",
       " 'updated_date=2023-08-07',\n",
       " 'updated_date=2023-08-08',\n",
       " 'updated_date=2023-08-09',\n",
       " 'updated_date=2023-08-10',\n",
       " 'updated_date=2023-08-11',\n",
       " 'updated_date=2023-08-12',\n",
       " 'updated_date=2023-08-13',\n",
       " 'updated_date=2023-08-14',\n",
       " 'updated_date=2023-08-15',\n",
       " 'updated_date=2023-08-16',\n",
       " 'updated_date=2023-08-17',\n",
       " 'updated_date=2023-08-18']"
      ]
     },
     "execution_count": 6,
     "metadata": {},
     "output_type": "execute_result"
    }
   ],
   "source": [
    "\n",
    "## list_folders : list of the folders in the folder \"data/institutions/\", which represents the institution files\n",
    "\n",
    "list_folders_works = ! ls {main_path + data}/works\n",
    "list_folders_works = list_folders_works[1:]\n",
    "list_folders_works"
   ]
  },
  {
   "cell_type": "code",
   "execution_count": 7,
   "id": "51515539-8e42-46c7-b3ed-745c8a760602",
   "metadata": {},
   "outputs": [],
   "source": [
    "files = ! ls {main_path + data}/works/{list_folders_works[4]}"
   ]
  },
  {
   "cell_type": "code",
   "execution_count": 8,
   "id": "edacd0c1-e000-4b6f-b70e-8240e9437ec3",
   "metadata": {},
   "outputs": [
    {
     "data": {
      "text/plain": [
       "'/home/fs01/spec1142/openalex-snapshot/data/works/updated_date=2022-02-02/part_000.gz'"
      ]
     },
     "execution_count": 8,
     "metadata": {},
     "output_type": "execute_result"
    }
   ],
   "source": [
    "file = main_path + data +\"/works/\" + list_folders_works[4] + \"/\" + files[0]\n",
    "file"
   ]
  },
  {
   "cell_type": "code",
   "execution_count": 60,
   "id": "dd796cd3-314a-4432-a36b-f25b49a48dc0",
   "metadata": {
    "scrolled": true
   },
   "outputs": [],
   "source": [
    "def get_journals_years(i):\n",
    "\n",
    "     \"\"\"\n",
    "    This function processes gzipped JSON files containing work data, extracts relevant information (publication date, venue or source, publisher ID, and language), and stores it in a TSV file.\n",
    "\n",
    "    Parameters:\n",
    "    i (int): The starting index for selecting folders.\n",
    "\n",
    "    Returns:\n",
    "    None. The function directly writes the processed data to a TSV file.\n",
    "\n",
    "    Note:\n",
    "    - The function assumes that the `list_folders_works`, `main_path`, and `data` variables are defined elsewhere in the code.\n",
    "    - The function iterates over a single folder (based on the starting index `i`), gets a list of files in the folder, and processes each file.\n",
    "    - For each file, the function unzips it, creates a dictionary (`dic_works`), and fills it with the extracted data.\n",
    "    - The function then converts the dictionary to a DataFrame and writes it to a TSV file. The TSV file is named based on the folder name.\n",
    "    - The function appends to the TSV file if it already exists, except for the first file, where it overwrites the file.\n",
    "    - The function also prints the time taken to process all the files.\n",
    "    \"\"\"\n",
    "\n",
    "    start = time.time()\n",
    "    \n",
    "    ## search in each folder\n",
    "    \n",
    "    for folder in list_folders_works[i:i+1]:\n",
    "        \n",
    "        #print(\"folder: \" , folder)\n",
    "        \n",
    "        ##get the files in the folder\n",
    "        \n",
    "        files = ! ls {main_path + data}/works/{folder}\n",
    "        #print(\"Files: \" , files) \n",
    "\n",
    "        \n",
    "        ##search in each file in the folder \n",
    "        for file in files:\n",
    "            \n",
    "            ##unzip file\n",
    "            with gzip.open(main_path + data +\"/works/\" + folder + \"/\" + file, 'rb') as f:\n",
    "                \n",
    "                #create dictionary \n",
    "                dic_works = {}\n",
    "                dic_authors_works = {}\n",
    "                count = 0 \n",
    "            \n",
    "    \n",
    "                #print(\"File:\" , file)\n",
    "    \n",
    "                #open file \n",
    "    \n",
    "                #fill out the intermediate dictionary \n",
    "                for line in f:\n",
    "                    \n",
    "                    line = json.loads(line)\n",
    "                    \n",
    "                    work_id = line[\"id\"][21:]\n",
    "                    \n",
    "                       \n",
    "                    dic_works[work_id] = {}\n",
    "    \n",
    "                    dic_works[work_id][\"publication_date\"] = line[\"publication_date\"]\n",
    "    \n",
    "    \n",
    "                    ## host_venue / publisher and sources \n",
    "                    if \"host_venue\" in line:\n",
    "                        if \"id\" in line[\"host_venue\"] and line[\"host_venue\"][\"id\"] != None:\n",
    "                            print(line[\"host_venue\"][\"id\"][21:])\n",
    "                            dic_works[work_id][\"venue_or_source\"] = line[\"host_venue\"][\"id\"][21:]\n",
    "                        else:\n",
    "                            dic_works[work_id][\"venue_or_source\"] = None\n",
    "                        dic_works[work_id][\"publisher_id\"] = None\n",
    "                    elif \"primary_location\" in line and line[\"primary_location\"] != None:\n",
    "                        \n",
    "                        if \"source\" in line[\"primary_location\"] and line[\"primary_location\"][\"source\"] != None and  \"id\" in line[\"primary_location\"][\"source\"] and line[\"primary_location\"][\"source\"]['id'] != None:\n",
    "                            dic_works[work_id][\"venue_or_source\"] = line[\"primary_location\"]['source'][\"id\"][21:]\n",
    "                        else:\n",
    "                            dic_works[work_id][\"venue_or_source\"] = None\n",
    "                            \n",
    "                        if \"source\" in line[\"primary_location\"] and line[\"primary_location\"][\"source\"] != None and  \"publisher_id\" in line[\"primary_location\"][\"source\"] and line[\"primary_location\"][\"source\"]['publisher_id'] != None:\n",
    "                            dic_works[work_id][\"publisher_id\"] = line[\"primary_location\"]['source'][\"publisher_id\"][21:]\n",
    "                        else:\n",
    "                            dic_works[work_id][\"publisher_id\"] = None\n",
    "                        \n",
    "                        \n",
    "                    else:\n",
    "                        dic_works[work_id][\"venue_or_source\"] = None\n",
    "                        dic_works[work_id][\"publisher_id\"] = None\n",
    "                        \n",
    "                    if \"language\" in line:\n",
    "                        dic_works[work_id][\"language\"] = line[\"language\"]\n",
    "                        \n",
    "    \n",
    "                if file == files[0]:\n",
    "    \n",
    "                    table = pd.DataFrame(dic_works).T\n",
    "                    table.to_csv(path + \"OA_works_journal/\" + folder + \".tsv\", sep = \"\\t\", index_label = \"work_id\" , mode='w')\n",
    "\n",
    "                else:\n",
    "                    table = pd.DataFrame(dic_works).T\n",
    "                    table.to_csv(path + \"OA_works_journal/\" + folder + \".tsv\", sep = \"\\t\", index_label = \"work_id\" , mode='a', header = False)\n",
    "\n",
    "                    \n",
    "            \n",
    "    end = time.time()\n",
    "    print(\"Time:\" , end - start) \n",
    "    \n",
    "\n",
    "\n"
   ]
  },
  {
   "cell_type": "code",
   "execution_count": 61,
   "id": "fdec2722-c659-40bb-a82e-ac572f203963",
   "metadata": {},
   "outputs": [
    {
     "name": "stdout",
     "output_type": "stream",
     "text": [
      "Time: 2023.0723605155945\n",
      "Time: 2215.2538208961487\n",
      "Time: 3614.933911085129\n",
      "Time: 3791.784571170807\n",
      "Time: 4015.3293240070343\n",
      "Time: 4839.842512130737\n",
      "Time: 5287.343179941177\n",
      "Time: 6055.877161741257\n",
      "Time: 6186.000864267349\n"
     ]
    }
   ],
   "source": [
    "## run code get_journals_years using multiple CPUs. \n",
    "\n",
    "import warnings\n",
    "\n",
    "        \n",
    "from multiprocessing import Process\n",
    "\n",
    "\n",
    "if __name__ == '__main__':\n",
    "    with warnings.catch_warnings():\n",
    "        warnings.simplefilter(\"ignore\",UserWarning)\n",
    "        \n",
    "        processes = [Process(target=get_journals_years, args=(k,)) for k in range(0,138)]\n",
    "        \n",
    "        for process in processes:\n",
    "            process.start()\n",
    "            \n",
    "        for process in processes:\n",
    "            process.join()\n"
   ]
  },
  {
   "cell_type": "code",
   "execution_count": 44,
   "id": "3bc39b82-81e5-4034-bd9c-bdf2b67bb634",
   "metadata": {},
   "outputs": [
    {
     "data": {
      "text/html": [
       "<div>\n",
       "<style scoped>\n",
       "    .dataframe tbody tr th:only-of-type {\n",
       "        vertical-align: middle;\n",
       "    }\n",
       "\n",
       "    .dataframe tbody tr th {\n",
       "        vertical-align: top;\n",
       "    }\n",
       "\n",
       "    .dataframe thead th {\n",
       "        text-align: right;\n",
       "    }\n",
       "</style>\n",
       "<table border=\"1\" class=\"dataframe\">\n",
       "  <thead>\n",
       "    <tr style=\"text-align: right;\">\n",
       "      <th></th>\n",
       "      <th>publication_date</th>\n",
       "      <th>venue_or_source</th>\n",
       "      <th>publisher_id</th>\n",
       "      <th>language</th>\n",
       "    </tr>\n",
       "  </thead>\n",
       "  <tbody>\n",
       "    <tr>\n",
       "      <th>W2107277218</th>\n",
       "      <td>2001-12-01</td>\n",
       "      <td>S73539393</td>\n",
       "      <td>P4310320990</td>\n",
       "      <td>en</td>\n",
       "    </tr>\n",
       "    <tr>\n",
       "      <th>W2194775991</th>\n",
       "      <td>2016-06-01</td>\n",
       "      <td>None</td>\n",
       "      <td>None</td>\n",
       "      <td>en</td>\n",
       "    </tr>\n",
       "    <tr>\n",
       "      <th>W4247665917</th>\n",
       "      <td>2013-05-22</td>\n",
       "      <td>None</td>\n",
       "      <td>None</td>\n",
       "      <td>en</td>\n",
       "    </tr>\n",
       "    <tr>\n",
       "      <th>W2024556021</th>\n",
       "      <td>1962-07-01</td>\n",
       "      <td>S185046733</td>\n",
       "      <td>P4310320503</td>\n",
       "      <td>en</td>\n",
       "    </tr>\n",
       "    <tr>\n",
       "      <th>W2230728100</th>\n",
       "      <td>1965-11-15</td>\n",
       "      <td>S54862371</td>\n",
       "      <td>P4310320257</td>\n",
       "      <td>en</td>\n",
       "    </tr>\n",
       "    <tr>\n",
       "      <th>...</th>\n",
       "      <td>...</td>\n",
       "      <td>...</td>\n",
       "      <td>...</td>\n",
       "      <td>...</td>\n",
       "    </tr>\n",
       "    <tr>\n",
       "      <th>W2042214850</th>\n",
       "      <td>2005-01-01</td>\n",
       "      <td>S204030396</td>\n",
       "      <td>P4310320990</td>\n",
       "      <td>en</td>\n",
       "    </tr>\n",
       "    <tr>\n",
       "      <th>W2051372804</th>\n",
       "      <td>1994-01-01</td>\n",
       "      <td>S75627607</td>\n",
       "      <td>P4310320262</td>\n",
       "      <td>en</td>\n",
       "    </tr>\n",
       "    <tr>\n",
       "      <th>W2053134332</th>\n",
       "      <td>1994-09-01</td>\n",
       "      <td>S45720283</td>\n",
       "      <td>P4310311648</td>\n",
       "      <td>en</td>\n",
       "    </tr>\n",
       "    <tr>\n",
       "      <th>W2056568229</th>\n",
       "      <td>1980-01-01</td>\n",
       "      <td>S49861241</td>\n",
       "      <td>P4310320990</td>\n",
       "      <td>en</td>\n",
       "    </tr>\n",
       "    <tr>\n",
       "      <th>W2065570730</th>\n",
       "      <td>1993-09-01</td>\n",
       "      <td>S140848990</td>\n",
       "      <td>P4310320990</td>\n",
       "      <td>en</td>\n",
       "    </tr>\n",
       "  </tbody>\n",
       "</table>\n",
       "<p>14670 rows × 4 columns</p>\n",
       "</div>"
      ],
      "text/plain": [
       "            publication_date venue_or_source publisher_id language\n",
       "W2107277218       2001-12-01       S73539393  P4310320990       en\n",
       "W2194775991       2016-06-01            None         None       en\n",
       "W4247665917       2013-05-22            None         None       en\n",
       "W2024556021       1962-07-01      S185046733  P4310320503       en\n",
       "W2230728100       1965-11-15       S54862371  P4310320257       en\n",
       "...                      ...             ...          ...      ...\n",
       "W2042214850       2005-01-01      S204030396  P4310320990       en\n",
       "W2051372804       1994-01-01       S75627607  P4310320262       en\n",
       "W2053134332       1994-09-01       S45720283  P4310311648       en\n",
       "W2056568229       1980-01-01       S49861241  P4310320990       en\n",
       "W2065570730       1993-09-01      S140848990  P4310320990       en\n",
       "\n",
       "[14670 rows x 4 columns]"
      ]
     },
     "execution_count": 44,
     "metadata": {},
     "output_type": "execute_result"
    }
   ],
   "source": [
    "table = pd.DataFrame(dic_works).T\n",
    "table"
   ]
  },
  {
   "cell_type": "code",
   "execution_count": 16,
   "id": "8573a855-25f1-47e3-954d-0ab57c23943b",
   "metadata": {
    "scrolled": true
   },
   "outputs": [],
   "source": [
    "\n",
    "def get_authors_position(i):\n",
    "## search in each folder\n",
    "\n",
    "    index = [ k for k in range(i,len(list_folders_works),12) ] \n",
    "\n",
    "    for ind in index:\n",
    "\n",
    "        folder = list_folders_works[ind]\n",
    "        \n",
    "        #print(\"folder: \" , folder)\n",
    "        \n",
    "        ##get the files in the folder\n",
    "        \n",
    "        files = ! ls {main_path + data}/works/{folder}\n",
    "        #print(\"Files: \" , files) \n",
    "        \n",
    "\n",
    "        ##search in each file in the folder \n",
    "        for file in files:\n",
    "            \n",
    "            ##unzip file\n",
    "            with gzip.open(main_path + data +\"/works/\" + folder + \"/\" + file, 'rb') as f:\n",
    "                \n",
    "                #create dictionary \n",
    "                dic_works = {}\n",
    "                dic_authors_works = {}\n",
    "                count = 0 \n",
    "            \n",
    "    \n",
    "                #print(\"File:\" , file)\n",
    "    \n",
    "                #open file \n",
    "    \n",
    "                #fill out the intermediate dictionary \n",
    "                for line in f:\n",
    "                    \n",
    "                    line = json.loads(line)\n",
    "                    \n",
    "                    work_id = line[\"id\"][21:]\n",
    "                                \n",
    "                    authorships = line[\"authorships\"]\n",
    "                    for elem in authorships:\n",
    "                        \n",
    "                        if \"id\" in elem[\"author\"] and elem[\"author\"][\"id\"] != None and 'author_position' in elem:\n",
    "    \n",
    "                            dic_authors_works[count] = {}\n",
    "                            dic_authors_works[count][\"oaid\"] = work_id\n",
    "                            dic_authors_works[count][\"authorid\"] = elem[\"author\"]['id'][21:]\n",
    "                            \n",
    "                            dic_authors_works[count][\"firstmidlast\"] = elem[\"author_position\"]\n",
    "                            if dic_authors_works[count][\"firstmidlast\"] == 'middle':\n",
    "                                dic_authors_works[count][\"firstmidlast\"] = 'mid'\n",
    "                                    \n",
    "                            count += 1\n",
    "\n",
    "                table = pd.DataFrame(dic_authors_works).T\n",
    "                if file == files[0]:\n",
    "                    table = pd.DataFrame(dic_authors_works).T\n",
    "                    table.to_csv(path + \"OA_authors_position/\" + folder + \".tsv\", sep = \"\\t\", index = False, mode = 'w')\n",
    "                else:\n",
    "                    table = pd.DataFrame(dic_authors_works).T\n",
    "                    table.to_csv(path + \"OA_authors_position/\" + folder + \".tsv\", sep = \"\\t\", index = False, mode = 'a', header = False)\n",
    "    return table      \n",
    "        \n"
   ]
  },
  {
   "cell_type": "code",
   "execution_count": 74,
   "id": "232fb828-d8a4-4415-8563-0e647e17ae9c",
   "metadata": {},
   "outputs": [],
   "source": [
    "## run code get_journals_years using multiple CPUs. \n",
    "\n",
    "\n",
    "import warnings\n",
    "\n",
    "        \n",
    "from multiprocessing import Process\n",
    "\n",
    "\n",
    "if __name__ == '__main__':\n",
    "    with warnings.catch_warnings():\n",
    "        warnings.simplefilter(\"ignore\",UserWarning)\n",
    "        \n",
    "        processes = [Process(target=get_authors_position, args=(k,)) for k in range(12)]\n",
    "        \n",
    "        for process in processes:\n",
    "            process.start()\n",
    "            \n",
    "        for process in processes:\n",
    "            process.join()"
   ]
  },
  {
   "cell_type": "markdown",
   "id": "729c0ca7",
   "metadata": {
    "jp-MarkdownHeadingCollapsed": true
   },
   "source": [
    "### Check tables"
   ]
  },
  {
   "cell_type": "code",
   "execution_count": 22,
   "id": "f66c96ec-11c5-456d-b6ba-5355f91dab21",
   "metadata": {},
   "outputs": [
    {
     "data": {
      "text/html": [
       "<div>\n",
       "<style scoped>\n",
       "    .dataframe tbody tr th:only-of-type {\n",
       "        vertical-align: middle;\n",
       "    }\n",
       "\n",
       "    .dataframe tbody tr th {\n",
       "        vertical-align: top;\n",
       "    }\n",
       "\n",
       "    .dataframe thead th {\n",
       "        text-align: right;\n",
       "    }\n",
       "</style>\n",
       "<table border=\"1\" class=\"dataframe\">\n",
       "  <thead>\n",
       "    <tr style=\"text-align: right;\">\n",
       "      <th></th>\n",
       "      <th>work_id</th>\n",
       "      <th>publication_date</th>\n",
       "      <th>venue_or_source</th>\n",
       "      <th>publisher_id</th>\n",
       "      <th>language</th>\n",
       "    </tr>\n",
       "  </thead>\n",
       "  <tbody>\n",
       "    <tr>\n",
       "      <th>0</th>\n",
       "      <td>W2069614918</td>\n",
       "      <td>2001-05-01</td>\n",
       "      <td>NaN</td>\n",
       "      <td>NaN</td>\n",
       "      <td>en</td>\n",
       "    </tr>\n",
       "    <tr>\n",
       "      <th>1</th>\n",
       "      <td>W2080626185</td>\n",
       "      <td>2015-05-01</td>\n",
       "      <td>S24284137</td>\n",
       "      <td>P4310320990</td>\n",
       "      <td>en</td>\n",
       "    </tr>\n",
       "    <tr>\n",
       "      <th>2</th>\n",
       "      <td>W4200258892</td>\n",
       "      <td>2021-09-15</td>\n",
       "      <td>S4306462964</td>\n",
       "      <td>P4310320561</td>\n",
       "      <td>NaN</td>\n",
       "    </tr>\n",
       "    <tr>\n",
       "      <th>3</th>\n",
       "      <td>W4244934795</td>\n",
       "      <td>2010-03-01</td>\n",
       "      <td>S21837735</td>\n",
       "      <td>P4310320443</td>\n",
       "      <td>en</td>\n",
       "    </tr>\n",
       "    <tr>\n",
       "      <th>4</th>\n",
       "      <td>W2213700795</td>\n",
       "      <td>2014-06-01</td>\n",
       "      <td>S19887683</td>\n",
       "      <td>P4310319808</td>\n",
       "      <td>en</td>\n",
       "    </tr>\n",
       "  </tbody>\n",
       "</table>\n",
       "</div>"
      ],
      "text/plain": [
       "       work_id publication_date venue_or_source publisher_id language\n",
       "0  W2069614918       2001-05-01             NaN          NaN       en\n",
       "1  W2080626185       2015-05-01       S24284137  P4310320990       en\n",
       "2  W4200258892       2021-09-15     S4306462964  P4310320561      NaN\n",
       "3  W4244934795       2010-03-01       S21837735  P4310320443       en\n",
       "4  W2213700795       2014-06-01       S19887683  P4310319808       en"
      ]
     },
     "execution_count": 22,
     "metadata": {},
     "output_type": "execute_result"
    }
   ],
   "source": [
    "table = pd.read_csv(path + 'OA_works_journal/updated_date=2023-06-19.tsv' , delimiter = \"\\t\" )\n",
    "table.head()"
   ]
  },
  {
   "cell_type": "code",
   "execution_count": 21,
   "id": "8eaa976e-afb5-46b1-9094-9fdb63a6aeb6",
   "metadata": {},
   "outputs": [
    {
     "data": {
      "text/html": [
       "<div>\n",
       "<style scoped>\n",
       "    .dataframe tbody tr th:only-of-type {\n",
       "        vertical-align: middle;\n",
       "    }\n",
       "\n",
       "    .dataframe tbody tr th {\n",
       "        vertical-align: top;\n",
       "    }\n",
       "\n",
       "    .dataframe thead th {\n",
       "        text-align: right;\n",
       "    }\n",
       "</style>\n",
       "<table border=\"1\" class=\"dataframe\">\n",
       "  <thead>\n",
       "    <tr style=\"text-align: right;\">\n",
       "      <th></th>\n",
       "      <th>oaid</th>\n",
       "      <th>authorid</th>\n",
       "      <th>firstmidlast</th>\n",
       "    </tr>\n",
       "  </thead>\n",
       "  <tbody>\n",
       "    <tr>\n",
       "      <th>0</th>\n",
       "      <td>W1612067013</td>\n",
       "      <td>A2162240685</td>\n",
       "      <td>first</td>\n",
       "    </tr>\n",
       "    <tr>\n",
       "      <th>1</th>\n",
       "      <td>W1612067013</td>\n",
       "      <td>A2630951464</td>\n",
       "      <td>mid</td>\n",
       "    </tr>\n",
       "    <tr>\n",
       "      <th>2</th>\n",
       "      <td>W1612067013</td>\n",
       "      <td>A1975636128</td>\n",
       "      <td>last</td>\n",
       "    </tr>\n",
       "    <tr>\n",
       "      <th>3</th>\n",
       "      <td>W2098696036</td>\n",
       "      <td>A2250517268</td>\n",
       "      <td>first</td>\n",
       "    </tr>\n",
       "    <tr>\n",
       "      <th>4</th>\n",
       "      <td>W2098696036</td>\n",
       "      <td>A2068701579</td>\n",
       "      <td>mid</td>\n",
       "    </tr>\n",
       "  </tbody>\n",
       "</table>\n",
       "</div>"
      ],
      "text/plain": [
       "          oaid     authorid firstmidlast\n",
       "0  W1612067013  A2162240685        first\n",
       "1  W1612067013  A2630951464          mid\n",
       "2  W1612067013  A1975636128         last\n",
       "3  W2098696036  A2250517268        first\n",
       "4  W2098696036  A2068701579          mid"
      ]
     },
     "execution_count": 21,
     "metadata": {},
     "output_type": "execute_result"
    }
   ],
   "source": [
    "table = pd.read_csv(path + 'OA_authors_position/updated_date=2021-11-03.tsv' , delimiter = \"\\t\" )\n",
    "table.head()"
   ]
  },
  {
   "cell_type": "markdown",
   "id": "01340aaf-e577-46f9-a435-e91ea6c49529",
   "metadata": {
    "jp-MarkdownHeadingCollapsed": true
   },
   "source": [
    "## OpenAlex journals"
   ]
  },
  {
   "cell_type": "code",
   "execution_count": 25,
   "id": "6d8c5e3a-292e-4efa-b6d0-ad4e9a5cfe5a",
   "metadata": {},
   "outputs": [],
   "source": [
    "path = '/home/fs01/spec1142/Emma/GateKeepers/Download_OpenAlex/'\n"
   ]
  },
  {
   "cell_type": "markdown",
   "id": "9ba3d0e6-c41b-4ca6-a9c8-1fea8d353241",
   "metadata": {
    "jp-MarkdownHeadingCollapsed": true
   },
   "source": [
    "### Flatten data"
   ]
  },
  {
   "cell_type": "code",
   "execution_count": 11,
   "id": "b879e674-2510-4d49-8507-2b371bb3c55d",
   "metadata": {
    "scrolled": true
   },
   "outputs": [
    {
     "data": {
      "text/plain": [
       "['updated_date=2023-06-12',\n",
       " 'updated_date=2023-06-13',\n",
       " 'updated_date=2023-06-14',\n",
       " 'updated_date=2023-06-15',\n",
       " 'updated_date=2023-06-16',\n",
       " 'updated_date=2023-06-17',\n",
       " 'updated_date=2023-06-18',\n",
       " 'updated_date=2023-06-19',\n",
       " 'updated_date=2023-06-20',\n",
       " 'updated_date=2023-06-21',\n",
       " 'updated_date=2023-06-22',\n",
       " 'updated_date=2023-06-23',\n",
       " 'updated_date=2023-06-24',\n",
       " 'updated_date=2023-06-25',\n",
       " 'updated_date=2023-06-26',\n",
       " 'updated_date=2023-06-27',\n",
       " 'updated_date=2023-06-28',\n",
       " 'updated_date=2023-06-29',\n",
       " 'updated_date=2023-06-30',\n",
       " 'updated_date=2023-07-01',\n",
       " 'updated_date=2023-07-02',\n",
       " 'updated_date=2023-07-03',\n",
       " 'updated_date=2023-07-04',\n",
       " 'updated_date=2023-07-05',\n",
       " 'updated_date=2023-07-06',\n",
       " 'updated_date=2023-07-07',\n",
       " 'updated_date=2023-07-08',\n",
       " 'updated_date=2023-07-09',\n",
       " 'updated_date=2023-07-10',\n",
       " 'updated_date=2023-07-11',\n",
       " 'updated_date=2023-07-12',\n",
       " 'updated_date=2023-07-13',\n",
       " 'updated_date=2023-07-14',\n",
       " 'updated_date=2023-07-15',\n",
       " 'updated_date=2023-07-16',\n",
       " 'updated_date=2023-07-17',\n",
       " 'updated_date=2023-07-18',\n",
       " 'updated_date=2023-07-19',\n",
       " 'updated_date=2023-07-20',\n",
       " 'updated_date=2023-07-21',\n",
       " 'updated_date=2023-07-22',\n",
       " 'updated_date=2023-07-23',\n",
       " 'updated_date=2023-07-24',\n",
       " 'updated_date=2023-07-25',\n",
       " 'updated_date=2023-07-26',\n",
       " 'updated_date=2023-07-27',\n",
       " 'updated_date=2023-07-28',\n",
       " 'updated_date=2023-07-29',\n",
       " 'updated_date=2023-07-30',\n",
       " 'updated_date=2023-07-31',\n",
       " 'updated_date=2023-08-01',\n",
       " 'updated_date=2023-08-02',\n",
       " 'updated_date=2023-08-03',\n",
       " 'updated_date=2023-08-04',\n",
       " 'updated_date=2023-08-05',\n",
       " 'updated_date=2023-08-06',\n",
       " 'updated_date=2023-08-07',\n",
       " 'updated_date=2023-08-08',\n",
       " 'updated_date=2023-08-09',\n",
       " 'updated_date=2023-08-10',\n",
       " 'updated_date=2023-08-11',\n",
       " 'updated_date=2023-08-12',\n",
       " 'updated_date=2023-08-13',\n",
       " 'updated_date=2023-08-14',\n",
       " 'updated_date=2023-08-15',\n",
       " 'updated_date=2023-08-16',\n",
       " 'updated_date=2023-08-17']"
      ]
     },
     "execution_count": 11,
     "metadata": {},
     "output_type": "execute_result"
    }
   ],
   "source": [
    "## list_folders : list of the folders in the folder \"data/sources/\", which represents the journal's files\n",
    "\n",
    "list_folders_sources = ! ls {main_path + data}/sources\n",
    "list_folders_sources = list_folders_sources[1:]\n",
    "list_folders_sources"
   ]
  },
  {
   "cell_type": "code",
   "execution_count": 12,
   "id": "31f2c92b-d182-42b4-bc38-e6fd238c4160",
   "metadata": {},
   "outputs": [],
   "source": [
    "files = ! ls {main_path + data}/sources/{list_folders_sources[4]}"
   ]
  },
  {
   "cell_type": "code",
   "execution_count": 13,
   "id": "c35e31b4-59c4-4a4b-bdbc-b8293f9d8ea6",
   "metadata": {},
   "outputs": [
    {
     "data": {
      "text/plain": [
       "'/home/fs01/spec1142/openalex-snapshot/data/sources/updated_date=2023-06-16/part_000.gz'"
      ]
     },
     "execution_count": 13,
     "metadata": {},
     "output_type": "execute_result"
    }
   ],
   "source": [
    "file = main_path + data +\"/sources/\" + list_folders_sources[4] + \"/\" + files[0]\n",
    "file"
   ]
  },
  {
   "cell_type": "code",
   "execution_count": 19,
   "id": "ca590378-b953-46d8-99f5-31d7ffe37181",
   "metadata": {},
   "outputs": [
    {
     "name": "stdout",
     "output_type": "stream",
     "text": [
      "dict_keys(['publisher_id', 'host_organization_lineage', 'is_in_doaj', 'publisher_lineage', 'issn_l', 'counts_by_year', 'homepage_url', 'apc_prices', 'type', 'abbreviated_title', 'summary_stats', 'works_api_url', 'id', 'societies', 'host_organization', 'apc_usd', 'x_concepts', 'host_organization_lineage_names', 'cited_by_count', 'publisher_lineage_names', 'display_name', 'host_organization_name', 'country_code', 'issn', 'alternate_titles', 'publisher', 'host_institution_lineage_names', 'ids', 'is_oa', 'updated_date', 'created_date', 'works_count', 'updated', 'host_institution_lineage'])\n",
      "None\n"
     ]
    }
   ],
   "source": [
    "with gzip.open(file, 'rb') as f:\n",
    "    for line in f:\n",
    "        print(json.loads(line).keys())\n",
    "\n",
    "        print(json.loads(line)[\"issn_l\"])\n",
    "        break\n",
    "    "
   ]
  },
  {
   "cell_type": "code",
   "execution_count": 21,
   "id": "b5366027-1f93-451b-b2ad-8633bc7079ca",
   "metadata": {
    "scrolled": true
   },
   "outputs": [
    {
     "name": "stdout",
     "output_type": "stream",
     "text": [
      "folder:  updated_date=2023-06-12\n",
      "Files:  ['part_000.gz']\n"
     ]
    },
    {
     "name": "stderr",
     "output_type": "stream",
     "text": [
      "32467it [00:01, 19973.87it/s]"
     ]
    },
    {
     "name": "stdout",
     "output_type": "stream",
     "text": [
      "folder:  updated_date=2023-06-13\n"
     ]
    },
    {
     "name": "stderr",
     "output_type": "stream",
     "text": [
      "\n"
     ]
    },
    {
     "name": "stdout",
     "output_type": "stream",
     "text": [
      "Files:  ['part_000.gz']\n"
     ]
    },
    {
     "name": "stderr",
     "output_type": "stream",
     "text": [
      "65645it [00:03, 21730.73it/s]"
     ]
    },
    {
     "name": "stdout",
     "output_type": "stream",
     "text": [
      "folder:  updated_date=2023-06-14\n"
     ]
    },
    {
     "name": "stderr",
     "output_type": "stream",
     "text": [
      "\n"
     ]
    },
    {
     "name": "stdout",
     "output_type": "stream",
     "text": [
      "Files:  ['part_000.gz']\n"
     ]
    },
    {
     "name": "stderr",
     "output_type": "stream",
     "text": [
      "300it [00:00, 6891.05it/s]"
     ]
    },
    {
     "name": "stdout",
     "output_type": "stream",
     "text": [
      "folder:  updated_date=2023-06-15\n"
     ]
    },
    {
     "name": "stderr",
     "output_type": "stream",
     "text": [
      "\n"
     ]
    },
    {
     "name": "stdout",
     "output_type": "stream",
     "text": [
      "Files:  ['part_000.gz']\n"
     ]
    },
    {
     "name": "stderr",
     "output_type": "stream",
     "text": [
      "87it [00:00, 9835.96it/s]"
     ]
    },
    {
     "name": "stdout",
     "output_type": "stream",
     "text": [
      "folder:  updated_date=2023-06-16\n"
     ]
    },
    {
     "name": "stderr",
     "output_type": "stream",
     "text": [
      "\n"
     ]
    },
    {
     "name": "stdout",
     "output_type": "stream",
     "text": [
      "Files:  ['part_000.gz']\n"
     ]
    },
    {
     "name": "stderr",
     "output_type": "stream",
     "text": [
      "63it [00:00, 9227.26it/s]"
     ]
    },
    {
     "name": "stdout",
     "output_type": "stream",
     "text": [
      "folder:  updated_date=2023-06-17\n"
     ]
    },
    {
     "name": "stderr",
     "output_type": "stream",
     "text": [
      "\n"
     ]
    },
    {
     "name": "stdout",
     "output_type": "stream",
     "text": [
      "Files:  ['part_000.gz']\n"
     ]
    },
    {
     "name": "stderr",
     "output_type": "stream",
     "text": [
      "55it [00:00, 6090.10it/s]"
     ]
    },
    {
     "name": "stdout",
     "output_type": "stream",
     "text": [
      "folder:  updated_date=2023-06-18\n"
     ]
    },
    {
     "name": "stderr",
     "output_type": "stream",
     "text": [
      "\n"
     ]
    },
    {
     "name": "stdout",
     "output_type": "stream",
     "text": [
      "Files:  ['part_000.gz']\n"
     ]
    },
    {
     "name": "stderr",
     "output_type": "stream",
     "text": [
      "138it [00:00, 10278.70it/s]"
     ]
    },
    {
     "name": "stdout",
     "output_type": "stream",
     "text": [
      "folder:  updated_date=2023-06-19\n"
     ]
    },
    {
     "name": "stderr",
     "output_type": "stream",
     "text": [
      "\n"
     ]
    },
    {
     "name": "stdout",
     "output_type": "stream",
     "text": [
      "Files:  ['part_000.gz']\n"
     ]
    },
    {
     "name": "stderr",
     "output_type": "stream",
     "text": [
      "2367it [00:00, 13386.55it/s]"
     ]
    },
    {
     "name": "stdout",
     "output_type": "stream",
     "text": [
      "folder:  updated_date=2023-06-20\n"
     ]
    },
    {
     "name": "stderr",
     "output_type": "stream",
     "text": [
      "\n"
     ]
    },
    {
     "name": "stdout",
     "output_type": "stream",
     "text": [
      "Files:  ['part_000.gz']\n"
     ]
    },
    {
     "name": "stderr",
     "output_type": "stream",
     "text": [
      "105it [00:00, 1821.49it/s]"
     ]
    },
    {
     "name": "stdout",
     "output_type": "stream",
     "text": [
      "folder:  updated_date=2023-06-21\n"
     ]
    },
    {
     "name": "stderr",
     "output_type": "stream",
     "text": [
      "\n"
     ]
    },
    {
     "name": "stdout",
     "output_type": "stream",
     "text": [
      "Files:  ['part_000.gz']\n"
     ]
    },
    {
     "name": "stderr",
     "output_type": "stream",
     "text": [
      "102it [00:00, 5169.96it/s]"
     ]
    },
    {
     "name": "stdout",
     "output_type": "stream",
     "text": [
      "folder:  updated_date=2023-06-22\n"
     ]
    },
    {
     "name": "stderr",
     "output_type": "stream",
     "text": [
      "\n"
     ]
    },
    {
     "name": "stdout",
     "output_type": "stream",
     "text": [
      "Files:  ['part_000.gz']\n"
     ]
    },
    {
     "name": "stderr",
     "output_type": "stream",
     "text": [
      "120it [00:00, 2848.70it/s]"
     ]
    },
    {
     "name": "stdout",
     "output_type": "stream",
     "text": [
      "folder:  updated_date=2023-06-23\n"
     ]
    },
    {
     "name": "stderr",
     "output_type": "stream",
     "text": [
      "\n"
     ]
    },
    {
     "name": "stdout",
     "output_type": "stream",
     "text": [
      "Files:  ['part_000.gz']\n"
     ]
    },
    {
     "name": "stderr",
     "output_type": "stream",
     "text": [
      "109it [00:00, 2088.31it/s]"
     ]
    },
    {
     "name": "stdout",
     "output_type": "stream",
     "text": [
      "folder:  updated_date=2023-06-24\n"
     ]
    },
    {
     "name": "stderr",
     "output_type": "stream",
     "text": [
      "\n"
     ]
    },
    {
     "name": "stdout",
     "output_type": "stream",
     "text": [
      "Files:  ['part_000.gz']\n"
     ]
    },
    {
     "name": "stderr",
     "output_type": "stream",
     "text": [
      "151it [00:00, 5724.02it/s]"
     ]
    },
    {
     "name": "stdout",
     "output_type": "stream",
     "text": [
      "folder:  updated_date=2023-06-25\n"
     ]
    },
    {
     "name": "stderr",
     "output_type": "stream",
     "text": [
      "\n"
     ]
    },
    {
     "name": "stdout",
     "output_type": "stream",
     "text": [
      "Files:  ['part_000.gz']\n"
     ]
    },
    {
     "name": "stderr",
     "output_type": "stream",
     "text": [
      "454it [00:00, 5739.56it/s]"
     ]
    },
    {
     "name": "stdout",
     "output_type": "stream",
     "text": [
      "folder:  updated_date=2023-06-26\n"
     ]
    },
    {
     "name": "stderr",
     "output_type": "stream",
     "text": [
      "\n"
     ]
    },
    {
     "name": "stdout",
     "output_type": "stream",
     "text": [
      "Files:  ['part_000.gz']\n"
     ]
    },
    {
     "name": "stderr",
     "output_type": "stream",
     "text": [
      "2066it [00:00, 12008.02it/s]"
     ]
    },
    {
     "name": "stdout",
     "output_type": "stream",
     "text": [
      "folder:  updated_date=2023-06-27\n"
     ]
    },
    {
     "name": "stderr",
     "output_type": "stream",
     "text": [
      "\n"
     ]
    },
    {
     "name": "stdout",
     "output_type": "stream",
     "text": [
      "Files:  ['part_000.gz']\n"
     ]
    },
    {
     "name": "stderr",
     "output_type": "stream",
     "text": [
      "166it [00:00, 3984.61it/s]"
     ]
    },
    {
     "name": "stdout",
     "output_type": "stream",
     "text": [
      "folder:  updated_date=2023-06-28\n"
     ]
    },
    {
     "name": "stderr",
     "output_type": "stream",
     "text": [
      "\n"
     ]
    },
    {
     "name": "stdout",
     "output_type": "stream",
     "text": [
      "Files:  ['part_000.gz']\n"
     ]
    },
    {
     "name": "stderr",
     "output_type": "stream",
     "text": [
      "222it [00:00, 3997.40it/s]"
     ]
    },
    {
     "name": "stdout",
     "output_type": "stream",
     "text": [
      "folder:  updated_date=2023-06-29\n"
     ]
    },
    {
     "name": "stderr",
     "output_type": "stream",
     "text": [
      "\n"
     ]
    },
    {
     "name": "stdout",
     "output_type": "stream",
     "text": [
      "Files:  ['part_000.gz']\n"
     ]
    },
    {
     "name": "stderr",
     "output_type": "stream",
     "text": [
      "262it [00:00, 5828.33it/s]"
     ]
    },
    {
     "name": "stdout",
     "output_type": "stream",
     "text": [
      "folder:  updated_date=2023-06-30\n"
     ]
    },
    {
     "name": "stderr",
     "output_type": "stream",
     "text": [
      "\n"
     ]
    },
    {
     "name": "stdout",
     "output_type": "stream",
     "text": [
      "Files:  ['part_000.gz']\n"
     ]
    },
    {
     "name": "stderr",
     "output_type": "stream",
     "text": [
      "287it [00:00, 3186.76it/s]"
     ]
    },
    {
     "name": "stdout",
     "output_type": "stream",
     "text": [
      "folder:  updated_date=2023-07-01\n"
     ]
    },
    {
     "name": "stderr",
     "output_type": "stream",
     "text": [
      "\n"
     ]
    },
    {
     "name": "stdout",
     "output_type": "stream",
     "text": [
      "Files:  ['part_000.gz']\n"
     ]
    },
    {
     "name": "stderr",
     "output_type": "stream",
     "text": [
      "434it [00:00, 6199.22it/s]"
     ]
    },
    {
     "name": "stdout",
     "output_type": "stream",
     "text": [
      "folder:  updated_date=2023-07-02\n"
     ]
    },
    {
     "name": "stderr",
     "output_type": "stream",
     "text": [
      "\n"
     ]
    },
    {
     "name": "stdout",
     "output_type": "stream",
     "text": [
      "Files:  ['part_000.gz']\n"
     ]
    },
    {
     "name": "stderr",
     "output_type": "stream",
     "text": [
      "914it [00:00, 11038.47it/s]"
     ]
    },
    {
     "name": "stdout",
     "output_type": "stream",
     "text": [
      "folder:  updated_date=2023-07-03\n"
     ]
    },
    {
     "name": "stderr",
     "output_type": "stream",
     "text": [
      "\n"
     ]
    },
    {
     "name": "stdout",
     "output_type": "stream",
     "text": [
      "Files:  ['part_000.gz']\n"
     ]
    },
    {
     "name": "stderr",
     "output_type": "stream",
     "text": [
      "3316it [00:00, 15347.44it/s]"
     ]
    },
    {
     "name": "stdout",
     "output_type": "stream",
     "text": [
      "folder:  updated_date=2023-07-04\n"
     ]
    },
    {
     "name": "stderr",
     "output_type": "stream",
     "text": [
      "\n"
     ]
    },
    {
     "name": "stdout",
     "output_type": "stream",
     "text": [
      "Files:  ['part_000.gz']\n"
     ]
    },
    {
     "name": "stderr",
     "output_type": "stream",
     "text": [
      "122it [00:00, 2434.50it/s]"
     ]
    },
    {
     "name": "stdout",
     "output_type": "stream",
     "text": [
      "folder:  updated_date=2023-07-05\n"
     ]
    },
    {
     "name": "stderr",
     "output_type": "stream",
     "text": [
      "\n"
     ]
    },
    {
     "name": "stdout",
     "output_type": "stream",
     "text": [
      "Files:  ['part_000.gz']\n"
     ]
    },
    {
     "name": "stderr",
     "output_type": "stream",
     "text": [
      "165it [00:00, 2911.73it/s]"
     ]
    },
    {
     "name": "stdout",
     "output_type": "stream",
     "text": [
      "folder:  updated_date=2023-07-06\n"
     ]
    },
    {
     "name": "stderr",
     "output_type": "stream",
     "text": [
      "\n"
     ]
    },
    {
     "name": "stdout",
     "output_type": "stream",
     "text": [
      "Files:  ['part_000.gz']\n"
     ]
    },
    {
     "name": "stderr",
     "output_type": "stream",
     "text": [
      "111it [00:00, 2635.94it/s]"
     ]
    },
    {
     "name": "stdout",
     "output_type": "stream",
     "text": [
      "folder:  updated_date=2023-07-07\n"
     ]
    },
    {
     "name": "stderr",
     "output_type": "stream",
     "text": [
      "\n"
     ]
    },
    {
     "name": "stdout",
     "output_type": "stream",
     "text": [
      "Files:  ['part_000.gz']\n"
     ]
    },
    {
     "name": "stderr",
     "output_type": "stream",
     "text": [
      "150it [00:00, 2710.49it/s]"
     ]
    },
    {
     "name": "stdout",
     "output_type": "stream",
     "text": [
      "folder:  updated_date=2023-07-08\n"
     ]
    },
    {
     "name": "stderr",
     "output_type": "stream",
     "text": [
      "\n"
     ]
    },
    {
     "name": "stdout",
     "output_type": "stream",
     "text": [
      "Files:  ['part_000.gz']\n"
     ]
    },
    {
     "name": "stderr",
     "output_type": "stream",
     "text": [
      "898it [00:00, 11326.24it/s]"
     ]
    },
    {
     "name": "stdout",
     "output_type": "stream",
     "text": [
      "folder:  updated_date=2023-07-09\n"
     ]
    },
    {
     "name": "stderr",
     "output_type": "stream",
     "text": [
      "\n"
     ]
    },
    {
     "name": "stdout",
     "output_type": "stream",
     "text": [
      "Files:  ['part_000.gz']\n"
     ]
    },
    {
     "name": "stderr",
     "output_type": "stream",
     "text": [
      "152it [00:00, 1677.62it/s]"
     ]
    },
    {
     "name": "stdout",
     "output_type": "stream",
     "text": [
      "folder:  updated_date=2023-07-10\n"
     ]
    },
    {
     "name": "stderr",
     "output_type": "stream",
     "text": [
      "\n"
     ]
    },
    {
     "name": "stdout",
     "output_type": "stream",
     "text": [
      "Files:  ['part_000.gz']\n"
     ]
    },
    {
     "name": "stderr",
     "output_type": "stream",
     "text": [
      "3022it [00:00, 13939.90it/s]"
     ]
    },
    {
     "name": "stdout",
     "output_type": "stream",
     "text": [
      "folder:  updated_date=2023-07-11\n"
     ]
    },
    {
     "name": "stderr",
     "output_type": "stream",
     "text": [
      "\n"
     ]
    },
    {
     "name": "stdout",
     "output_type": "stream",
     "text": [
      "Files:  ['part_000.gz']\n"
     ]
    },
    {
     "name": "stderr",
     "output_type": "stream",
     "text": [
      "212it [00:00, 4693.72it/s]"
     ]
    },
    {
     "name": "stdout",
     "output_type": "stream",
     "text": [
      "folder:  updated_date=2023-07-12\n"
     ]
    },
    {
     "name": "stderr",
     "output_type": "stream",
     "text": [
      "\n"
     ]
    },
    {
     "name": "stdout",
     "output_type": "stream",
     "text": [
      "Files:  ['part_000.gz']\n"
     ]
    },
    {
     "name": "stderr",
     "output_type": "stream",
     "text": [
      "181it [00:00, 4885.23it/s]"
     ]
    },
    {
     "name": "stdout",
     "output_type": "stream",
     "text": [
      "folder:  updated_date=2023-07-13\n"
     ]
    },
    {
     "name": "stderr",
     "output_type": "stream",
     "text": [
      "\n"
     ]
    },
    {
     "name": "stdout",
     "output_type": "stream",
     "text": [
      "Files:  ['part_000.gz']\n"
     ]
    },
    {
     "name": "stderr",
     "output_type": "stream",
     "text": [
      "546it [00:00, 4619.98it/s]"
     ]
    },
    {
     "name": "stdout",
     "output_type": "stream",
     "text": [
      "folder:  updated_date=2023-07-14\n"
     ]
    },
    {
     "name": "stderr",
     "output_type": "stream",
     "text": [
      "\n"
     ]
    },
    {
     "name": "stdout",
     "output_type": "stream",
     "text": [
      "Files:  ['part_000.gz']\n"
     ]
    },
    {
     "name": "stderr",
     "output_type": "stream",
     "text": [
      "591it [00:00, 10748.05it/s]"
     ]
    },
    {
     "name": "stdout",
     "output_type": "stream",
     "text": [
      "folder:  updated_date=2023-07-15\n"
     ]
    },
    {
     "name": "stderr",
     "output_type": "stream",
     "text": [
      "\n"
     ]
    },
    {
     "name": "stdout",
     "output_type": "stream",
     "text": [
      "Files:  ['part_000.gz']\n"
     ]
    },
    {
     "name": "stderr",
     "output_type": "stream",
     "text": [
      "166it [00:00, 7597.05it/s]"
     ]
    },
    {
     "name": "stdout",
     "output_type": "stream",
     "text": [
      "folder:  updated_date=2023-07-16\n"
     ]
    },
    {
     "name": "stderr",
     "output_type": "stream",
     "text": [
      "\n"
     ]
    },
    {
     "name": "stdout",
     "output_type": "stream",
     "text": [
      "Files:  ['part_000.gz']\n"
     ]
    },
    {
     "name": "stderr",
     "output_type": "stream",
     "text": [
      "233it [00:00, 8090.61it/s]"
     ]
    },
    {
     "name": "stdout",
     "output_type": "stream",
     "text": [
      "folder:  updated_date=2023-07-17\n"
     ]
    },
    {
     "name": "stderr",
     "output_type": "stream",
     "text": [
      "\n"
     ]
    },
    {
     "name": "stdout",
     "output_type": "stream",
     "text": [
      "Files:  ['part_000.gz']\n"
     ]
    },
    {
     "name": "stderr",
     "output_type": "stream",
     "text": [
      "3981it [00:00, 13770.47it/s]"
     ]
    },
    {
     "name": "stdout",
     "output_type": "stream",
     "text": [
      "folder:  updated_date=2023-07-18\n"
     ]
    },
    {
     "name": "stderr",
     "output_type": "stream",
     "text": [
      "\n"
     ]
    },
    {
     "name": "stdout",
     "output_type": "stream",
     "text": [
      "Files:  ['part_000.gz']\n"
     ]
    },
    {
     "name": "stderr",
     "output_type": "stream",
     "text": [
      "252it [00:00, 4767.82it/s]"
     ]
    },
    {
     "name": "stdout",
     "output_type": "stream",
     "text": [
      "folder:  updated_date=2023-07-19\n"
     ]
    },
    {
     "name": "stderr",
     "output_type": "stream",
     "text": [
      "\n"
     ]
    },
    {
     "name": "stdout",
     "output_type": "stream",
     "text": [
      "Files:  ['part_000.gz']\n"
     ]
    },
    {
     "name": "stderr",
     "output_type": "stream",
     "text": [
      "225it [00:00, 3254.35it/s]"
     ]
    },
    {
     "name": "stdout",
     "output_type": "stream",
     "text": [
      "folder:  updated_date=2023-07-20\n"
     ]
    },
    {
     "name": "stderr",
     "output_type": "stream",
     "text": [
      "\n"
     ]
    },
    {
     "name": "stdout",
     "output_type": "stream",
     "text": [
      "Files:  ['part_000.gz']\n"
     ]
    },
    {
     "name": "stderr",
     "output_type": "stream",
     "text": [
      "180it [00:00, 2995.98it/s]"
     ]
    },
    {
     "name": "stdout",
     "output_type": "stream",
     "text": [
      "folder:  updated_date=2023-07-21\n"
     ]
    },
    {
     "name": "stderr",
     "output_type": "stream",
     "text": [
      "\n"
     ]
    },
    {
     "name": "stdout",
     "output_type": "stream",
     "text": [
      "Files:  ['part_000.gz']\n"
     ]
    },
    {
     "name": "stderr",
     "output_type": "stream",
     "text": [
      "23it [00:00, 1447.31it/s]"
     ]
    },
    {
     "name": "stdout",
     "output_type": "stream",
     "text": [
      "folder:  updated_date=2023-07-22\n"
     ]
    },
    {
     "name": "stderr",
     "output_type": "stream",
     "text": [
      "\n"
     ]
    },
    {
     "name": "stdout",
     "output_type": "stream",
     "text": [
      "Files:  ['part_000.gz']\n"
     ]
    },
    {
     "name": "stderr",
     "output_type": "stream",
     "text": [
      "334it [00:00, 5236.32it/s]\n"
     ]
    },
    {
     "name": "stdout",
     "output_type": "stream",
     "text": [
      "folder:  updated_date=2023-07-23\n",
      "Files:  ['part_000.gz']\n"
     ]
    },
    {
     "name": "stderr",
     "output_type": "stream",
     "text": [
      "370it [00:00, 2056.16it/s]"
     ]
    },
    {
     "name": "stdout",
     "output_type": "stream",
     "text": [
      "folder:  updated_date=2023-07-24\n"
     ]
    },
    {
     "name": "stderr",
     "output_type": "stream",
     "text": [
      "\n"
     ]
    },
    {
     "name": "stdout",
     "output_type": "stream",
     "text": [
      "Files:  ['part_000.gz']\n"
     ]
    },
    {
     "name": "stderr",
     "output_type": "stream",
     "text": [
      "4368it [00:00, 15414.80it/s]"
     ]
    },
    {
     "name": "stdout",
     "output_type": "stream",
     "text": [
      "folder:  updated_date=2023-07-25\n"
     ]
    },
    {
     "name": "stderr",
     "output_type": "stream",
     "text": [
      "\n"
     ]
    },
    {
     "name": "stdout",
     "output_type": "stream",
     "text": [
      "Files:  ['part_000.gz']\n"
     ]
    },
    {
     "name": "stderr",
     "output_type": "stream",
     "text": [
      "912it [00:00, 11120.88it/s]"
     ]
    },
    {
     "name": "stdout",
     "output_type": "stream",
     "text": [
      "folder:  updated_date=2023-07-26\n"
     ]
    },
    {
     "name": "stderr",
     "output_type": "stream",
     "text": [
      "\n"
     ]
    },
    {
     "name": "stdout",
     "output_type": "stream",
     "text": [
      "Files:  ['part_000.gz']\n"
     ]
    },
    {
     "name": "stderr",
     "output_type": "stream",
     "text": [
      "515it [00:00, 8016.84it/s]"
     ]
    },
    {
     "name": "stdout",
     "output_type": "stream",
     "text": [
      "folder:  updated_date=2023-07-27\n"
     ]
    },
    {
     "name": "stderr",
     "output_type": "stream",
     "text": [
      "\n"
     ]
    },
    {
     "name": "stdout",
     "output_type": "stream",
     "text": [
      "Files:  ['part_000.gz']\n"
     ]
    },
    {
     "name": "stderr",
     "output_type": "stream",
     "text": [
      "2085it [00:00, 15398.03it/s]"
     ]
    },
    {
     "name": "stdout",
     "output_type": "stream",
     "text": [
      "folder:  updated_date=2023-07-28\n"
     ]
    },
    {
     "name": "stderr",
     "output_type": "stream",
     "text": [
      "\n"
     ]
    },
    {
     "name": "stdout",
     "output_type": "stream",
     "text": [
      "Files:  ['part_000.gz']\n"
     ]
    },
    {
     "name": "stderr",
     "output_type": "stream",
     "text": [
      "93it [00:00, 4388.48it/s]"
     ]
    },
    {
     "name": "stdout",
     "output_type": "stream",
     "text": [
      "folder:  updated_date=2023-07-29\n"
     ]
    },
    {
     "name": "stderr",
     "output_type": "stream",
     "text": [
      "\n"
     ]
    },
    {
     "name": "stdout",
     "output_type": "stream",
     "text": [
      "Files:  ['part_000.gz']\n"
     ]
    },
    {
     "name": "stderr",
     "output_type": "stream",
     "text": [
      "1it [00:00, 19.08it/s]"
     ]
    },
    {
     "name": "stdout",
     "output_type": "stream",
     "text": [
      "folder:  updated_date=2023-07-30\n"
     ]
    },
    {
     "name": "stderr",
     "output_type": "stream",
     "text": [
      "\n"
     ]
    },
    {
     "name": "stdout",
     "output_type": "stream",
     "text": [
      "Files:  ['part_000.gz']\n"
     ]
    },
    {
     "name": "stderr",
     "output_type": "stream",
     "text": [
      "37it [00:00, 4987.44it/s]"
     ]
    },
    {
     "name": "stdout",
     "output_type": "stream",
     "text": [
      "folder:  updated_date=2023-07-31\n"
     ]
    },
    {
     "name": "stderr",
     "output_type": "stream",
     "text": [
      "\n"
     ]
    },
    {
     "name": "stdout",
     "output_type": "stream",
     "text": [
      "Files:  ['part_000.gz']\n"
     ]
    },
    {
     "name": "stderr",
     "output_type": "stream",
     "text": [
      "2336it [00:00, 10303.00it/s]"
     ]
    },
    {
     "name": "stdout",
     "output_type": "stream",
     "text": [
      "folder:  updated_date=2023-08-01\n"
     ]
    },
    {
     "name": "stderr",
     "output_type": "stream",
     "text": [
      "\n"
     ]
    },
    {
     "name": "stdout",
     "output_type": "stream",
     "text": [
      "Files:  ['part_000.gz']\n"
     ]
    },
    {
     "name": "stderr",
     "output_type": "stream",
     "text": [
      "18it [00:00, 711.53it/s]"
     ]
    },
    {
     "name": "stdout",
     "output_type": "stream",
     "text": [
      "folder:  updated_date=2023-08-02\n"
     ]
    },
    {
     "name": "stderr",
     "output_type": "stream",
     "text": [
      "\n"
     ]
    },
    {
     "name": "stdout",
     "output_type": "stream",
     "text": [
      "Files:  ['part_000.gz']\n"
     ]
    },
    {
     "name": "stderr",
     "output_type": "stream",
     "text": [
      "433it [00:00, 8734.48it/s]"
     ]
    },
    {
     "name": "stdout",
     "output_type": "stream",
     "text": [
      "folder:  updated_date=2023-08-03\n"
     ]
    },
    {
     "name": "stderr",
     "output_type": "stream",
     "text": [
      "\n"
     ]
    },
    {
     "name": "stdout",
     "output_type": "stream",
     "text": [
      "Files:  ['part_000.gz']\n"
     ]
    },
    {
     "name": "stderr",
     "output_type": "stream",
     "text": [
      "1840it [00:00, 15090.52it/s]"
     ]
    },
    {
     "name": "stdout",
     "output_type": "stream",
     "text": [
      "folder:  updated_date=2023-08-04\n"
     ]
    },
    {
     "name": "stderr",
     "output_type": "stream",
     "text": [
      "\n"
     ]
    },
    {
     "name": "stdout",
     "output_type": "stream",
     "text": [
      "Files:  ['part_000.gz']\n"
     ]
    },
    {
     "name": "stderr",
     "output_type": "stream",
     "text": [
      "1310it [00:00, 13833.70it/s]"
     ]
    },
    {
     "name": "stdout",
     "output_type": "stream",
     "text": [
      "folder:  updated_date=2023-08-05\n"
     ]
    },
    {
     "name": "stderr",
     "output_type": "stream",
     "text": [
      "\n"
     ]
    },
    {
     "name": "stdout",
     "output_type": "stream",
     "text": [
      "Files:  ['part_000.gz']\n"
     ]
    },
    {
     "name": "stderr",
     "output_type": "stream",
     "text": [
      "1218it [00:00, 10922.55it/s]"
     ]
    },
    {
     "name": "stdout",
     "output_type": "stream",
     "text": [
      "folder:  updated_date=2023-08-06\n"
     ]
    },
    {
     "name": "stderr",
     "output_type": "stream",
     "text": [
      "\n"
     ]
    },
    {
     "name": "stdout",
     "output_type": "stream",
     "text": [
      "Files:  ['part_000.gz']\n"
     ]
    },
    {
     "name": "stderr",
     "output_type": "stream",
     "text": [
      "582it [00:00, 8641.47it/s]"
     ]
    },
    {
     "name": "stdout",
     "output_type": "stream",
     "text": [
      "folder:  updated_date=2023-08-07\n"
     ]
    },
    {
     "name": "stderr",
     "output_type": "stream",
     "text": [
      "\n"
     ]
    },
    {
     "name": "stdout",
     "output_type": "stream",
     "text": [
      "Files:  ['part_000.gz']\n"
     ]
    },
    {
     "name": "stderr",
     "output_type": "stream",
     "text": [
      "9811it [00:00, 12984.26it/s]"
     ]
    },
    {
     "name": "stdout",
     "output_type": "stream",
     "text": [
      "folder:  updated_date=2023-08-08\n"
     ]
    },
    {
     "name": "stderr",
     "output_type": "stream",
     "text": [
      "\n"
     ]
    },
    {
     "name": "stdout",
     "output_type": "stream",
     "text": [
      "Files:  ['part_000.gz']\n"
     ]
    },
    {
     "name": "stderr",
     "output_type": "stream",
     "text": [
      "4136it [00:00, 14670.15it/s]"
     ]
    },
    {
     "name": "stdout",
     "output_type": "stream",
     "text": [
      "folder:  updated_date=2023-08-09\n"
     ]
    },
    {
     "name": "stderr",
     "output_type": "stream",
     "text": [
      "\n"
     ]
    },
    {
     "name": "stdout",
     "output_type": "stream",
     "text": [
      "Files:  ['part_000.gz']\n"
     ]
    },
    {
     "name": "stderr",
     "output_type": "stream",
     "text": [
      "2136it [00:00, 16091.35it/s]"
     ]
    },
    {
     "name": "stdout",
     "output_type": "stream",
     "text": [
      "folder:  updated_date=2023-08-10\n"
     ]
    },
    {
     "name": "stderr",
     "output_type": "stream",
     "text": [
      "\n"
     ]
    },
    {
     "name": "stdout",
     "output_type": "stream",
     "text": [
      "Files:  ['part_000.gz']\n"
     ]
    },
    {
     "name": "stderr",
     "output_type": "stream",
     "text": [
      "1990it [00:00, 11515.75it/s]"
     ]
    },
    {
     "name": "stdout",
     "output_type": "stream",
     "text": [
      "folder:  updated_date=2023-08-11\n"
     ]
    },
    {
     "name": "stderr",
     "output_type": "stream",
     "text": [
      "\n"
     ]
    },
    {
     "name": "stdout",
     "output_type": "stream",
     "text": [
      "Files:  ['part_000.gz']\n"
     ]
    },
    {
     "name": "stderr",
     "output_type": "stream",
     "text": [
      "883it [00:00, 13114.81it/s]"
     ]
    },
    {
     "name": "stdout",
     "output_type": "stream",
     "text": [
      "folder:  updated_date=2023-08-12\n"
     ]
    },
    {
     "name": "stderr",
     "output_type": "stream",
     "text": [
      "\n"
     ]
    },
    {
     "name": "stdout",
     "output_type": "stream",
     "text": [
      "Files:  ['part_000.gz']\n"
     ]
    },
    {
     "name": "stderr",
     "output_type": "stream",
     "text": [
      "1283it [00:00, 10708.53it/s]"
     ]
    },
    {
     "name": "stdout",
     "output_type": "stream",
     "text": [
      "folder:  updated_date=2023-08-13\n"
     ]
    },
    {
     "name": "stderr",
     "output_type": "stream",
     "text": [
      "\n"
     ]
    },
    {
     "name": "stdout",
     "output_type": "stream",
     "text": [
      "Files:  ['part_000.gz']\n"
     ]
    },
    {
     "name": "stderr",
     "output_type": "stream",
     "text": [
      "2751it [00:00, 11055.77it/s]"
     ]
    },
    {
     "name": "stdout",
     "output_type": "stream",
     "text": [
      "folder:  updated_date=2023-08-14\n"
     ]
    },
    {
     "name": "stderr",
     "output_type": "stream",
     "text": [
      "\n"
     ]
    },
    {
     "name": "stdout",
     "output_type": "stream",
     "text": [
      "Files:  ['part_000.gz']\n"
     ]
    },
    {
     "name": "stderr",
     "output_type": "stream",
     "text": [
      "30513it [00:02, 12548.49it/s]"
     ]
    },
    {
     "name": "stdout",
     "output_type": "stream",
     "text": [
      "folder:  updated_date=2023-08-15\n"
     ]
    },
    {
     "name": "stderr",
     "output_type": "stream",
     "text": [
      "\n"
     ]
    },
    {
     "name": "stdout",
     "output_type": "stream",
     "text": [
      "Files:  ['part_000.gz']\n"
     ]
    },
    {
     "name": "stderr",
     "output_type": "stream",
     "text": [
      "9201it [00:00, 12777.43it/s]"
     ]
    },
    {
     "name": "stdout",
     "output_type": "stream",
     "text": [
      "folder:  updated_date=2023-08-16\n"
     ]
    },
    {
     "name": "stderr",
     "output_type": "stream",
     "text": [
      "\n"
     ]
    },
    {
     "name": "stdout",
     "output_type": "stream",
     "text": [
      "Files:  ['part_000.gz']\n"
     ]
    },
    {
     "name": "stderr",
     "output_type": "stream",
     "text": [
      "12980it [00:01, 11399.11it/s]"
     ]
    },
    {
     "name": "stdout",
     "output_type": "stream",
     "text": [
      "folder:  updated_date=2023-08-17\n"
     ]
    },
    {
     "name": "stderr",
     "output_type": "stream",
     "text": [
      "\n"
     ]
    },
    {
     "name": "stdout",
     "output_type": "stream",
     "text": [
      "Files:  ['part_000.gz']\n"
     ]
    },
    {
     "name": "stderr",
     "output_type": "stream",
     "text": [
      "18844it [00:01, 11487.33it/s]\n"
     ]
    },
    {
     "name": "stdout",
     "output_type": "stream",
     "text": [
      "Time: 26.526280403137207\n"
     ]
    }
   ],
   "source": [
    "import gzip\n",
    "\n",
    "\n",
    "#create dictionary \n",
    "dic = {}\n",
    "\n",
    "start = time.time()\n",
    "\n",
    "## search in each folder\n",
    "\n",
    "for folder in list_folders_sources:\n",
    "    \n",
    "    print(\"folder: \" , folder)\n",
    "    \n",
    "    ##get the files in the folder\n",
    "    \n",
    "    files = ! ls {main_path + data}/sources/{folder}\n",
    "    print(\"Files: \" , files)\n",
    "    \n",
    "    ##search in each file in the folder \n",
    "    for file in files:\n",
    "        \n",
    "        ##unzip file\n",
    "        with gzip.open(main_path + data +\"/sources/\" + folder + \"/\" + file, 'rb') as f:\n",
    "\n",
    "\n",
    "            #fill out the intermediate dictionary \n",
    "            for line in tqdm(f):\n",
    "                line = json.loads(line)\n",
    "                \n",
    "                source_id = line[\"id\"][21:]\n",
    "                \n",
    "                   \n",
    "                dic[source_id] = {}\n",
    "                dic[source_id][\"journalname\"] = line[\"display_name\"]\n",
    "                dic[source_id][\"issn_l\"] = line[\"issn_l\"]\n",
    "                \n",
    "                     \n",
    "\n",
    "table = pd.DataFrame(dic).T\n",
    "table.to_csv(path + \"OA_sources.tsv\", sep = \"\\t\", index_label = \"journalid\")\n",
    "               \n",
    "            \n",
    "end = time.time()\n",
    "print(\"Time:\" , end - start) \n",
    "\n"
   ]
  },
  {
   "cell_type": "code",
   "execution_count": 22,
   "id": "832e3acd-ce32-43f7-96e8-019725316cd1",
   "metadata": {},
   "outputs": [],
   "source": [
    "table = pd.read_csv(path + \"OA_sources.tsv\", delimiter = \"\\t\")\n"
   ]
  }
 ],
 "metadata": {
  "kernelspec": {
   "display_name": "Python 3 (ipykernel)",
   "language": "python",
   "name": "python3"
  },
  "language_info": {
   "codemirror_mode": {
    "name": "ipython",
    "version": 3
   },
   "file_extension": ".py",
   "mimetype": "text/x-python",
   "name": "python",
   "nbconvert_exporter": "python",
   "pygments_lexer": "ipython3",
   "version": "3.9.12"
  }
 },
 "nbformat": 4,
 "nbformat_minor": 5
}
