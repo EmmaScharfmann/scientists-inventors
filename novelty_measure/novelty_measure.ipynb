{
 "cells": [
  {
   "cell_type": "code",
   "execution_count": 26,
   "id": "c147da65-d924-4f6a-a301-3b17afb8f6fd",
   "metadata": {},
   "outputs": [],
   "source": [
    "import pandas as pd\n",
    "from tqdm import tqdm\n",
    "import psycopg2\n",
    "import numpy as np \n",
    "import matplotlib.pyplot as plt \n",
    "\n",
    "main_path = \"/home/fs01/spec1142/Emma/GateKeepers/\"\n",
    "\n",
    "f = open(main_path + \"database.txt\", \"r\")\n",
    "user , password = f.read().split()"
   ]
  },
  {
   "cell_type": "markdown",
   "id": "87fb6d33-4217-491c-8369-e206247e027b",
   "metadata": {},
   "source": [
    "# Patents"
   ]
  },
  {
   "cell_type": "markdown",
   "id": "ba5f7692-49dd-4288-94cb-b51b286db5c7",
   "metadata": {
    "jp-MarkdownHeadingCollapsed": true
   },
   "source": [
    "## Generate embedded abstracts files by year - patents "
   ]
  },
  {
   "cell_type": "code",
   "execution_count": 5,
   "id": "b9d363c1-0494-4ac9-8da2-58d1c1db0402",
   "metadata": {},
   "outputs": [],
   "source": [
    "## tranform string into vector\n",
    "def clean_encoding(encoded_text):\n",
    "    if encoded_text == None:\n",
    "        return None\n",
    "    else:\n",
    "        if \"\\n\" in encoded_text:\n",
    "            encoded_text = encoded_text.replace(\"\\n\" , \"\")\n",
    "        encoded_text = encoded_text[1:-1]\n",
    "        encoded_text = list(map(float , encoded_text.split()))\n",
    "        return encoded_text"
   ]
  },
  {
   "cell_type": "code",
   "execution_count": 12,
   "id": "b0e0ae33-fe62-4402-aa0b-8f7de8bb0a98",
   "metadata": {},
   "outputs": [],
   "source": [
    "def get_patent_array(year):\n",
    "    \n",
    "    #establishing the connection\n",
    "    conn = psycopg2.connect(\"user=\" + user + \" password=\" + password)\n",
    "    \n",
    "    #Creating a cursor object using the cursor() method\n",
    "    cursor = conn.cursor()\n",
    "    \n",
    "    \n",
    "    #query all abstracts of patents granted in the given year\n",
    "    sql =\"\"\"SELECT ep.patent_id , ep.encoded_abstract\n",
    "            FROM encoded_patents_patentsview AS ep\n",
    "            JOIN patents_PatentsView AS p ON p.patent_id = ep.patent_id\n",
    "            WHERE EXTRACT('year' from p.patent_date) = \"\"\" + str(year) + \"\"\" \n",
    "            AND p.patent_abstract != '';\"\"\"\n",
    "    cursor.execute(sql)\n",
    "    result = cursor.fetchall()\n",
    "\n",
    "    ## print number of patents in the given year\n",
    "    size = len(result)\n",
    "    print(\"Number of patents in \" + str(year) ,size)\n",
    "\n",
    "    ## store abstracts in an array array (type: float16 to lower the file size)\n",
    "    ## shape = ( size , 385 ) \n",
    "    array_abstract = np.zeros((size,384),dtype=np.float16)\n",
    "    for k in tqdm(range(size)):\n",
    "        try:\n",
    "            array_abstract[k] = clean_encoding(result[k][1])\n",
    "        except:\n",
    "            continue\n",
    "\n",
    "    ## store the patent number in another array \n",
    "    ## shape = ( size, )\n",
    "    array_patents = np.array([ \"US-\" + elem[0] for elem in result])\n",
    "\n",
    "    ## save files \n",
    "    np.save(main_path + 'novelty_measure/data/patents_abstracts/abstracts' + str(year) + '.npy' , array_abstract)\n",
    "    np.save(main_path + 'novelty_measure/data/patents_abstracts/patents' + str(year) + '.npy' , array_patents)\n",
    "\n",
    "    #Closing the connection\n",
    "    conn.close()"
   ]
  },
  {
   "cell_type": "code",
   "execution_count": null,
   "id": "8d19a42b-2dcf-4d8a-88f8-5321dc95c694",
   "metadata": {},
   "outputs": [],
   "source": [
    "## parallelize the code \n",
    "\n",
    "import warnings   \n",
    "from multiprocessing import Process\n",
    "\n",
    "if __name__ == '__main__':\n",
    "    with warnings.catch_warnings():\n",
    "        warnings.simplefilter(\"ignore\",UserWarning)\n",
    "        \n",
    "        processes = [Process(target=get_patent_array, args=(k,)) for k in range(1976,2024)]\n",
    "        \n",
    "        for process in processes:\n",
    "            process.start()\n",
    "            \n",
    "        for process in processes:\n",
    "            process.join()"
   ]
  },
  {
   "cell_type": "markdown",
   "id": "e4087468-4aca-4c75-86af-54dd27e5499a",
   "metadata": {},
   "source": [
    "## Calculate patents novelty "
   ]
  },
  {
   "cell_type": "code",
   "execution_count": 13,
   "id": "e507c74c-d066-4c89-b40a-ba651471d544",
   "metadata": {},
   "outputs": [],
   "source": [
    "## load array with patent abstracts \n",
    "## note that first_year and last_year are INCLUDED.\n",
    "\n",
    "def load_arrays(first_year , last_year):\n",
    "    \n",
    "    array_abstract = np.concatenate([  np.load(main_path + 'novelty_measure/data/patents_abstracts/abstracts' + str(year) + '.npy') for year in range(first_year , last_year + 1)])\n",
    "    array_patents = np.concatenate([  np.load(main_path + 'novelty_measure/data/patents_abstracts/patents' + str(year) + '.npy') for year in range(first_year , last_year + 1)])\n",
    "\n",
    "    return array_abstract, array_patents"
   ]
  },
  {
   "cell_type": "code",
   "execution_count": 14,
   "id": "81f81b2b-f195-4fb7-8ee2-9540c018b17a",
   "metadata": {},
   "outputs": [],
   "source": [
    "## tranform string into vector\n",
    "def clean_encoding(encoded_text):\n",
    "    if encoded_text == None:\n",
    "        return None\n",
    "    else:\n",
    "        if \"\\n\" in encoded_text:\n",
    "            encoded_text = encoded_text.replace(\"\\n\" , \"\")\n",
    "        encoded_text = encoded_text[1:-1]\n",
    "        encoded_text = list(map(float , encoded_text.split()))\n",
    "        return encoded_text"
   ]
  },
  {
   "cell_type": "code",
   "execution_count": 16,
   "id": "fa7c7579-2fe3-438e-82df-b90e781cd2a5",
   "metadata": {},
   "outputs": [
    {
     "name": "stderr",
     "output_type": "stream",
     "text": [
      "  0%|                                                    | 0/44 [00:00<?, ?it/s]/tmp/ipykernel_57077/3775586661.py:17: FutureWarning: The behavior of DataFrame concatenation with empty or all-NA entries is deprecated. In a future version, this will no longer exclude empty or all-NA columns when determining the result dtypes. To retain the old behavior, exclude the relevant entries before the concat operation.\n",
      "  df = pd.concat([df , df_new])\n",
      "100%|███████████████████████████████████████████| 44/44 [03:07<00:00,  4.26s/it]\n"
     ]
    }
   ],
   "source": [
    "df = pd.DataFrame(columns = [ 'patent','novelty'] )\n",
    "\n",
    "for year in tqdm(range(1980,2024)):\n",
    "    df_new = pd.DataFrame()\n",
    "    \n",
    "    first_year , last_year = max(1976,year-6),year-1\n",
    "    old_knowlegde, old_patents = load_arrays(first_year , last_year)\n",
    "    average_knowlegde = old_knowlegde.mean(axis=0)\n",
    "\n",
    "    first_year , last_year = year,year\n",
    "    new_knowlegde, new_patents = load_arrays(first_year , last_year)\n",
    "    novelty = new_knowlegde.dot(average_knowlegde)\n",
    "\n",
    "    df_new['patent'] = new_patents\n",
    "    df_new['year'] = year\n",
    "    df_new['novelty'] = novelty\n",
    "    df = pd.concat([df , df_new])\n",
    "    \n",
    "df.to_csv(main_path + 'novelty_measure/data/novelty_patents.tsv', sep = \"\\t\")"
   ]
  },
  {
   "cell_type": "markdown",
   "id": "2b94338f-4c7c-4f55-93f4-06ab4a8ea0ac",
   "metadata": {
    "jp-MarkdownHeadingCollapsed": true
   },
   "source": [
    "# Papers"
   ]
  },
  {
   "cell_type": "markdown",
   "id": "80b0d0e5-367a-4719-a176-d8b5ce6e1f41",
   "metadata": {
    "jp-MarkdownHeadingCollapsed": true
   },
   "source": [
    "## Generate embedded abstracts files by year - papers "
   ]
  },
  {
   "cell_type": "code",
   "execution_count": 32,
   "id": "72c56c08-18cd-4aeb-979b-a539d391e674",
   "metadata": {},
   "outputs": [],
   "source": [
    "## tranform string into vector\n",
    "def clean_encoding(encoded_text):\n",
    "    if encoded_text == None:\n",
    "        return None\n",
    "    else:\n",
    "        if \"\\n\" in encoded_text:\n",
    "            encoded_text = encoded_text.replace(\"\\n\" , \"\")\n",
    "        encoded_text = encoded_text[1:-1]\n",
    "        encoded_text = list(map(float , encoded_text.split()))\n",
    "        return encoded_text\n",
    "        \n",
    "\n",
    "def get_papers_array(year):\n",
    "    \n",
    "    \n",
    "    #establishing the connection\n",
    "    conn = psycopg2.connect(\"user=\" + user + \" password=\" + password)\n",
    "    \n",
    "    #Creating a cursor object using the cursor() method\n",
    "    cursor = conn.cursor()\n",
    "    \n",
    "    \n",
    "    #query all abstracts of papers published in the given year\n",
    "    sql =\"\"\"SELECT w.work_id , ew.encoded_abstract, w.publication_date\n",
    "        FROM encoded_works_OpenAlex AS ew\n",
    "        JOIN works_Openalex AS w ON w.work_id = ew.work_id\n",
    "        WHERE EXTRACT('year' from w.publication_date) = \"\"\" + str(year) + \"\"\"\n",
    "        AND ew.encoded_abstract != '' \n",
    "        ; \"\"\"\n",
    "\n",
    "    cursor.execute(sql)\n",
    "    result = cursor.fetchall()\n",
    "\n",
    "    ## print number of patents in the given year\n",
    "    size = len(result)\n",
    "    print(\"Number of patents in \" + str(year) ,size)\n",
    "\n",
    "    ## store abstracts in an array array (type: float16 to lower the file size)\n",
    "    ## shape = ( size , 385 ) \n",
    "    array_abstract = np.zeros((size,384), dtype='float16')\n",
    "    for k in tqdm(range(size)):\n",
    "        try:\n",
    "            array_abstract[k] = clean_encoding(result[k][1])\n",
    "        except:\n",
    "            continue\n",
    "\n",
    "    ## store the papers number in another array \n",
    "    ## shape = ( size, )\n",
    "    array_papers = np.array([ elem[0] for elem in result])\n",
    "\n",
    "    ## save files \n",
    "    np.save(main_path + 'novelty_measure/data/papers_abstracts/abstracts' + str(year) + '.npy' , array_abstract)\n",
    "    np.save(main_path + 'novelty_measure/data/papers_abstracts/papers' + str(year) + '.npy' , array_papers)\n",
    "\n",
    "    #Closing the connection\n",
    "    conn.close()\n",
    "\n"
   ]
  },
  {
   "cell_type": "code",
   "execution_count": null,
   "id": "cd15457b-bb9b-47d3-9ed2-92965d95d746",
   "metadata": {},
   "outputs": [],
   "source": [
    "## parallelize the code \n",
    "\n",
    "import warnings   \n",
    "from multiprocessing import Process\n",
    "\n",
    "if __name__ == '__main__':\n",
    "    with warnings.catch_warnings():\n",
    "        warnings.simplefilter(\"ignore\",UserWarning)\n",
    "        \n",
    "        processes = [Process(target=get_papers_array, args=(k,)) for k in range(1975,2024)]\n",
    "        \n",
    "        for process in processes:\n",
    "            process.start()\n",
    "            \n",
    "        for process in processes:\n",
    "            process.join()"
   ]
  },
  {
   "cell_type": "markdown",
   "id": "511ba039-26d0-403f-9a00-34cd0f935894",
   "metadata": {
    "jp-MarkdownHeadingCollapsed": true
   },
   "source": [
    "## Calculate papers novelty"
   ]
  },
  {
   "cell_type": "code",
   "execution_count": 3,
   "id": "2a25105a-99a4-41a2-a8a0-96a37d7850e1",
   "metadata": {},
   "outputs": [],
   "source": [
    "## load array with paper abstracts \n",
    "## note that first_year and last_year are INCLUDED.\n",
    "\n",
    "def load_arrays(first_year , last_year):\n",
    "    \n",
    "    array_abstract = np.concatenate([  np.load(main_path + 'novelty_measure/data/papers_abstracts/abstracts' + str(year) + '.npy') for year in range(first_year , last_year + 1)])\n",
    "    array_patents = np.concatenate([  np.load(main_path + 'novelty_measure/data/papers_abstracts/papers' + str(year) + '.npy') for year in range(first_year , last_year + 1)])\n",
    "\n",
    "    return array_abstract, array_patents"
   ]
  },
  {
   "cell_type": "code",
   "execution_count": 4,
   "id": "9baeefc1-4683-4bfe-b392-36f06fda5002",
   "metadata": {},
   "outputs": [],
   "source": [
    "## tranform string into vector\n",
    "def clean_encoding(encoded_text):\n",
    "    if encoded_text == None:\n",
    "        return None\n",
    "    else:\n",
    "        if \"\\n\" in encoded_text:\n",
    "            encoded_text = encoded_text.replace(\"\\n\" , \"\")\n",
    "        encoded_text = encoded_text[1:-1]\n",
    "        encoded_text = list(map(float , encoded_text.split()))\n",
    "        return encoded_text"
   ]
  },
  {
   "cell_type": "code",
   "execution_count": 5,
   "id": "39c7057c-108e-4596-b968-2c8ce08be3a7",
   "metadata": {},
   "outputs": [],
   "source": [
    "## calculate the novelty of the papers \n",
    "\n",
    "def novelty_papers(year):\n",
    "\n",
    "    ## load abstract papers of a given year\n",
    "    year_array_abstract, year_array_papers = load_arrays(year,year)\n",
    "\n",
    "    ## load abstracts of papers published in the 5 previous years (strict 5 previous years) \n",
    "    array_abstract, array_papers = load_arrays(max(1975,year-5) , year-1)\n",
    "\n",
    "    ## take the cosinus similarity between the papers of a given year and the average abstract of the 5 previous years. \n",
    "    old_knowledge = array_abstract.mean(axis = 0)\n",
    "    novelty = year_array_abstract.dot(old_knowledge)\n",
    "\n",
    "    ## store novelty score in a DataFrame\n",
    "    df_novelty = pd.DataFrame()\n",
    "    df_novelty['work_id'] = year_array_papers\n",
    "    df_novelty['novelty'] = novelty\n",
    "\n",
    "    ## store the DataFrame\n",
    "    df_novelty.to_csv(main_path + '/novelty_measure/data/novelty_papers/novelty_' + str(year) + '.tsv', sep = '\\t' , index = False)"
   ]
  },
  {
   "cell_type": "code",
   "execution_count": 8,
   "id": "52dbccbe-fbe7-429c-a6f1-b24a4f6572e4",
   "metadata": {},
   "outputs": [],
   "source": [
    "import warnings\n",
    "        \n",
    "from multiprocessing import Process\n",
    "\n",
    "if __name__ == '__main__':\n",
    "    with warnings.catch_warnings():\n",
    "        warnings.simplefilter(\"ignore\",UserWarning)\n",
    "        \n",
    "        processes = [Process(target=novelty_papers, args=(year,)) for year in range(1998,1999)]\n",
    "        \n",
    "        for process in processes:\n",
    "            process.start()\n",
    "            \n",
    "        for process in processes:\n",
    "            process.join()"
   ]
  },
  {
   "cell_type": "code",
   "execution_count": 9,
   "id": "d3e25ba1-a6de-498f-a5e8-8fcf4875031e",
   "metadata": {},
   "outputs": [],
   "source": [
    "novelty_files = pd.concat( [ pd.read_csv(main_path + '/novelty_measure/data/novelty_papers/novelty_' + str(year) + '.tsv', delimiter = '\\t') for year in range(1980,2023) ] )\n",
    "novelty_files = novelty_files.drop_duplicates('work_id')"
   ]
  },
  {
   "cell_type": "code",
   "execution_count": 10,
   "id": "aa9dfd7b-7cab-45f6-b5f5-db586b57b31f",
   "metadata": {},
   "outputs": [
    {
     "data": {
      "text/html": [
       "<div>\n",
       "<style scoped>\n",
       "    .dataframe tbody tr th:only-of-type {\n",
       "        vertical-align: middle;\n",
       "    }\n",
       "\n",
       "    .dataframe tbody tr th {\n",
       "        vertical-align: top;\n",
       "    }\n",
       "\n",
       "    .dataframe thead th {\n",
       "        text-align: right;\n",
       "    }\n",
       "</style>\n",
       "<table border=\"1\" class=\"dataframe\">\n",
       "  <thead>\n",
       "    <tr style=\"text-align: right;\">\n",
       "      <th></th>\n",
       "      <th>work_id</th>\n",
       "      <th>novelty</th>\n",
       "    </tr>\n",
       "  </thead>\n",
       "  <tbody>\n",
       "    <tr>\n",
       "      <th>0</th>\n",
       "      <td>W220796260</td>\n",
       "      <td>0.05844</td>\n",
       "    </tr>\n",
       "    <tr>\n",
       "      <th>1</th>\n",
       "      <td>W166027323</td>\n",
       "      <td>0.06696</td>\n",
       "    </tr>\n",
       "    <tr>\n",
       "      <th>2</th>\n",
       "      <td>W2146282595</td>\n",
       "      <td>0.01184</td>\n",
       "    </tr>\n",
       "    <tr>\n",
       "      <th>3</th>\n",
       "      <td>W347893063</td>\n",
       "      <td>0.07530</td>\n",
       "    </tr>\n",
       "    <tr>\n",
       "      <th>4</th>\n",
       "      <td>W4376860334</td>\n",
       "      <td>0.05905</td>\n",
       "    </tr>\n",
       "  </tbody>\n",
       "</table>\n",
       "</div>"
      ],
      "text/plain": [
       "       work_id  novelty\n",
       "0   W220796260  0.05844\n",
       "1   W166027323  0.06696\n",
       "2  W2146282595  0.01184\n",
       "3   W347893063  0.07530\n",
       "4  W4376860334  0.05905"
      ]
     },
     "execution_count": 10,
     "metadata": {},
     "output_type": "execute_result"
    }
   ],
   "source": [
    "novelty_files.head()"
   ]
  },
  {
   "cell_type": "code",
   "execution_count": 11,
   "id": "26f8e638-5873-4655-99d0-ba199fc8a84c",
   "metadata": {},
   "outputs": [],
   "source": [
    "novelty_files.to_csv(main_path + '/novelty_measure/data/novelty_papers_1980_2023.tsv', sep = \"\\t\")"
   ]
  },
  {
   "cell_type": "markdown",
   "id": "f38b2560-2628-4d03-b7e8-063cf52ba6df",
   "metadata": {
    "jp-MarkdownHeadingCollapsed": true
   },
   "source": [
    "# Novelty distributions"
   ]
  },
  {
   "cell_type": "markdown",
   "id": "8317c8b9-48bf-4a32-9640-538ff718e919",
   "metadata": {
    "jp-MarkdownHeadingCollapsed": true
   },
   "source": [
    "## Patents"
   ]
  },
  {
   "cell_type": "code",
   "execution_count": 12,
   "id": "c5e2adc6-22c7-47a9-a572-c5a331de4b60",
   "metadata": {},
   "outputs": [],
   "source": [
    "novelty_patents = pd.read_csv(main_path + 'novelty_measure/data/novelty_patents.tsv', sep = \"\\t\")"
   ]
  },
  {
   "cell_type": "code",
   "execution_count": 28,
   "id": "31036d82-3da3-4684-ab6f-1ec5113fc6e7",
   "metadata": {},
   "outputs": [
    {
     "data": {
      "text/plain": [
       "Text(0.5, 0, \"patent's novelty\")"
      ]
     },
     "execution_count": 28,
     "metadata": {},
     "output_type": "execute_result"
    },
    {
     "data": {
      "image/png": "[encoded data removed]",
      "text/plain": [
       "<Figure size 640x480 with 1 Axes>"
      ]
     },
     "metadata": {},
     "output_type": "display_data"
    }
   ],
   "source": [
    "novelty_patents[novelty_patents['novelty'] != 0]['novelty'].hist(bins=100)\n",
    "plt.xlabel(\"patent's novelty\")"
   ]
  },
  {
   "cell_type": "markdown",
   "id": "413d3080-2d99-479f-9ba8-b1fe04c78f42",
   "metadata": {},
   "source": [
    "## Papers"
   ]
  },
  {
   "cell_type": "code",
   "execution_count": null,
   "id": "863e052d-6bd6-4d8c-8739-7dec1ceb7da7",
   "metadata": {},
   "outputs": [],
   "source": [
    "novelty_papers - pd.read_csv(main_path + '/novelty_measure/data/novelty_papers_1980_2023.tsv', delimiter = \"\\t\", index_col = 0 )"
   ]
  },
  {
   "cell_type": "code",
   "execution_count": 27,
   "id": "1048c4b6-d0a7-4c4a-bff7-69f9286c4288",
   "metadata": {},
   "outputs": [
    {
     "data": {
      "text/plain": [
       "Text(0.5, 0, \"paper's novelty\")"
      ]
     },
     "execution_count": 27,
     "metadata": {},
     "output_type": "execute_result"
    },
    {
     "data": {
      "image/png": "[encoded data removed]",
      "text/plain": [
       "<Figure size 640x480 with 1 Axes>"
      ]
     },
     "metadata": {},
     "output_type": "display_data"
    }
   ],
   "source": [
    "novelty_papers['novelty'].hist(bins=100)\n",
    "plt.xlabel(\"paper's novelty\")"
   ]
  },
  {
   "cell_type": "code",
   "execution_count": null,
   "id": "6443e11d-b269-4a65-9878-3601788086fe",
   "metadata": {},
   "outputs": [],
   "source": []
  }
 ],
 "metadata": {
  "kernelspec": {
   "display_name": "Python 3 (ipykernel)",
   "language": "python",
   "name": "python3"
  },
  "language_info": {
   "codemirror_mode": {
    "name": "ipython",
    "version": 3
   },
   "file_extension": ".py",
   "mimetype": "text/x-python",
   "name": "python",
   "nbconvert_exporter": "python",
   "pygments_lexer": "ipython3",
   "version": "3.9.12"
  }
 },
 "nbformat": 4,
 "nbformat_minor": 5
}
